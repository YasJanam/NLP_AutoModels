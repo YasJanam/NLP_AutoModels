{
 "cells": [
  {
   "cell_type": "code",
   "execution_count": 1,
   "metadata": {
    "id": "jSoVeW5zNDEE"
   },
   "outputs": [],
   "source": [
    "from transformers import AutoModelForSeq2SeqLM"
   ]
  },
  {
   "cell_type": "code",
   "execution_count": null,
   "metadata": {
    "colab": {
     "base_uri": "https://localhost:8080/",
     "height": 237,
     "referenced_widgets": [
      "1843d68b00db4a1e934da5fbd2065b58",
      "b16bf8d3f2474754902f0bb4f4d74318",
      "2d3bc0fb432e4fb4a450013b61521f6c",
      "5d7715e09a8848768826f135f39734a2",
      "6d89e11b90a84b38a1ba7d5123b68176",
      "c16e7c3c814f48f8ab8783c4902aeb4c",
      "22335ce31e964b50af5d4c68826ea2cc",
      "5386b0e4eecb407f930840715c90c26c",
      "f8e120e868c449f682bfda1a7c1548b6",
      "2cbd50ce62f448d286753ed09d5d1a63",
      "65a97d4ab9ae4ea48346edd1c8fe7e42",
      "ec6e3b2bce564548afc15bb7090d22c9",
      "844d129ddc4048809ffe9a7292b1e32c",
      "13333288bd864abebeacfd1ccac40e1d",
      "7cc96c64b4174d84a6880aa2e58ca6ef",
      "79bf99309d3941b48868bb04ceebe975",
      "661272b899aa4b7a888eeea234705bb9",
      "7da2fe95b1ab4bce8a82b2729164276e",
      "c205d10e175745c18b70ac364c310cab",
      "dcb447e944a04fbab57f78093cdc3096",
      "295c794ea0e347638cb0a1eb22b47bd0",
      "325a12e55d984df5ba000bb042b4fdb1",
      "d9a5131fe2744696ac09ece3d903732d",
      "934d076902ca4083b549e9827170c0dd",
      "251051a3371c46639f2b4b77ab68f06d",
      "cc22837d3de74972bae0867a0773c0fc",
      "f96a5418469d485b9840882cfc348e12",
      "e547f8309acd4f7db4646904d7fc24ee",
      "e11a9f4ed4c349dcb288a4d694543afb",
      "43065f672e614c9ab9bcd785cdcf6f54",
      "a1478a748859416d9cd4d1b7507f9849",
      "79eb2309903d4d89830b616a6c75d117",
      "89e62475049c44aa9f07343f13b154c6"
     ]
    },
    "id": "N3JGgUyxNS8A",
    "outputId": "363f3507-f9ec-483c-cd8e-3182d176009d"
   },
   "outputs": [],
   "source": [
    "model_name = \"facebook/bart-large-cnn\"\n",
    "model = AutoModelForSeq2SeqLM.from_pretrained(model_name)"
   ]
  },
  {
   "cell_type": "markdown",
   "metadata": {
    "id": "vv-_HZ0XShNO"
   },
   "source": [
    "#### 🔵 **اطلاعاتک کلی مدل**"
   ]
  },
  {
   "cell_type": "code",
   "execution_count": 4,
   "metadata": {
    "id": "BECsspYjNoPq"
   },
   "outputs": [],
   "source": [
    "config = model.config"
   ]
  },
  {
   "cell_type": "code",
   "execution_count": 35,
   "metadata": {
    "colab": {
     "base_uri": "https://localhost:8080/"
    },
    "id": "AwbBKIhdODNm",
    "outputId": "5e629887-8da8-40e5-d0c3-9b14e8d1b3a9"
   },
   "outputs": [
    {
     "name": "stdout",
     "output_type": "stream",
     "text": [
      "مدل: bart\n",
      "تعداد لایه های انکودر: 12\n",
      "تعداد لایه های دیکودر: 12\n"
     ]
    }
   ],
   "source": [
    "print(f\"مدل: {config.model_type}\")\n",
    "print(f\"تعداد لایه های انکودر: {config.encoder_layers}\")\n",
    "print(f\"تعداد لایه های دیکودر: {config.decoder_layers}\")"
   ]
  },
  {
   "cell_type": "code",
   "execution_count": 32,
   "metadata": {
    "colab": {
     "base_uri": "https://localhost:8080/"
    },
    "id": "1u6qT--0Od5W",
    "outputId": "5ed14606-f088-4161-fba8-bff1b2c480eb"
   },
   "outputs": [
    {
     "name": "stdout",
     "output_type": "stream",
     "text": [
      "ابعاد مخفی ( Hidden Size ): 1024\n",
      "تعداد توجه ( Attention Heads ): 16\n",
      "اندازه واژگان ( Vocab Size ): 50264\n",
      "حداکثر طول توکن ( Max Position Embedding ): 1024\n"
     ]
    }
   ],
   "source": [
    "print(f\"ابعاد مخفی ( Hidden Size ): {config.d_model}\")\n",
    "print(f\"تعداد توجه ( Attention Heads ): {config.encoder_attention_heads}\")\n",
    "print(f\"اندازه واژگان ( Vocab Size ): {config.vocab_size}\")\n",
    "print(f\"حداکثر طول توکن ( Max Position Embedding ): {config.max_position_embeddings}\")"
   ]
  },
  {
   "cell_type": "code",
   "execution_count": 15,
   "metadata": {
    "colab": {
     "base_uri": "https://localhost:8080/"
    },
    "id": "ygvXYCD0Pp0Z",
    "outputId": "7acf15be-9f66-4e77-bbce-5cbd300127b9"
   },
   "outputs": [
    {
     "name": "stdout",
     "output_type": "stream",
     "text": [
      "استفاده از توجه متقاطع (Cross Attention): True\n"
     ]
    }
   ],
   "source": [
    "print(f\"استفاده از توجه متقاطع (Cross Attention): {config.use_cache}\")"
   ]
  }
 ],
 "metadata": {
  "cells": [],
  "kernelspec": {
   "display_name": "",
   "name": ""
  },
  "language_info": {
   "name": ""
  },
  "metadata": {
   "kernelspec": {
    "display_name": "Python 3",
    "language": "python",
    "name": "python3"
   },
   "language_info": {
    "name": "python",
    "version": "3.10.12"
   }
  },
  "nbformat": 4,
  "nbformat_minor": 5
 },
 "nbformat": 4,
 "nbformat_minor": 4
}
