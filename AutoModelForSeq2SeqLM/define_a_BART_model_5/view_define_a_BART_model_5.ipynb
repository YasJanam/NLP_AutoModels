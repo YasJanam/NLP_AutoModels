{
 "cells": [
  {
   "cell_type": "markdown",
   "metadata": {
    "id": "fcB8kyhDa8qi"
   },
   "source": [
    "### **BART-Model**"
   ]
  },
  {
   "cell_type": "markdown",
   "metadata": {
    "id": "Baz7ZyZWbBut"
   },
   "source": [
    " Defining a BART model with the Transformers library tools"
   ]
  },
  {
   "cell_type": "code",
   "execution_count": 1,
   "metadata": {
    "id": "zBqcLpG7KKIa"
   },
   "outputs": [],
   "source": [
    "from transformers import BartConfig, BartForConditionalGeneration, AutoTokenizer"
   ]
  },
  {
   "cell_type": "code",
   "execution_count": 2,
   "metadata": {
    "colab": {
     "base_uri": "https://localhost:8080/",
     "height": 269,
     "referenced_widgets": [
      "da07a8d0ab7847ceadb72881bd71bbe6",
      "dbfecaafad4140b48b8048e6d3931bd0",
      "f7ae9c941d6342468596440669aef90d",
      "d3350b6b627344f88717d23ce5d67e89",
      "1b4dcfe2ca184da397a709c16eb0f306",
      "b15567bedd2945dcb3111d0458c1c7d0",
      "ab0460fbf3ff44a08643dd09f1d9534d",
      "711a2a4df39042ba87f612945faa3742",
      "abf9b257cca84c2da61f5aa9f9711d6d",
      "5997d63bff1d4fec829bf76bf7b08632",
      "0224f5b94b824f85a410a273cac1e46f",
      "689b6cbb78dc409289d4dd679eb75954",
      "df68f61c95084e1996043e5eac731dfa",
      "10c19246a39b4030be3ccedc836cd628",
      "b3355409c53c4223b3d491fc624f1241",
      "5dde63d6ce9b47259bf6135b966e1a4a",
      "a5ac32e16a444d57a9523204f50616d5",
      "dd054fd0cbb74cc68ce0349095b4c7a5",
      "c61497fcf50f4dce8753f77430114439",
      "90a60c945e7342d5ab20c89106a2e4c2",
      "4a2031dffead496091c03b3dabc9baf7",
      "32ba7f23090e463bba86c9d502b077e0",
      "0e2a588b09be4585baafd7b61fa46bf1",
      "a40d5f0f416f443ebcf5ed06b675484a",
      "783ace1610884799bc1981a9ddf58367",
      "6fc1147b0ac14d59a54ee82105c64421",
      "45b15958f93d474298b9ecbcb15e2f4b",
      "806b8424c43744ed855c912e5b7aaee8",
      "d6467482e50e4acc9af49ba8805c68b3",
      "87cc4b79fc61412aab44cc5b95f61835",
      "3bc24e5adf6146eca292adfc808c75bc",
      "70821c3a8d2b4008b0a665ce061f25cd",
      "2ba149e7bcc048fa9ca2ddbf36ef40a1",
      "5817715b54aa4324b08e13f8ff5e8751",
      "d2d2d26854834e32b4f37046b16a300c",
      "554198089e3641d2aa2e071fa36b5ae3",
      "a92f5b829d964f528a9585d207d337be",
      "72c3e56075904c4fab3a7000461fe432",
      "994aa414f1274613b00cc0e59b307f56",
      "f3b8b6aa997940feb02d5aa7ff59fbd4",
      "92fa237f80ee4393b25e0892b9fc49c9",
      "40fe2933afea417f87821d1d8af5eb62",
      "49c812bedb164c759286cca45fa01b4c",
      "baeb79e1d6bb4db296785035721dc01e"
     ]
    },
    "id": "wUbtuEWDKiHr",
    "outputId": "09786fb4-cd72-4f70-f5b1-ec85f034a38b"
   },
   "outputs": [
    {
     "name": "stderr",
     "output_type": "stream",
     "text": [
      "/usr/local/lib/python3.12/dist-packages/huggingface_hub/utils/_auth.py:94: UserWarning: \n",
      "The secret `HF_TOKEN` does not exist in your Colab secrets.\n",
      "To authenticate with the Hugging Face Hub, create a token in your settings tab (https://huggingface.co/settings/tokens), set it as secret in your Google Colab and restart your session.\n",
      "You will be able to reuse this secret in all of your notebooks.\n",
      "Please note that authentication is recommended but still optional to access public models or datasets.\n",
      "  warnings.warn(\n"
     ]
    },
    {
     "data": {
      "application/vnd.jupyter.widget-view+json": {
       "model_id": "da07a8d0ab7847ceadb72881bd71bbe6",
       "version_major": 2,
       "version_minor": 0
      },
      "text/plain": [
       "config.json: 0.00B [00:00, ?B/s]"
      ]
     },
     "metadata": {},
     "output_type": "display_data"
    },
    {
     "data": {
      "application/vnd.jupyter.widget-view+json": {
       "model_id": "689b6cbb78dc409289d4dd679eb75954",
       "version_major": 2,
       "version_minor": 0
      },
      "text/plain": [
       "vocab.json: 0.00B [00:00, ?B/s]"
      ]
     },
     "metadata": {},
     "output_type": "display_data"
    },
    {
     "data": {
      "application/vnd.jupyter.widget-view+json": {
       "model_id": "0e2a588b09be4585baafd7b61fa46bf1",
       "version_major": 2,
       "version_minor": 0
      },
      "text/plain": [
       "merges.txt: 0.00B [00:00, ?B/s]"
      ]
     },
     "metadata": {},
     "output_type": "display_data"
    },
    {
     "data": {
      "application/vnd.jupyter.widget-view+json": {
       "model_id": "5817715b54aa4324b08e13f8ff5e8751",
       "version_major": 2,
       "version_minor": 0
      },
      "text/plain": [
       "tokenizer.json: 0.00B [00:00, ?B/s]"
      ]
     },
     "metadata": {},
     "output_type": "display_data"
    }
   ],
   "source": [
    "tokenizer = AutoTokenizer.from_pretrained(\"facebook/bart-base\")"
   ]
  },
  {
   "cell_type": "code",
   "execution_count": null,
   "metadata": {
    "id": "Ut-KucsIKvwY"
   },
   "outputs": [],
   "source": [
    "config = BartConfig(\n",
    "    vocab_size = tokenizer.vocab_size,\n",
    "    d_model = 128,           #256\n",
    "    encoder_layers = 2,\n",
    "    decoder_layers = 2,\n",
    "    encoder_attention_heads = 4,\n",
    "    decoder_attention_heads = 4,\n",
    "    encoder_ffn_dim = 1024,\n",
    "    decoder_ffn_dim = 1024,\n",
    "    max_position_embeddings = 512,\n",
    "    dropout = 0.1,\n",
    "    activation_function = \"gelu\",\n",
    "    pad_token_id = tokenizer.pad_token_id,\n",
    "    bos_token_id = tokenizer.bos_token_id,\n",
    "    eos_token_id = tokenizer.eos_token_id,\n",
    "    scale_embedding = True,\n",
    "    use_cache = True\n",
    ")"
   ]
  },
  {
   "cell_type": "code",
   "execution_count": 6,
   "metadata": {
    "id": "wKpvd-bcMP5L"
   },
   "outputs": [],
   "source": [
    "model = BartForConditionalGeneration(config)"
   ]
  },
  {
   "cell_type": "markdown",
   "metadata": {
    "id": "thGhnHLhPRKK"
   },
   "source": [
    "### **بررسی مدل**"
   ]
  },
  {
   "cell_type": "code",
   "execution_count": 7,
   "metadata": {
    "id": "HJ_CxUBxT7wx"
   },
   "outputs": [],
   "source": [
    "config = model.config"
   ]
  },
  {
   "cell_type": "code",
   "execution_count": 8,
   "metadata": {
    "colab": {
     "base_uri": "https://localhost:8080/"
    },
    "id": "eh4r_ZPzPPJ8",
    "outputId": "d1a1d6e3-1099-4307-d3d2-76e13c72db4d"
   },
   "outputs": [
    {
     "name": "stdout",
     "output_type": "stream",
     "text": [
      "مدل: bart\n",
      "تعداد لایه های انکودر: 2\n",
      "تعداد لایه های دیکودر: 2\n",
      "ابعاد مخفی ( Hidden Size ): 128\n",
      "تعداد توجه ( Attention Heads ): 4\n",
      "اندازه واژگان ( Vocab Size ): 50265\n",
      "حداکثر طول توکن ( Max Position Embedding ): 512\n",
      "استفاده از توجه متقاطع (Cross Attention): True\n"
     ]
    }
   ],
   "source": [
    "print(f\"مدل: {config.model_type}\")\n",
    "print(f\"تعداد لایه های انکودر: {config.encoder_layers}\")\n",
    "print(f\"تعداد لایه های دیکودر: {config.decoder_layers}\")\n",
    "print(f\"ابعاد مخفی ( Hidden Size ): {config.d_model}\")\n",
    "print(f\"تعداد توجه ( Attention Heads ): {config.encoder_attention_heads}\")\n",
    "print(f\"اندازه واژگان ( Vocab Size ): {config.vocab_size}\")\n",
    "print(f\"حداکثر طول توکن ( Max Position Embedding ): {config.max_position_embeddings}\")\n",
    "print(f\"استفاده از توجه متقاطع (Cross Attention): {config.use_cache}\")"
   ]
  },
  {
   "cell_type": "markdown",
   "metadata": {
    "id": "wcJihpdnSMb9"
   },
   "source": [
    "### **train**"
   ]
  },
  {
   "cell_type": "code",
   "execution_count": 1,
   "metadata": {
    "colab": {
     "base_uri": "https://localhost:8080/"
    },
    "id": "UMg9DQ2sStFd",
    "outputId": "52b5b318-36c9-4336-d447-67a7fd2bc66f"
   },
   "outputs": [],
   "source": [
    "!pip install evaluate rouge_score"
   ]
  },
  {
   "cell_type": "code",
   "execution_count": 10,
   "metadata": {
    "id": "-VqLezLPSQL0"
   },
   "outputs": [],
   "source": [
    "from datasets import load_dataset\n",
    "from transformers import (\n",
    "    AutoTokenizer,\n",
    "    AutoModelForSeq2SeqLM,\n",
    "    DataCollatorForSeq2Seq,\n",
    "    Seq2SeqTrainer,\n",
    "    Seq2SeqTrainingArguments\n",
    ")\n",
    "import evaluate"
   ]
  },
  {
   "cell_type": "code",
   "execution_count": 11,
   "metadata": {
    "colab": {
     "base_uri": "https://localhost:8080/",
     "height": 305,
     "referenced_widgets": [
      "fd3df207a75645d5a857f902e1130a9e",
      "8a8e2ee948564875abe0b1668b6be325",
      "b4fd5869372148b2b441460e382cedb3",
      "fb6c5cc795be4cc683ac36a5cdfda324",
      "5bf110ab93974b02b8e1a4b80aae076a",
      "655896635ef34e4da720b623ae000541",
      "c283eafebbf948cfb131e183b5719330",
      "e7c1c5362eb54828a5342bdd1dc2bc29",
      "4c3ce2894c6544d9a9b399adb7cbe2eb",
      "c75809170bf54a51974e02294c33f06c",
      "04dd4b823b5c4f88992ebe50b500d92e",
      "174c2b3c10844886952c1be84de8dfc0",
      "bb755d9aa7e04d72b8c98495f2a9379f",
      "42a43a2e63564840a52124d7a9c2671f",
      "0a9f867f69d149e389762f7e0ff5e0be",
      "9b5357b593e24795a104c1261b2a7d87",
      "a06d389305e74827a4e18c5c30e3f2cd",
      "aaaf72994bf6485489e667ba22a479d5",
      "4e1bea45cb0a4eecb449f08bb5a95f12",
      "d0271be4e6764a0385463c8043bb61fa",
      "166162d6081c427fa0fcd218ac61311b",
      "19b79a44f7dd473aaf9631c31dd31c98",
      "321eedaa2deb4601ab63e1ea2585a90c",
      "f018d72c3917413398cf394fd2ebeee1",
      "a155113fdf0845c3ab65591e9d61e289",
      "1b3a45b23d61429aa5c01f3eb69ed307",
      "e39afbbef2494b9c9cb0fef56c212e26",
      "a1c483cdf09d46c280e7f2beed94b385",
      "40d5e3ff00bf45b3bfb9f381e8736ff9",
      "cfe03115dd0b4142afcdc147b4ce3109",
      "b5e335ebb6b44b238748b33d7d942001",
      "2f075d160585423c87b7f4b87ff43044",
      "0ffb7145f0284e269c8065e2a5614919",
      "f2a8b0ac211d41bbacbe19cecbb9cd02",
      "e51e52705bbf42c6a1210a069cba49e7",
      "a1ee509a973b4f6b87d69663b3e33130",
      "fbb7a32669ad46c6a500773da199ae86",
      "0e25afa2eac442fd811593f9a2a72198",
      "58343143ec834938a424b8ad0699ed08",
      "45f4296189b2495299fca85902d08bbf",
      "fbb2000063a6489db6a9259d71d57563",
      "476efb7332b64567bbd140d86ba72294",
      "8d643e0feb0549d28581dc04d3814dd0",
      "898a2448416a4fcb9c10ebd2d68814bb",
      "2fdff119de364008b0cb277553c6792e",
      "f4d619fa9a214153af6d9eee89e6955a",
      "4df2ba1ab46c483191fa5fcdfcf0bd26",
      "407a9bd70d714fc9a8d7d078b85a93e4",
      "601785568e93480a8d144f1a1962973d",
      "f20382afe4df4e76ae89b6ba57017571",
      "f0ea5f47e94f4b3e80923df97d760317",
      "0fa4744b7fb047569894f4bc7d274530",
      "a8f6e51e04384b3b9a42b16f2b949fe2",
      "780262afecaf43f29977060f630a1cb4",
      "b67c09459dfd49d9a4b0ef950a268201",
      "674f7fbaa03d42a192dc270303722c29",
      "4250c8ea94ce4bd78266cea61b511d68",
      "b558811402bf470da07c2c6e080e393b",
      "bae29799d9a742ca8917887da05b467c",
      "ce19c92c55d445c18b02882c4bda2c95",
      "3a3d23986bde4881905400a5374ba7db",
      "8f69dc04ba2e40ac899e995bf77b3fc6",
      "9ba01089d54241d6ae997e290c4e7d96",
      "db1f26ef572c47dcb5233bc758f7227b",
      "33beeed3d323414c91da2a1d42bf08e0",
      "5373b886bbdb4623acf3cd131b1163f1",
      "fe1f5457fed9493bbc66317879936245",
      "b1f6c3fe0e25448f80e712f6ad20c867",
      "8bdf18c22e4d434f858dac57b42e35eb",
      "fb9a49924356439d94740e30915b5542",
      "2108ba1aadbd40d1b5b33b13fa8000c8",
      "26848f1ce31541ec9da971296fc8df24",
      "52806115cfdc48d8a7e36eb222ab6866",
      "98efd42a6972461b9b1e4200d0960321",
      "9a0811db3a7344d78b5aa27a0d3db7b0",
      "12cfcb9c606e481d9a4586a6176d7e79",
      "d72856e2a05d4f0d91ed366a8acb7ef6",
      "6c9451d87d394ac388fc367840b68283",
      "f4d94a673abc4ae4bbc2449d21986dc6",
      "c345e00db4364ff9be4951cf8b01ba72",
      "2739cbf8bc7f49eba115887cbad5b89d",
      "0072a3803e5648e1ad4cc7b28eda7e18",
      "c1a4326f3fea47d5a3a45921a2c7d0d1",
      "30303be717df45a5b1b023a45cee9954",
      "953578ba86544b0fa10f6cddfc88867b",
      "4aceca7789484b0cb0c0bc2a8f21bde0",
      "05368e105fab48959823f8a56d11de3b",
      "31189eea0b974d72b7d475d7446383a5",
      "32ca7604011b45c1a8ebf8b77b79d774",
      "91fcf8b998e145179d4ef7bf90aac9bb",
      "2b0c3d9165364d79b7498a4cf7f29ab6",
      "e12ae763a7db4521a4ba2213600049d8",
      "f02ca0eb10154691b30ef9d9074a35d8",
      "a3bf2aaa1468446eac568f0890589d09",
      "c4efff7b4c274ebe9a9d31e3466e6e34",
      "4f1eaeae91e04b429cf93929996b7717",
      "57aceaa7713d4b3b96ee55b41d4a5262",
      "039c4b85fdac49fc85e282824888abe6",
      "c7bf2f8c22584539a7bf28a59f731acb"
     ]
    },
    "id": "iIsrRkCSSdz1",
    "outputId": "c7d679fd-886c-4d97-cded-fd7e32661a79"
   },
   "outputs": [
    {
     "data": {
      "application/vnd.jupyter.widget-view+json": {
       "model_id": "fd3df207a75645d5a857f902e1130a9e",
       "version_major": 2,
       "version_minor": 0
      },
      "text/plain": [
       "README.md: 0.00B [00:00, ?B/s]"
      ]
     },
     "metadata": {},
     "output_type": "display_data"
    },
    {
     "data": {
      "application/vnd.jupyter.widget-view+json": {
       "model_id": "174c2b3c10844886952c1be84de8dfc0",
       "version_major": 2,
       "version_minor": 0
      },
      "text/plain": [
       "train-00000-of-00003.parquet:   0%|          | 0.00/257M [00:00<?, ?B/s]"
      ]
     },
     "metadata": {},
     "output_type": "display_data"
    },
    {
     "data": {
      "application/vnd.jupyter.widget-view+json": {
       "model_id": "321eedaa2deb4601ab63e1ea2585a90c",
       "version_major": 2,
       "version_minor": 0
      },
      "text/plain": [
       "train-00001-of-00003.parquet:   0%|          | 0.00/257M [00:00<?, ?B/s]"
      ]
     },
     "metadata": {},
     "output_type": "display_data"
    },
    {
     "data": {
      "application/vnd.jupyter.widget-view+json": {
       "model_id": "f2a8b0ac211d41bbacbe19cecbb9cd02",
       "version_major": 2,
       "version_minor": 0
      },
      "text/plain": [
       "train-00002-of-00003.parquet:   0%|          | 0.00/259M [00:00<?, ?B/s]"
      ]
     },
     "metadata": {},
     "output_type": "display_data"
    },
    {
     "data": {
      "application/vnd.jupyter.widget-view+json": {
       "model_id": "2fdff119de364008b0cb277553c6792e",
       "version_major": 2,
       "version_minor": 0
      },
      "text/plain": [
       "validation-00000-of-00001.parquet:   0%|          | 0.00/34.7M [00:00<?, ?B/s]"
      ]
     },
     "metadata": {},
     "output_type": "display_data"
    },
    {
     "data": {
      "application/vnd.jupyter.widget-view+json": {
       "model_id": "674f7fbaa03d42a192dc270303722c29",
       "version_major": 2,
       "version_minor": 0
      },
      "text/plain": [
       "test-00000-of-00001.parquet:   0%|          | 0.00/30.0M [00:00<?, ?B/s]"
      ]
     },
     "metadata": {},
     "output_type": "display_data"
    },
    {
     "data": {
      "application/vnd.jupyter.widget-view+json": {
       "model_id": "fe1f5457fed9493bbc66317879936245",
       "version_major": 2,
       "version_minor": 0
      },
      "text/plain": [
       "Generating train split:   0%|          | 0/287113 [00:00<?, ? examples/s]"
      ]
     },
     "metadata": {},
     "output_type": "display_data"
    },
    {
     "data": {
      "application/vnd.jupyter.widget-view+json": {
       "model_id": "6c9451d87d394ac388fc367840b68283",
       "version_major": 2,
       "version_minor": 0
      },
      "text/plain": [
       "Generating validation split:   0%|          | 0/13368 [00:00<?, ? examples/s]"
      ]
     },
     "metadata": {},
     "output_type": "display_data"
    },
    {
     "data": {
      "application/vnd.jupyter.widget-view+json": {
       "model_id": "32ca7604011b45c1a8ebf8b77b79d774",
       "version_major": 2,
       "version_minor": 0
      },
      "text/plain": [
       "Generating test split:   0%|          | 0/11490 [00:00<?, ? examples/s]"
      ]
     },
     "metadata": {},
     "output_type": "display_data"
    }
   ],
   "source": [
    "dataset = load_dataset(\"cnn_dailymail\", \"3.0.0\")"
   ]
  },
  {
   "cell_type": "code",
   "execution_count": 28,
   "metadata": {
    "id": "qbLAH9HESiUB"
   },
   "outputs": [],
   "source": [
    "train_dataset = dataset['train'].select(range(8000))\n",
    "val_dataset = dataset['validation'].select(range(2700))\n",
    "test_dataset = dataset['test'].select(range(3000))"
   ]
  },
  {
   "cell_type": "code",
   "execution_count": 29,
   "metadata": {
    "colab": {
     "base_uri": "https://localhost:8080/",
     "height": 81,
     "referenced_widgets": [
      "cce7b70e0d034fefb1f7d144b89dcbd1",
      "5faafe66cd124771994600b61308959c",
      "1699529b16a94652a20e1373ee90c135",
      "c94d899d565c45879fe838de45b1ff30",
      "224a5609a3bd46de9767c3f4d3c17d23",
      "1f66b110b218482b966b8ed38dc6960f",
      "2979ae5cdad8408b86b0c2120334df6e",
      "b02b88c6c7cd4b8398aaaf63ad1aad58",
      "2d45d5c551ad4a508944ee38e4aa51b5",
      "38e912424f4f4c4a84d8bada87a2a21f",
      "7e8d306dbc4146e19b4ee814661584fc",
      "6257c9a3e2864d87a8dfe226f598321b",
      "44d07add21c146879358aa226f99d3d8",
      "00cf9f22067b433fb01372c11ff8d99c",
      "d506a024958a43fbb95d4cb730469f2a",
      "23b15025c03042e0b198923e27fea450",
      "2661f8d3608242208b9ad2b3c9b2cab0",
      "bb83e1d393e04f3caa7b72af3bf9978f",
      "ff393f2430c94976bc82c09bfac9b127",
      "1f489085ea9f4e75b3fc20768ce6238a",
      "d0fb244854e74b23889c4ec6333fb8d9",
      "0a73ddc28a3843988536bce642c59f43"
     ]
    },
    "id": "cBZtZmTgS3NC",
    "outputId": "3e5505d4-0b23-4417-cc17-3f8547b1bc7e"
   },
   "outputs": [
    {
     "data": {
      "application/vnd.jupyter.widget-view+json": {
       "model_id": "cce7b70e0d034fefb1f7d144b89dcbd1",
       "version_major": 2,
       "version_minor": 0
      },
      "text/plain": [
       "Map:   0%|          | 0/8000 [00:00<?, ? examples/s]"
      ]
     },
     "metadata": {},
     "output_type": "display_data"
    },
    {
     "data": {
      "application/vnd.jupyter.widget-view+json": {
       "model_id": "6257c9a3e2864d87a8dfe226f598321b",
       "version_major": 2,
       "version_minor": 0
      },
      "text/plain": [
       "Map:   0%|          | 0/2700 [00:00<?, ? examples/s]"
      ]
     },
     "metadata": {},
     "output_type": "display_data"
    }
   ],
   "source": [
    "# 3. پیش‌پردازش داده‌ها\n",
    "max_input_length = 512\n",
    "max_target_length = 128\n",
    "\n",
    "def preprocess(examples):\n",
    "    inputs = examples[\"article\"]\n",
    "    targets = examples[\"highlights\"]\n",
    "    model_inputs = tokenizer(inputs, max_length=max_input_length, truncation=True)\n",
    "\n",
    "    # tokenize summaries\n",
    "    labels = tokenizer(targets, max_length=max_target_length, truncation=True)\n",
    "    model_inputs[\"labels\"] = labels[\"input_ids\"]\n",
    "    return model_inputs\n",
    "\n",
    "tokenized_tarin_data = train_dataset.map(\n",
    "    preprocess,\n",
    "    batched=True,\n",
    "    remove_columns=[\"article\", \"highlights\", \"id\"]\n",
    ")\n",
    "\n",
    "tokenized_val_data = val_dataset.map(\n",
    "    preprocess,\n",
    "    batched=True,\n",
    "    remove_columns=[\"article\", \"highlights\", \"id\"]\n",
    ")"
   ]
  },
  {
   "cell_type": "code",
   "execution_count": 30,
   "metadata": {
    "id": "bVM64mrlTJiy"
   },
   "outputs": [],
   "source": [
    "# 4. Data collator\n",
    "data_collator = DataCollatorForSeq2Seq(tokenizer, model=model)"
   ]
  },
  {
   "cell_type": "code",
   "execution_count": 31,
   "metadata": {
    "id": "CK4STQ7ITMD3"
   },
   "outputs": [],
   "source": [
    "# 5. متریک (ROUGE)\n",
    "rouge = evaluate.load(\"rouge\")\n",
    "\n",
    "def compute_metrics(eval_pred):\n",
    "    predictions, labels = eval_pred\n",
    "    decoded_preds = tokenizer.batch_decode(predictions, skip_special_tokens=True)\n",
    "\n",
    "    # replace -100 (padding token id) with pad_token_id\n",
    "    labels = [[(l if l != -100 else tokenizer.pad_token_id) for l in label] for label in labels]\n",
    "    decoded_labels = tokenizer.batch_decode(labels, skip_special_tokens=True)\n",
    "\n",
    "    result = rouge.compute(predictions=decoded_preds, references=decoded_labels)\n",
    "    return {k: round(v, 4) for k, v in result.items()}"
   ]
  },
  {
   "cell_type": "code",
   "execution_count": 32,
   "metadata": {
    "id": "3F5WQhG1TVHi"
   },
   "outputs": [],
   "source": [
    "# 6. تنظیمات آموزش\n",
    "training_args = Seq2SeqTrainingArguments(\n",
    "    output_dir=\"./bart-model\",\n",
    "    eval_strategy=\"epoch\",\n",
    "    learning_rate=5e-5,\n",
    "    per_device_train_batch_size=2,\n",
    "    per_device_eval_batch_size=2,\n",
    "    weight_decay=0.01,\n",
    "    save_total_limit=2,\n",
    "    num_train_epochs=1,\n",
    "    predict_with_generate=True,   # 👈 مهم برای Seq2Seq\n",
    "    fp16=True,                    # در GPU سریع‌تر\n",
    "    logging_dir='./logs',\n",
    "    logging_steps=100,\n",
    "    report_to = \"tensorboard\"\n",
    ")"
   ]
  },
  {
   "cell_type": "code",
   "execution_count": 33,
   "metadata": {
    "colab": {
     "base_uri": "https://localhost:8080/"
    },
    "id": "aaesCt5xTduR",
    "outputId": "d405cf2d-a34e-412d-df04-a0bea7f1f3da"
   },
   "outputs": [
    {
     "name": "stderr",
     "output_type": "stream",
     "text": [
      "/tmp/ipython-input-1220629308.py:2: FutureWarning: `tokenizer` is deprecated and will be removed in version 5.0.0 for `Seq2SeqTrainer.__init__`. Use `processing_class` instead.\n",
      "  trainer = Seq2SeqTrainer(\n"
     ]
    }
   ],
   "source": [
    "# 7. Trainer\n",
    "trainer = Seq2SeqTrainer(\n",
    "    model=model,\n",
    "    args=training_args,\n",
    "    train_dataset=tokenized_tarin_data,\n",
    "    eval_dataset=tokenized_val_data,\n",
    "    tokenizer=tokenizer,\n",
    "    data_collator=data_collator,\n",
    "    compute_metrics=compute_metrics,\n",
    ")"
   ]
  },
  {
   "cell_type": "code",
   "execution_count": 34,
   "metadata": {
    "colab": {
     "base_uri": "https://localhost:8080/",
     "height": 141
    },
    "id": "OzuL31OaTenm",
    "outputId": "351bd436-453d-4539-9e8c-ae4253331523"
   },
   "outputs": [
    {
     "data": {
      "text/html": [
       "\n",
       "    <div>\n",
       "      \n",
       "      <progress value='4000' max='4000' style='width:300px; height:20px; vertical-align: middle;'></progress>\n",
       "      [4000/4000 03:48, Epoch 1/1]\n",
       "    </div>\n",
       "    <table border=\"1\" class=\"dataframe\">\n",
       "  <thead>\n",
       " <tr style=\"text-align: left;\">\n",
       "      <th>Epoch</th>\n",
       "      <th>Training Loss</th>\n",
       "      <th>Validation Loss</th>\n",
       "      <th>Rouge1</th>\n",
       "      <th>Rouge2</th>\n",
       "      <th>Rougel</th>\n",
       "      <th>Rougelsum</th>\n",
       "    </tr>\n",
       "  </thead>\n",
       "  <tbody>\n",
       "    <tr>\n",
       "      <td>1</td>\n",
       "      <td>6.918400</td>\n",
       "      <td>7.207514</td>\n",
       "      <td>0.003000</td>\n",
       "      <td>0.000000</td>\n",
       "      <td>0.003000</td>\n",
       "      <td>0.003000</td>\n",
       "    </tr>\n",
       "  </tbody>\n",
       "</table><p>"
      ],
      "text/plain": [
       "<IPython.core.display.HTML object>"
      ]
     },
     "metadata": {},
     "output_type": "display_data"
    },
    {
     "data": {
      "text/plain": [
       "TrainOutput(global_step=4000, training_loss=7.046169708251953, metrics={'train_runtime': 228.1996, 'train_samples_per_second': 35.057, 'train_steps_per_second': 17.529, 'total_flos': 35198458730496.0, 'train_loss': 7.046169708251953, 'epoch': 1.0})"
      ]
     },
     "execution_count": 34,
     "metadata": {},
     "output_type": "execute_result"
    }
   ],
   "source": [
    "trainer.train()"
   ]
  },
  {
   "cell_type": "code",
   "execution_count": 35,
   "metadata": {
    "colab": {
     "base_uri": "https://localhost:8080/"
    },
    "id": "ukYrGTydMUxB",
    "outputId": "2c00e2aa-7439-4dbc-b79b-2d2f13b9aa22"
   },
   "outputs": [
    {
     "name": "stdout",
     "output_type": "stream",
     "text": [
      "NEWNEWNEW::::::::::::::::::::::::::::::::::\n"
     ]
    }
   ],
   "source": [
    "# test\n",
    "text = \"BART is a denoising autoencoder for sequence-to-sequence pretraining.\"\n",
    "enc = tokenizer([text], return_tensors='pt', padding=True, truncation=True, max_length=128)\n",
    "\n",
    "# Move input tensors to the same device as the model\n",
    "device = model.device\n",
    "enc = {k: v.to(device) for k, v in enc.items()}\n",
    "\n",
    "out_ids = model.generate(**enc, max_length=40, num_beams=4)\n",
    "print(tokenizer.decode(out_ids[0], skip_special_tokens=True))"
   ]
  },
  {
   "cell_type": "markdown",
   "metadata": {
    "id": "5uoiFBRiZ8Hu"
   },
   "source": [
    "خب نتایج ارزیابی روی داده های ارزیابی هنگام آموزش و تست بالا نشون میده که مدل عملا چیز مفیدی یاد نگرفته . دلیلش داده بسیار کم آموزش است.میتوانید داده آموزش را به دلخواه زیاد کنید"
   ]
  },
  {
   "cell_type": "markdown",
   "metadata": {
    "id": "rLfJFpNwYHVA"
   },
   "source": [
    "### **evaluate the model**"
   ]
  },
  {
   "cell_type": "code",
   "execution_count": 36,
   "metadata": {
    "colab": {
     "base_uri": "https://localhost:8080/",
     "height": 49,
     "referenced_widgets": [
      "6278ca3c7d1f480bbd6ba026e9a3d0b4",
      "8df0b489a6364b879308952bf0ea983f",
      "5c385eb15cf240359a88765d440020fb",
      "b5e887135ae44f798468668a30f684a6",
      "48cb991259c544a19e40914e3a50e21c",
      "768f9f0cb3b4430a98c8094dedb1581e",
      "6907e75837764ceb848801c23fe580f6",
      "208bddf260ea47a8a3e29465b56cc32c",
      "4f0d7207251642cfb76ff6aa7dfe479f",
      "79251760c013412e9c92e42abac0ff56",
      "96a666fcff8b4a8084a5da5073c60dee"
     ]
    },
    "id": "e06f0b37",
    "outputId": "34fd6642-ae88-45d0-ae0c-6f401cf65c84"
   },
   "outputs": [
    {
     "data": {
      "application/vnd.jupyter.widget-view+json": {
       "model_id": "6278ca3c7d1f480bbd6ba026e9a3d0b4",
       "version_major": 2,
       "version_minor": 0
      },
      "text/plain": [
       "Map:   0%|          | 0/3000 [00:00<?, ? examples/s]"
      ]
     },
     "metadata": {},
     "output_type": "display_data"
    }
   ],
   "source": [
    "tokenized_test_data = test_dataset.map(\n",
    "    preprocess,\n",
    "    batched=True,\n",
    "    remove_columns=[\"article\", \"highlights\", \"id\"]\n",
    ")"
   ]
  },
  {
   "cell_type": "code",
   "execution_count": 37,
   "metadata": {
    "colab": {
     "base_uri": "https://localhost:8080/",
     "height": 193
    },
    "id": "e6d08f98",
    "outputId": "27aef895-2fc3-4d80-b557-7fe4d76ef59d"
   },
   "outputs": [
    {
     "data": {
      "text/html": [
       "\n",
       "    <div>\n",
       "      \n",
       "      <progress value='1500' max='1500' style='width:300px; height:20px; vertical-align: middle;'></progress>\n",
       "      [1500/1500 02:59]\n",
       "    </div>\n",
       "    "
      ],
      "text/plain": [
       "<IPython.core.display.HTML object>"
      ]
     },
     "metadata": {},
     "output_type": "display_data"
    },
    {
     "data": {
      "text/plain": [
       "{'eval_loss': 7.223298072814941,\n",
       " 'eval_rouge1': 0.0035,\n",
       " 'eval_rouge2': 0.0,\n",
       " 'eval_rougeL': 0.0035,\n",
       " 'eval_rougeLsum': 0.0035,\n",
       " 'eval_runtime': 183.9858,\n",
       " 'eval_samples_per_second': 16.306,\n",
       " 'eval_steps_per_second': 8.153,\n",
       " 'epoch': 1.0}"
      ]
     },
     "execution_count": 37,
     "metadata": {},
     "output_type": "execute_result"
    }
   ],
   "source": [
    "# 6. ارزیابی مدل\n",
    "trainer.evaluate(tokenized_test_data)"
   ]
  },
  {
   "cell_type": "markdown",
   "metadata": {
    "id": "cRBcjSU5adI_"
   },
   "source": [
    "این ارزیابی نشون میده که مدل خوب آموزش ندیده و به داده های بسیار بیشتری نیاز هست"
   ]
  }
 ],
 "metadata": {
  "cells": [],
  "kernelspec": {
   "display_name": "",
   "name": ""
  },
  "language_info": {
   "name": ""
  },
  "metadata": {
   "kernelspec": {
    "display_name": "Python 3",
    "language": "python",
    "name": "python3"
   },
   "language_info": {
    "name": "python",
    "version": "3.10.12"
   }
  },
  "nbformat": 4,
  "nbformat_minor": 5
 },
 "nbformat": 4,
 "nbformat_minor": 4
}
