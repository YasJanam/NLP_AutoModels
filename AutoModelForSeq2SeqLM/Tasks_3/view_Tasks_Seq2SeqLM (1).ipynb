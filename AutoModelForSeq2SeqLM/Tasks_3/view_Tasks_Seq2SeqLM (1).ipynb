{
 "cells": [
  {
   "cell_type": "markdown",
   "metadata": {
    "id": "Aeem8jUFnvj2"
   },
   "source": [
    "## **Tasks-Code**"
   ]
  },
  {
   "cell_type": "code",
   "execution_count": 3,
   "metadata": {
    "id": "VH7-NQbiDvh5"
   },
   "outputs": [],
   "source": [
    "from transformers import AutoModelForSeq2SeqLM, AutoTokenizer"
   ]
  },
  {
   "cell_type": "code",
   "execution_count": 5,
   "metadata": {
    "id": "ToHnZ6RpE4D8"
   },
   "outputs": [],
   "source": [
    "# تابع عمومی برای تولید خروجی\n",
    "def generate_output(model,tokenizer,input_text,prefix=\"\",max_length=100,num_beams=4):\n",
    "  inputs = tokenizer(prefix+input_text,return_tensors=\"pt\",max_length=512,truncation=True)\n",
    "  outputs=model.generate(**inputs,max_length=max_length,num_beams=num_beams)\n",
    "  return tokenizer.decode(outputs[0],skip_special_tokens=True)"
   ]
  },
  {
   "cell_type": "markdown",
   "metadata": {
    "id": "C6xBxzGRImQL"
   },
   "source": [
    "#### **1. Machine Translation** (ترجمه ماشین)"
   ]
  },
  {
   "cell_type": "code",
   "execution_count": null,
   "metadata": {
    "colab": {
     "base_uri": "https://localhost:8080/"
    },
    "id": "aqeZe4VzHcxS",
    "outputId": "1a871c99-9160-431b-b4b4-617da5e879aa"
   },
   "outputs": [],
   "source": [
    "model_name = \"Helsinki-NLP/opus-mt-en-de\" # انگلیسی به آلمانی\n",
    "tokenizer = AutoTokenizer.from_pretrained(model_name)\n",
    "model = AutoModelForSeq2SeqLM.from_pretrained(model_name)"
   ]
  },
  {
   "cell_type": "code",
   "execution_count": null,
   "metadata": {
    "colab": {
     "base_uri": "https://localhost:8080/"
    },
    "id": "u6CDsVMwIiBt",
    "outputId": "4c5bb1db-3e1f-4e4f-e299-c63f37885944"
   },
   "outputs": [
    {
     "name": "stdout",
     "output_type": "stream",
     "text": [
      "ترجمه :  Hallo, wie geht's?\n"
     ]
    }
   ],
   "source": [
    "input_text = \"Hello, how are you?\"\n",
    "print(\"translate : \", generate_output(model,tokenizer,input_text))"
   ]
  },
  {
   "cell_type": "markdown",
   "metadata": {
    "id": "VHU2vJBeIznO"
   },
   "source": [
    "#### **2. Summarization** (خلاصه سازی )"
   ]
  },
  {
   "cell_type": "code",
   "execution_count": null,
   "metadata": {
    "id": "OFK2XlLyI9kq"
   },
   "outputs": [],
   "source": [
    "model_name = \"facebook/bart-large-cnn\"\n",
    "tokenizer = AutoTokenizer.from_pretrained(model_name)\n",
    "model = AutoModelForSeq2SeqLM.from_pretrained(model_name)"
   ]
  },
  {
   "cell_type": "code",
   "execution_count": null,
   "metadata": {
    "colab": {
     "base_uri": "https://localhost:8080/"
    },
    "id": "SsiXDlIzJNQe",
    "outputId": "827067a3-ce54-4a86-8931-866f02103939"
   },
   "outputs": [
    {
     "name": "stderr",
     "output_type": "stream",
     "text": [
      "/usr/local/lib/python3.12/dist-packages/transformers/generation/utils.py:1623: UserWarning: Unfeasible length constraints: `min_length` (56) is larger than the maximum possible length (20). Generation will stop at the defined maximum length. You should decrease the minimum length and/or increase the maximum length.\n",
      "  warnings.warn(\n"
     ]
    },
    {
     "name": "stdout",
     "output_type": "stream",
     "text": [
      "خلاصه :  Artificial Intelligence (AI) is a branch of computer science focused on creating systems capable\n"
     ]
    }
   ],
   "source": [
    "input_text = \"\"\"Artificial Intelligence (AI) is a branch of computer science focused on creating systems capable of performing tasks that normally require human intelligence.\n",
    "Using techniques like machine learning, these systems can learn from data, recognize patterns, and make decisions.\n",
    "AI is now transforming major industries, from healthcare to finance, by automating processes and generating insights,\n",
    " making it one of the most significant technological forces of our time.\"\"\"\n",
    "print(\"summarize : \", generate_output(model,tokenizer,input_text,max_length=20))"
   ]
  },
  {
   "cell_type": "markdown",
   "metadata": {
    "id": "1Gnf6GxTMJ3K"
   },
   "source": [
    "#### **3. Question Answering** (پرسش و پاسخ )"
   ]
  },
  {
   "cell_type": "code",
   "execution_count": null,
   "metadata": {
    "id": "1aWxK1ozMaoh"
   },
   "outputs": [],
   "source": [
    "model_name = \"t5-small\"\n",
    "tokenizer = AutoTokenizer.from_pretrained(model_name)\n",
    "model = AutoModelForSeq2SeqLM.from_pretrained(model_name)"
   ]
  },
  {
   "cell_type": "code",
   "execution_count": null,
   "metadata": {
    "colab": {
     "base_uri": "https://localhost:8080/"
    },
    "id": "kFRiimFgMdpK",
    "outputId": "f5924201-5c85-49cd-f41d-69582dee6a7f"
   },
   "outputs": [
    {
     "name": "stdout",
     "output_type": "stream",
     "text": [
      "response :  Paris\n"
     ]
    }
   ],
   "source": [
    "input_text = \"context: The capital of France is Paris. question: What is the capital of France?\"\n",
    "print(\"response : \", generate_output(model,tokenizer,input_text,prefix=\"qa: \"))"
   ]
  },
  {
   "cell_type": "markdown",
   "metadata": {
    "id": "RXMrFU3P4ock"
   },
   "source": [
    "#### **4. Text Generation** ( تولید متن )"
   ]
  },
  {
   "cell_type": "code",
   "execution_count": null,
   "metadata": {
    "id": "rbp8AjgA4xso"
   },
   "outputs": [],
   "source": [
    "model_name = \"google/flan-t5-base\"\n",
    "tokenizer = AutoTokenizer.from_pretrained(model_name)\n",
    "model = AutoModelForSeq2SeqLM.from_pretrained(model_name)"
   ]
  },
  {
   "cell_type": "code",
   "execution_count": null,
   "metadata": {
    "colab": {
     "base_uri": "https://localhost:8080/"
    },
    "id": "eOOXDDNq43YV",
    "outputId": "64a68135-edd1-4913-82a8-e0146a989512"
   },
   "outputs": [
    {
     "name": "stdout",
     "output_type": "stream",
     "text": [
      "generated text:  a cat is a cat that lives in a house.\n"
     ]
    }
   ],
   "source": [
    "input_text = \"generate a story about a cat\"\n",
    "print(\"generated text: \", generate_output(model,tokenizer,input_text,max_length=15,prefix=\"story: \"))"
   ]
  },
  {
   "cell_type": "markdown",
   "metadata": {
    "id": "WXuevUQ3762Q"
   },
   "source": [
    "#### **5. Text Paraphrasing** (بازنویسی متن )"
   ]
  },
  {
   "cell_type": "code",
   "execution_count": null,
   "metadata": {
    "id": "3mEN33A78HW2"
   },
   "outputs": [],
   "source": [
    "model_name = \"google/flan-t5-base\"\n",
    "tokenizer = AutoTokenizer.from_pretrained(model_name)\n",
    "model = AutoModelForSeq2SeqLM.from_pretrained(model_name)"
   ]
  },
  {
   "cell_type": "code",
   "execution_count": null,
   "metadata": {
    "colab": {
     "base_uri": "https://localhost:8080/"
    },
    "id": "v8Jw4-XD8LIb",
    "outputId": "644e98ff-0fb7-4a01-8c35-e1049559a599"
   },
   "outputs": [
    {
     "name": "stdout",
     "output_type": "stream",
     "text": [
      "The weather is extremely cold today.\n"
     ]
    }
   ],
   "source": [
    "input_text = \"The weather is extremely cold today.\"\n",
    "print( generate_output(model,tokenizer,input_text,prefix=\"paraphrase: \"))"
   ]
  },
  {
   "cell_type": "markdown",
   "metadata": {
    "id": "5KnqiKTa-QR5"
   },
   "source": [
    "#### **6. Grammer Correction** ( اصلاح گرامری )"
   ]
  },
  {
   "cell_type": "code",
   "execution_count": null,
   "metadata": {
    "colab": {
     "base_uri": "https://localhost:8080/",
     "height": 278,
     "referenced_widgets": [
      "57ce6def882d4b4e8eba443eacca1c1d",
      "166f1e5882144fe88146e59ddc2944c5",
      "b6a1360ba7924003b69eec66713d482e",
      "d30373fa7f1e4fe0b6e75b1c3a62e49f",
      "86ca95a500ef464c94f14007bc9f826f",
      "8663ca0db7a342f4871cf54e17d41115",
      "0dbce4c303054343b9c4727ad8953d64",
      "123f688f492a402d9b3b9246cc3a9478",
      "55c1c609f92249459170ccf5b61697f5",
      "bd02c032cfe84720bde792faefb9435d",
      "56d77cb0b9ab4832a4e8496be50094bb",
      "32081a04b8994cf998f75554f185f512",
      "e54890ad80ed49d6ae671631d5d6cb53",
      "80b34df4a7f24eb9a94a7bc2143780ac",
      "cd51d163804d4d3a9b8e9450cb061228",
      "1a1e49c925964a58a620a4f0975ba7f4",
      "529b503b138849fa9e5c5c920e013ad8",
      "6af02599be94453398b22151f02ea073",
      "19714c57e60047589d42433260500aef",
      "7b5d212ce6b64623b350b3701d68094b",
      "818fc8545e624b85934511f085e6f480",
      "6e42f8bc8e204100b41b756a86a3848a",
      "6026dd8df2b8480b81f9796ecb155cde",
      "965b283a64b84ae3b06f08c70e99f3c3",
      "7428c5136e654351a707ff1b49a4c42b",
      "f8bd7b203c0a45cc9b2f92b7347614ea",
      "33ed867a8286401384e3dec3bda0345a",
      "2efcd244916d40d1a4070da5c7457cdf",
      "3fbaf4758bf04ea78f72be3134970d71",
      "9c7f31e368254201be342fa36e462ee4",
      "7ed80b0026e742a5aea62f7b07570160",
      "a07e3fadb75444cc9056e3badea5831a",
      "15b18fce4442406cbe8e0d2a295159ca",
      "11c3190a723b4dfb842e9a0abc400192",
      "1743d2254405477aa22da7dbd7e854bf",
      "dc4e740b00834648bb5acbd652557b90",
      "d69a3f447bb44e2899687a2dba34b28e",
      "9983de4ecf704e4fa99bf3abe6284b34",
      "8fe8c7aa3243436a83b79903f9a788b0",
      "edb25cef62864affa30aedb4d66e422f",
      "d741d502a9214c2a9ccc20ab4f8d54fd",
      "eedc86f0c2cc417f9452f0c62e3639bf",
      "78e3507d8046416f83ebca0f8faab5ab",
      "2371e6534f6d438389311b7c5e58078b",
      "14fe428f280048f0ac022d5fd8b8b97f",
      "680a5aa4c9cc4409be1da29b20a7de2e",
      "d2f8ded2ceef4e56a1d85726b4fd08a8",
      "2563a1069b6b43a69fa1a6e8baa3f830",
      "ac7b3b41e76142849332b67e62d0633c",
      "999c0a1e64a4451cb14ad49bb83bd022",
      "1613c0972b7f41b5b181ab5edc66b633",
      "3543917c5f2e4d6095fe2c27bc54d48a",
      "44de9b5c83ae450981b8dff13f2a24b2",
      "6921599e9e62428da89139f3ae01be0e",
      "588f6e011b41456cbf2235b1698fe58c",
      "8803daca71eb4db4bd6387761fabb5b9",
      "9e7309b702884458813abc27be4e9f8b",
      "7f79e659004e4275969e6c46c625ba48",
      "8e44f7919ade4c13ba93a44a03f95b12",
      "3e3838b743ee4dfbb4eccfa36aa4be56",
      "ed907135cd5345358a6718e33b0ec11d",
      "2805eb4508d648e5811f3a75b0293f0f",
      "6bf376b5842a48b284268bffd63c67c4",
      "4ad5090ddda346a6b10fe3e7c45edfe1",
      "88e8be8e925c4bdaa77a160ae18b239a",
      "11d4beca4217476f9e7a4a60c0f6eb04",
      "9512feb5df4c4bc69cd1cf455eb89cb0",
      "31a7d83926ca4614b5a4748d308574d3",
      "414f8f4100874bf495c2416ee920def7",
      "edfd43e2f41a44258719953f490916a1",
      "2f2847f7b41a4fd1889d551301800dc7",
      "f7abd4dadd9b431c9e69fb73ca1f056b",
      "55f54fbc12a84492b9abef8a93be3fc3",
      "02f8b0158c194023b55330732bacf8de",
      "24472e47565b4be4a4a2a7525e924a42",
      "546816cfbded4614a5b271407cee50e6",
      "c3ede6d3c62049b5952e196333612ee7"
     ]
    },
    "id": "mJgEi6YT-QR5",
    "outputId": "9b26923c-0dc1-4a62-862a-8cdc611d715b"
   },
   "outputs": [],
   "source": [
    "model_name = \"google/t5-v1_1-base\"\n",
    "tokenizer = AutoTokenizer.from_pretrained(model_name)\n",
    "model = AutoModelForSeq2SeqLM.from_pretrained(model_name)"
   ]
  },
  {
   "cell_type": "code",
   "execution_count": null,
   "metadata": {
    "colab": {
     "base_uri": "https://localhost:8080/"
    },
    "id": "tBauGhGa-QR6",
    "outputId": "2e8f361d-ab73-4fa0-e12d-f1a6a33f1896"
   },
   "outputs": [
    {
     "name": "stdout",
     "output_type": "stream",
     "text": [
      ". I am going to market to buy some fruits. .\n"
     ]
    }
   ],
   "source": [
    "input_text = \"I am going to market for buy some fruits.\"\n",
    "print( generate_output(model,tokenizer,input_text,prefix=\"grammar: \"))"
   ]
  },
  {
   "cell_type": "markdown",
   "metadata": {
    "id": "2DD_0YqMA_0P"
   },
   "source": [
    "#### **7. Information Extraction** ( استخراج اطلاعات )"
   ]
  },
  {
   "cell_type": "code",
   "execution_count": null,
   "metadata": {
    "colab": {
     "base_uri": "https://localhost:8080/",
     "height": 241,
     "referenced_widgets": [
      "51067134b5914ceb88a373a54453afaf",
      "7afce6bea61644049604bc50ba05a643",
      "903852c29bad45e8876c5a3b5264ee69",
      "5fed526788034bddb6fa2b805e791d48",
      "95cad3a1fc684b3d8bf031e4ca4007d2",
      "7e0dda26e2d641bdab6ee2c49bfa646f",
      "dbcdedea0f9d42e29b9391c7f839c363",
      "3163993c5ae84567b27ccf4e8af32962",
      "cde7dfa4e72844de95ead03886b552f2",
      "4ead45b0af624a37965a30e03a3deee8",
      "197cd72727304973a8af0daa0257495f",
      "943677a177e24fe89284b90b1b0c277f",
      "ab3ff39dc0e54948b2e4f66ad9385d49",
      "533216024f8241978cedb1239727f4be",
      "ff6ecfdd41cc4176b23c6cce3c628c78",
      "b0a384891f9b40109360abb0d9c7d480",
      "9611ed6362744b60a136d75c58ae0754",
      "090503ca49034738b3232278d1cb76cf",
      "7a0484ff85d743bfbd67dcb5a13799bb",
      "e26e44fc3e9b43aeb918cbdda3a7c896",
      "c8783d74c78d42bd9c092d61f3a5cfcb",
      "73299cbd8adf412093d66fc0b1195bf0",
      "2d18ed061ff74e7e8e65f4c37099a013",
      "ffe1704844114f7d90dc8499f230258c",
      "b729d5d818d94d12be4bb45f727c3ceb",
      "e0c9a09640da4b9fb1cc6312012d612d",
      "f80af9c515054ef38821fb008d373cf8",
      "10c2e7a2d7b74880b019661d7ddc5bd5",
      "d340106628bf4eccaba3cc141e517e31",
      "e0f57d22a62b4e75a9abaff859ee9881",
      "224c3c1babf341dc8eb99beb76325397",
      "b68f0b3b60fa4df485fe8cdbb958bd42",
      "0b5503c80c854aceb198ecb4c614d06b",
      "05b79fac9deb410cb3478e5b96fc3953",
      "ed9592556ddf44bcbb72362daac3f5d9",
      "5fbfd626602746b9931c111f22781cc6",
      "dd7f1bcfd4b34c4ca121f408797985fd",
      "7a1cbd5529f14f9bab3147e95035a4e4",
      "2236c4f3800640899e0c9733ef0cf352",
      "e2f35465ac2642c1963e91a34e1f0a43",
      "a967cf25a43341edb90338666bba280d",
      "6395b7ee19eb4170bea8e6fa225cc01c",
      "ed8134b2e7a24834ad93f28c1d3cd824",
      "b9c6935562b74f0887d7e50567b88719",
      "04243ce2d6e74e05bda49380611097ae",
      "747e3f18bb0e4961ae42c16bbc0df09d",
      "fd153b08a8834a6ba7eabcf809147460",
      "c36ed1c53f33406280cf04721f99ed89",
      "d47fc6c3a25645d2bb6b0fad9f1c5cfb",
      "f542ee4d264d486b9cf37e495da04d54",
      "6095cb8ac0f34fa3bdc92a82561d94d6",
      "cefa187672f0404aaeb767fd8694203a",
      "ea04c3bb769149ff8aaa8d4b74487f9c",
      "dad33e52031443299da13d486a76b8d9",
      "3468a97844c74611ba69e439cc6cb0b4",
      "3eaa9645acd4483ea118918f17a7bdfb",
      "2f347dd94824406a8b30beb6b1e65890",
      "c3b433a49b69446e9e526a1c5f702764",
      "028a30a1e4064a39bb54ab69cad73e58",
      "41977724cc8d43cb9e207f835ee99122",
      "addbbfc2d075458aa202f3f389ae4a20",
      "835acd88beb24d63952d39a055a00f00",
      "f59959761161485faccb55705f5254b0",
      "7fd7e48fc2e7468d84f7cf9d20d32592",
      "aca7aa4ef3a34ca4831840de35c2b575",
      "7e1302f156654135a38075e869d016ff",
      "b53b00f9e3b14320a022e00c8e304dd7",
      "b4b4d6ced88d4fb1b4b88ea8b3c4ce08",
      "e35b28105bed45e28a4d0930fb98fc06",
      "e5973cdbf62946e78534d772d2f7a4ce",
      "a94238998eb442e2986c58df939db387",
      "68fa29e9bd704c5fb652146a923daf43",
      "a6192d65c105468dbd7e449548581cbf",
      "7254d35fb79247eabc983bd8203c67a7",
      "efc3d5be158e40bc961a4e71e5cf58e5",
      "993c290c7e5f4fc1b278a1ecc11befa8",
      "97d1e44d47d248f993755c5662f66943"
     ]
    },
    "id": "jPaT1YltA_0Q",
    "outputId": "3ad34923-7851-4fb3-fc68-2f3a13580a7f"
   },
   "outputs": [],
   "source": [
    "model_name = \"google/flan-t5-base\"\n",
    "tokenizer = AutoTokenizer.from_pretrained(model_name)\n",
    "model = AutoModelForSeq2SeqLM.from_pretrained(model_name)"
   ]
  },
  {
   "cell_type": "code",
   "execution_count": 8,
   "metadata": {
    "colab": {
     "base_uri": "https://localhost:8080/"
    },
    "id": "y6rb-Wz1A_0Q",
    "outputId": "43810cec-ac0b-4f15-807c-73f7615ae9f7"
   },
   "outputs": [
    {
     "name": "stdout",
     "output_type": "stream",
     "text": [
      "John is a computer programmer.\n"
     ]
    }
   ],
   "source": [
    "input_text = \"John lives in New York and works at Google.\"\n",
    "print( generate_output(model,tokenizer,input_text,prefix=\"extract: \"))"
   ]
  },
  {
   "cell_type": "markdown",
   "metadata": {
    "id": "jgddZ_Dzhj1-"
   },
   "source": [
    "#### **8. Code Generation**"
   ]
  },
  {
   "cell_type": "code",
   "execution_count": 27,
   "metadata": {
    "id": "QFmy1L-8hj1-"
   },
   "outputs": [],
   "source": [
    "model_name = \"google/flan-t5-base\"\n",
    "tokenizer = AutoTokenizer.from_pretrained(model_name)\n",
    "model = AutoModelForSeq2SeqLM.from_pretrained(model_name)"
   ]
  },
  {
   "cell_type": "code",
   "execution_count": 28,
   "metadata": {
    "colab": {
     "base_uri": "https://localhost:8080/"
    },
    "id": "crJGqwFuhj1_",
    "outputId": "6f22020c-fb51-4b94-8a6a-cee7bec9af67"
   },
   "outputs": [
    {
     "name": "stdout",
     "output_type": "stream",
     "text": [
      "n = int(input()) for i in range(1, n + 1): if n % i == 0: n = n // i else: n = n // i print(n)\n"
     ]
    }
   ],
   "source": [
    "input_text = \"Write a Python function to calculate the factorial of a number.\"\n",
    "print( generate_output(model,tokenizer,input_text,max_length= 500, prefix=\"Generate Python code for the following task: \"))"
   ]
  },
  {
   "cell_type": "markdown",
   "metadata": {
    "id": "ubhPDqZLk2ZC"
   },
   "source": [
    "#### **9. Text-to-Text Tasks**"
   ]
  },
  {
   "cell_type": "code",
   "execution_count": null,
   "metadata": {
    "colab": {
     "base_uri": "https://localhost:8080/",
     "height": 308,
     "referenced_widgets": [
      "f5a52cca6b1a43b1937d92446b2e91c3",
      "6db149aebd4e4511b1a0a5a24bc59dbf",
      "019792590d71403b87bdbcaab939da2d",
      "5de9d889974941f991a53ad7964e5c10",
      "f5fd4e86a35349e78c77cab1993c2f02",
      "d2ae93adcf784d1bb85c6f7c09461885",
      "0cb6cc45a65b4dc29cd4a70a0615b4b4",
      "703cf42b00c9438f95e33b1cf3b59eea",
      "deb783e645534ebbaff4a5d1c8006e93",
      "12283f28baea4af4b268b9e5c22269fc",
      "3021bc8965e941c59e0093ba055670c2",
      "4f6dd09393ce47f4971e56d064fcf77b",
      "42cc18a42f2f4528a6e9f82e7daf0fd6",
      "f3a95a740e0b4fe7b35e44ac4f579e14",
      "b5ec7a6519e74488b033d90e812524df",
      "ecba70e454af45139188b214d4fb5e62",
      "f0a30b8fa7e640c48d30431fdb8e40bc",
      "39e7047b644440afb590c7eb45391e2b",
      "4188a1b09f604d199c27ea49a5d7718c",
      "975deb470a234cf8b6db23f2782da98e",
      "e3ec1359f2a244a29754bbad97667c99",
      "0bcbbb1ba1f345d093d68e10bdb4d69f",
      "cf39543de6064372a16ca378c747f78b",
      "c77182c279a9473bbf246999ca6666b3",
      "1eff13108b8a4edd898dae509e63a297",
      "02bfa89f5d374b68b005ad4006f47f81",
      "ce40bdaea86a48d2bae32967bd4fac0c",
      "aa81a30a53c343b3ad6b7ddae20d1980",
      "2a2db77140af4e2f81f41250e838bdba",
      "34f8ce4d49014d1cb196e299905341e5",
      "59940a3fe057444fa3149e375aca79ff",
      "f1779eaf1d90499cb308b327ef817d80",
      "ebbe9b82e9f24e1ab878a00988d28f05",
      "df7ec3054060460fadbde8644a976872",
      "13cdbbc974644ff29a3197445693076e",
      "f89245e4ac3948a7be708c49132c9c70",
      "219169cb01364cc18736d7f903c379e0",
      "2aaa855102fb473dbec367dc2fa441e4",
      "b4006ad7bba44621a2283512a3e6c229",
      "fad51b3e5f3145f5a3d9412af5c45f3e",
      "b16eca616c4a4cbf96c9c457b5c5d280",
      "495f740c620e4b3c8212cd8f3186c40b",
      "f4b059db79ec4134879470dd81cb49f9",
      "0013492ca56f4a5daa900e014f7b45bf",
      "ff4980bf117c42579fcd63d4c0b1593c",
      "8cff24d8660849a4adeb8cd8aee528d2",
      "df7e277fe0fd48158b53bb9892728296",
      "207c9a77816f4e88a8932d2182de9cad",
      "407aca84e512483a9611268eff1230a0",
      "b79ac5d7f3a84062b34fb4285baf6112",
      "7eb108246f2448c1b5c23b9bafc09301",
      "a5fe78aebba1443c966b5b0cb5350ce5",
      "65f3e22f669445198240be0b5cab13e9",
      "1c2f7d5ecb5b483581f721d544eda933",
      "eec96b3f61d84535822b122e3cd48338",
      "61cd8f17a7ab4eb5aef7c25ade526611",
      "8e32fd1066644420833d6cd4a24647a1",
      "c306afbec85c49f09794b6ebc0bc4a46",
      "09a4ee2e9ecd45979d3eaaf8f150e8bd",
      "5a4ec5f7510743b9bffa1421c371a0b9",
      "464858d24ded4a2da433592429c733c1",
      "abf92619e19f42318b08fd1769db38e1",
      "deca0054f229476a8e6ca41474d8614d",
      "4ab4774272824936bbcac67b10f16e88",
      "0c4f3ceb2c2147dc99ad2b47c8b97e1a",
      "f08e8321433c4227bf1dba3c4197eb68",
      "41f656f5af9047ffac2eb061e68e6930",
      "59e06291c82b4c8182fe0ac5a81d40c8",
      "7733bce616584f10beba4ea959f4c066",
      "cff73828c14a427e86dbea52fbbbcfc4",
      "bd5eb22c18c24bddbb5569d662c4c61f",
      "50d61c2b901f49d7a8560e973beb23a2",
      "0ffb28dd802149e69a70b796c3db77cb",
      "0893a4f41ea3489d84cf26e7ee275e28",
      "a3299278159442aaa0327dc6e3e2cfb1",
      "b5f402c06cc2430c9ec0c0838e80fb39",
      "1656404809b64a60b8b68f1ac9440e14",
      "1b882cf941184fa6a2812723a3664cdd",
      "ccd5fd51c83745539310dc270e1b784e",
      "62b7c74822424dfea871b672cead6eb8",
      "8a9b22cb1b50426f9a86aa421c31f302",
      "132b6244ee8e49eabaa0ae067d62fe29",
      "83db70d4069c4cf8a3e103bcfb7dc8c3",
      "b7ef48ba86514f578ed378860cfbb669",
      "1fca4c1f60b8483cb1d5ce6cb06e382f",
      "49177e5f6435455e92b5fb92765bc426",
      "8ffe8872f64c4b188304beefeaa4c96d",
      "fe31d00baeca49b9a683e2cef929a93e"
     ]
    },
    "id": "w6bNoTngk2ZD",
    "outputId": "a5f11aaa-94fa-477a-86a7-ef888c95bf93"
   },
   "outputs": [],
   "source": [
    "model_name = \"Helsinki-NLP/opus-mt-en-fr\"\n",
    "tokenizer = AutoTokenizer.from_pretrained(model_name)\n",
    "model = AutoModelForSeq2SeqLM.from_pretrained(model_name)"
   ]
  },
  {
   "cell_type": "code",
   "execution_count": 36,
   "metadata": {
    "colab": {
     "base_uri": "https://localhost:8080/"
    },
    "id": "OG7r4w9Jk2ZD",
    "outputId": "e2ac422c-6aa3-4a16-90e0-7f12cab4e8aa"
   },
   "outputs": [
    {
     "name": "stdout",
     "output_type": "stream",
     "text": [
      "Comment allez-vous ?\n"
     ]
    }
   ],
   "source": [
    "input_text = \"How are you?\"\n",
    "print( generate_output(model,tokenizer,input_text))"
   ]
  },
  {
   "cell_type": "markdown",
   "metadata": {
    "id": "DKgFvhIol7bK"
   },
   "source": [
    "#### **10. Text Infilling** ( حذف سانسورها )"
   ]
  },
  {
   "cell_type": "code",
   "execution_count": 40,
   "metadata": {
    "id": "776fSwayl7bL"
   },
   "outputs": [],
   "source": [
    "model_name = \"facebook/bart-base\"\n",
    "tokenizer = AutoTokenizer.from_pretrained(model_name)\n",
    "model = AutoModelForSeq2SeqLM.from_pretrained(model_name)"
   ]
  },
  {
   "cell_type": "code",
   "execution_count": 43,
   "metadata": {
    "colab": {
     "base_uri": "https://localhost:8080/"
    },
    "id": "vc8iFAT9l7bL",
    "outputId": "5c4da6e1-1da2-4f5c-8a97-c4962aee287e"
   },
   "outputs": [
    {
     "name": "stdout",
     "output_type": "stream",
     "text": [
      "I am going to the grocery store to buy some fruits.\n"
     ]
    }
   ],
   "source": [
    "input_text = \"I am going to <mask> to buy some fruits.\"\n",
    "print( generate_output(model,tokenizer,input_text,max_length=50))"
   ]
  },
  {
   "cell_type": "markdown",
   "metadata": {
    "id": "V6c3FFMMqjsg"
   },
   "source": [
    "---\n",
    "## **Seq2SeqLM-Models**"
   ]
  },
  {
   "cell_type": "markdown",
   "metadata": {
    "id": "y_3ouZN7oCTz"
   },
   "source": [
    "| مدل (Encoder–Decoder) | معماری پایه                    | تسک‌های اصلی تولید متن                                                                    | مثال مدل‌های هاگینگ‌فیس                                    |\n",
    "| --------------------- | ------------------------------ | ----------------------------------------------------------------------------------------- | ---------------------------------------------------------- |\n",
    "| **T5 / Flan-T5**      | Encoder–Decoder  | همه‌چیز! ترجمه، خلاصه‌سازی، پرسش و پاسخ مولد، پارافرایز، data-to-text، general generation | `t5-small`, `google/flan-t5-base`                          |\n",
    "| **BART**              | Encoder–Decoder                | Summarization, Abstractive QA, Dialogue, Paraphrasing                                     | `facebook/bart-large-cnn`, `facebook/bart-base`            |\n",
    "| **Pegasus**           | Encoder–Decoder                | Summarization (long documents, news, scientific papers)                                   | `google/pegasus-xsum`, `google/pegasus-cnn_dailymail`      |\n",
    "| **mBART**             | Encoder–Decoder                | Multilingual Summarization, Multilingual Translation, Generative QA چندزبانه              | `facebook/mbart-large-50`                                  |\n",
    "| **MarianMT**          | Encoder–Decoder                | Translation (EN ↔ Other Languages)                                                        | `Helsinki-NLP/opus-mt-en-fr`, `Helsinki-NLP/opus-mt-en-de` |\n",
    "| **ProphetNet**        | Encoder–Decoder                | Summarization, Paraphrasing, General conditional generation                               | `microsoft/prophetnet-large-uncased`                       |\n"
   ]
  }
 ],
 "metadata": {
  "cells": [],
  "kernelspec": {
   "display_name": "",
   "name": ""
  },
  "language_info": {
   "name": ""
  },
  "metadata": {
   "kernelspec": {
    "display_name": "Python 3",
    "language": "python",
    "name": "python3"
   },
   "language_info": {
    "name": "python",
    "version": "3.10.12"
   }
  },
  "nbformat": 4,
  "nbformat_minor": 5
 },
 "nbformat": 4,
 "nbformat_minor": 4
}
