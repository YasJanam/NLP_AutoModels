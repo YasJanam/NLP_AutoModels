{
 "cells": [
  {
   "cell_type": "code",
   "execution_count": 1,
   "metadata": {
    "colab": {
     "base_uri": "https://localhost:8080/"
    },
    "id": "S00quYyGYXWP",
    "outputId": "c8fd246d-59ba-47c4-f322-a34799bd3c31"
   },
   "outputs": [],
   "source": [
    "!pip install evaluate rouge_score sacrebleu"
   ]
  },
  {
   "cell_type": "code",
   "execution_count": 2,
   "metadata": {
    "id": "7SCBaj1vXIoC"
   },
   "outputs": [],
   "source": [
    "from datasets import load_dataset\n",
    "from transformers import (\n",
    "    AutoTokenizer,\n",
    "    AutoModelForSeq2SeqLM,\n",
    "    DataCollatorForSeq2Seq,\n",
    "    Seq2SeqTrainer,\n",
    "    Seq2SeqTrainingArguments\n",
    ")\n",
    "import evaluate"
   ]
  },
  {
   "cell_type": "code",
   "execution_count": 3,
   "metadata": {
    "colab": {
     "base_uri": "https://localhost:8080/",
     "height": 1000,
     "referenced_widgets": [
      "2fd0d8b8b76b49168bcbae369411e7fa",
      "a26d8cefc64a4382b9a75660412a779d",
      "ef07bdcaa1524539904917a3325876f9",
      "a38cbc93ce004869946e81a7aa6bbc5d",
      "73ebbde01f2e430f83e55badebe087d1",
      "8c877dfbf86d440a9a082f29d1694a36",
      "7167b0fe5d574066b97b179694c00659",
      "71c8b43bbb6c43659f0f852f91bd4f40",
      "37fabade6aac48f28c7e4441dd0ec6df",
      "9a2b2f21c7124b90a9f982878b061631",
      "a50163f8600b461ba23d38f38281a0a7",
      "e8e57475767c44a791345795ea660a52",
      "e6b1a99b087a4407a30a008db720545f",
      "546429f138d048ce8d02be8470c3dba0",
      "9c196ab32686449f9097a7a934e8077e",
      "ead35a8a8dd9436d8f3871f26c08a280",
      "f689fc8552964a36a394ca5926c4f998",
      "b5664f5881c14ab884102749f05f0caf",
      "bcf831088c2c48249a388693512cd6e1",
      "c1bae94735e14bd2adb007cf11525310",
      "33496ca94274422ebb2590e6b62a2180",
      "9850cd074b3046059b23423340a06f9d",
      "e5ba495d2d424ad281390d710460e99d",
      "aa272ff4712f4122916e7237be84531e",
      "21a819dcd178487eb58d935d35796fb4",
      "deb2444d130c4cc09247514620b3a584",
      "7e67b22da2f243698ba78f82128d4258",
      "adb3a26421c9482c8983f86692a9ea55",
      "342a1bf4b4554291ba617d0f57f40f1e",
      "f1dcb020d88d4bc1afc9009917e88c52",
      "f88a5d7e05dc4dd4b149903dd6077023",
      "6c80d689518e4d9ca3c5c88ec621ad39",
      "c8a59c4b93e54b87ae2e9fc9d4823672",
      "72bd72c783154ac9875625f6b8b345fd",
      "1f6126cef11b4234a0c3aa99d5b928b4",
      "c997c697cec34c60b5e04f4963eda19a",
      "687b4c2a495a47e5b71b97cb7f586a84",
      "4cec35bc27e7483eabc94c0146deb3b7",
      "775254ca147b46afbb5c12ea6c04ca1c",
      "e4f521f52900402a86bdc9ce7f5ebcbf",
      "79051fcc62d447cc908ead7a89b4d04d",
      "1309ea04c44142488a093dff3747afea",
      "f4fc3aab74c04d0c99dd100b8f13891f",
      "6fb122827eeb41d294e70d462f27a3ee",
      "c77719e1448c4c28ad50de4d7190555f",
      "c5b37a9eea4a4b208d6736912dd95f26",
      "5c18c0d8237a48fcb2ae9478f12ccd6c",
      "0ab6002e771945b3a6db0a39c07da8fb",
      "0118723eac844ae4a9a06fafc466ad78",
      "84b6b89fdf8344d191916d188f1b80fd",
      "3df645bb8dbb4e9abfeafb9115a7887e",
      "1ad63d390e6242049bca41f649cf230c",
      "00a08db0e28c4ea1ae76ba882b3aa422",
      "06e2f736f7494ee18dd2a357b82d5958",
      "e6eeaba0773c4dabb787b5264f21b44e",
      "4a6787af29e64b46937d5cd2ae473b18",
      "089bee5083b647418e35d918a982dfb2",
      "200258db1f8d49f3b6c1fc4eb9f4cbbb",
      "380f543b4cb541268a1065913a075fdd",
      "857f0c667f7341f6af023a8e2e8afcbe",
      "0d2827bc47e141f1a6ede8e17c023fae",
      "21bb209e62ba45dba611a1354d14983b",
      "be21a468cc2c45c18aa3fedad759793c",
      "f4cfcd23951d4ba397e30e4f898773b5",
      "cb66bb1b280745ba9fe71d726db23b0a",
      "cf0c87d6b5f84025b5253c4af653bcbf",
      "b5de9c0105074320990b66560b929c5b",
      "6fda70b8f3124988bc38fea67334c8b6",
      "5c840ea975fd4111b52cc3c31a113f1a",
      "fa5737e421e445719846a50da8194c16",
      "55460c44f4fb4b6798b256ee6174a4a6",
      "06f4992e208848199cfeea456a350a66",
      "e13fbfd2bfe64596aad9fde5f75098ae",
      "2fc8ff8ca3564d2aaae2ffb380da13e2",
      "a942385131ad4fabac942e15f0b615c4",
      "ac7b488cfc424086a424adcf30030134",
      "2d96c1fb0a8444e88506eca0206f4e56",
      "eba9b14c270b40d78b0b2665f5748a91",
      "8edd621c547f4ceeabb56d5235e5d358",
      "1d6b1e544a4c42dba1ee8ac3a96b553a",
      "0c74acbe48d7470ea2872608d83ff510",
      "5473899f0fad49a2b0cffb101e1d8fe4",
      "d100e31667d1474ea40cd85f69bf4c21",
      "a75c47654e2a4cc89cf4a1a21e0beb27",
      "ea9ae85ff24c46d7a05d9d7b79a6d745",
      "a3464906cac844e0aea9970730c84d27",
      "5858bb71777c44c99e5a4e28525b7388",
      "6294a2a58a9345afb2fa52bc67de4a9f",
      "192ffe194066478f9c8f2b7415895c18",
      "17993ec9e3794c5e99ca4152dab894ad",
      "47ff62a5af794bfc831a72bd37a44994",
      "a879285c54e84c1ab76a938201bea2f9",
      "92157f5ff2c44b28a2b112bff6f60942",
      "a3819092f3da4a33a177eae046639a13",
      "3f3a5fe730a6449b9be5e3260f987ad0",
      "3b8ab1c0a7434a7bb125f5f803aaa766",
      "185eb8042d474e288ae7bbd9ecdd30d8",
      "82d8446ba34c4c7aa1856e25dd23962a",
      "c87ff635798641cf9aeb07845d413af4",
      "f311e1becc8c45ba9acf5d75c081da0f",
      "557f6b5a9fde4eeab2263556bad854ca",
      "646faf4ca4014d8ba69305ef00d9a21f",
      "78a45c577d03481c852485a9abb5d6d2",
      "9aa8640b1cdc4cdc85e0129a675a2a89",
      "47972d5aef104c028db956eb12bda781",
      "83e8b163ab1041f68e18ee6ceb6b614e",
      "77367e0fbd8e4e8691f3a1f55316ec76",
      "8d399cbf0b704b4baac71c9427f237c4",
      "e597cd3dc5814b4eaba4e42e75d3d139",
      "bc7ad33f88ec432c8a2c62364a9b3262",
      "bab3107f427f463d9da2947e0a5891b4",
      "8a98689d661c457dbf5afbb5b3dde384",
      "c6b98290836e46ecac59404f28df5a28",
      "6cb5c5b70cb246b4a4061ccf8862ce23",
      "24f73e6e35d344ff9d247cebc082de79",
      "ce63c46dd03340c4881e22d242c63754",
      "9a79a9383c2149f785fa4b2a9afcd802",
      "b5f6723fcba246c38a85312f73e52eb5",
      "e77627f2a0eb436e801a233a440af015",
      "17bd94d103904544844437981279132e",
      "428ddbc9b4784a94a69845ae7825ebec",
      "0788bf1980e2452dbc90cacfb18ef4b8",
      "eb58c836a8ea4b3286e5ec9dfd2aa72f",
      "3e913aab9197444e9cfcb2fb6316fc5a",
      "cfcb4a3c7de34878a42379bf2e8111c0",
      "f578986a90c644b99c60bf33a6ac3b7a",
      "bd5a6114468e4b52896e8ee2368a4974",
      "5984663d43f64d7387cb1ab2e6c947fb",
      "79c324b10f2d426094303d408e9b0e0e",
      "a5a01fb9e32949f690914aaa4eda1587",
      "9498929838d84881977206398fd0abfe",
      "9698832cbe994c6d9c444518cb6b1492",
      "6bfa4b87cb9f4703985f712ed7420f08",
      "634b444afe56469e8c3458cb50261360",
      "b43522b4e246457f9dfdb7b647f6f1b8",
      "5c85ccb5c2674fd1aee40a2a30fee220",
      "3014444361b945d08199eb0edfc06a1f",
      "0133f5f25dc342728aff6d1951c41c63",
      "10ec02f201ca4053a6a45fc27cb2d78c",
      "53d57bbe60ab409cb7cb4ab004c85064",
      "7ed3936fd9a342c49217ceb832d244b6",
      "6db07e4f579b4545a7f83d67c75a2f4c",
      "78099afb243f4108ae403b8a75ded218",
      "175ef1c3708c4bd390b71638b72961d6",
      "3898c9c02640465794b2cf272b218ace",
      "e291b1c4c5484e3a89b2289c952f0ba3",
      "af67ade9b4cd47528e35935d989688f3",
      "67bcee5dea5b43a08dd71c754554baaa",
      "0c64e4a1cf93412d9e9d99edba36b527",
      "33bfff735111432c844f3a91bf3df47f",
      "a01e69cec29b4056bc730332cb945dc3",
      "afd66e8550ed4666ad741357953bbaa9",
      "69177f5b34b2427fa50eff618386c78b",
      "a8b8a5854bf54b6ca0ec9ba530fa0cf4",
      "f8da5834354c49ef865b15f425bd6ae4",
      "24980fa91419420fa42787c928074bbb",
      "8a61c65c6940488e9fa20e99eb089cd0",
      "2ada7fcd394e4d3dbc9e6bc2ac8744b4",
      "934420f9e45f4164af7c917de4d8f4fb",
      "4bf89573929b4385a592e3340f9f449d",
      "f27a4e8f86104b4cad85875147804634",
      "20d94530fb4f4a938419e5e30f115d75",
      "0a268044ae584fbab0b9f0df95226b57",
      "2c947cc221cc4b6c8fcbaefba04d8a1d",
      "ffe60da50ee14a8bbaf9c015adf0adde",
      "8f789b8d6d4f460f9c4f99f7020ffe6e",
      "f3ac5407a2db484aaf0d0999c37f7ef0",
      "db6f55d53db447bb955c6c30a5233fae",
      "cc7953c4c7494993a6a03e3c06730b9a",
      "7c137e7d1650460f9ef9a2449a122ce0",
      "34e714b489944442b81042033abce388",
      "b1d3f4539bc449c2bf2af38b8e3b55d3",
      "b530a4facf30415b8e6b53747afb5a4b",
      "cf0a8720c34046ef9349d75bd385aef3",
      "e3b7bd9942264269853356b9f41c9a2d",
      "4e0ce8f0430f42f3a14185f480cf0edb",
      "825afce33ab047a8b40b67df4d43711f",
      "900c0844e29c43f5b06015cd03d5b1fb",
      "ec8f8c191e514b7bb2adf65b6ab1af7c",
      "973850655a544e658cf3f82649664f0c",
      "a67a775817a24696b1d3ff44bc5c8d34",
      "a43e0559f9b048fbbba87e9b2f0e245e",
      "5081266dc8cb46d3a1148a5309789b97",
      "ef9639b5492e49cc8c0b70cd6c4b31c2",
      "271ee1fb9b15430ea71944672ab9c422",
      "c01fa6c456a2446db6d90ca8902f251c",
      "97260c3261fa4992b22b70b4aeac7b7c",
      "0062f689d4014d61bc2ffbf38057d058",
      "c771858d27e541feb5885bcecbc39c7c",
      "55b93cbd94e144a3bb0a00feae8ee278",
      "b22f0a93073b4be4b45abe969699e737",
      "ae04fb6eacb847868919018f81adcc11",
      "59e9f190d42a49a9b8103f31e2d9f5ca",
      "069a314c945e415497bf868aa0a160c6",
      "fb9de4175a6b4ad499ae518a00845d51",
      "520cd290270746c78e7e39972ecad9a8",
      "34471ef874374dcf801250a79fa38962",
      "828cfe70f8624fbd8cdb0fbfc4bafde4",
      "7abc6b08484d46c6ab80c5b4545a5179",
      "4c3c957dc781447c98ae1ce8522052a0",
      "2b675406d8ad47b99bbd69dfd1b7e126",
      "ec9af4bea9f0456282fe31842d62b066",
      "818e6fdc396748e78305fea26939ab9a",
      "fec886e29f424b7da1a9688f3fd6614d",
      "d62b321912ca43c7a50f63e7a781daec",
      "78752574499845c8869d9b023a93e170",
      "769da27af08c4eff89223d2016c51509",
      "c9a28607d71d462791e46fc03b974c37",
      "01263a5a80f04e03a8a4c05d003d5303",
      "b0091cd2645347f6b417aa89bec2a34c",
      "0dc5e9f9c07141168901003d69191fef",
      "12543bcce5d04bbd83d806c887debf2e",
      "b569c83615a647fc94ba9ddee4d94754",
      "f684e63ecefa4a1e9fc654b0bbbe02d7",
      "cfd54572f3cd466493c98808d0914053",
      "2cf8819162924101b85f1281fdb048be",
      "0b53f835cdef4b258963ddcf7d0a438e",
      "1c887e1563c343a2b489950f3c3e7add",
      "e4a81215f900496faadb2a01166424dc",
      "b40a1368209c457082e61dd0258b14ac",
      "b00d96b300ca4e17b7be31647e336c10",
      "b2bb6f40d4864336b84c23172076d040",
      "b41fbf163b264bcdb708ea16dac060dc",
      "ead7599210cd469d9f21f0b447691c17",
      "58fb533987a549dab67661ff3a48147a",
      "be42683157da4c93ac90d928de22c77a",
      "043c9e9e2d2140d880cb2406f713f854",
      "5ed05f9ee1dc4b47ab500efa9e42d8be",
      "4810f4c182cb42da8e0bc5956681d026",
      "30a49474ba1a4c7c853cc8afdfd2bf2e",
      "34e96ca7e6e941058573798189b3d315",
      "f1e1a5be6b7c461d81f8994bab1244e5",
      "1622c85beaa04ab6b93b5fe07280585f",
      "90ef097c40ae43639148b293d28b3978",
      "3573aeb3249c4cf983ef4088ae279c9a",
      "91d09c47e1a249b1903999561699b0a6",
      "10d9a40f05534a84878c1ec958925abc",
      "73c699a5302b401591e9f5e6c90629ab",
      "13f51c9dd62048c987c633cae09d692f",
      "e4a3808619dc44d695be3603115170d8",
      "b109dc40b37b4e1d96b1f0ee20fce2d1",
      "78b45f1abbf1487787e78ff4a72ed9a1",
      "73e36868439a46a182f9b2d66a71d198",
      "1ce85564ab9c4ceeb4e2953837c4852c",
      "7e850991482349c6b099b22c59ebd12c",
      "32a4a347088747d0ac2590ce543b30e5",
      "2bec7e46961149d3acc02df4805251bf",
      "28a2e2f295204902bc7df3540dd170ca",
      "8bb72814e2b448a4ae708a8d64dc4a8f",
      "5a75834b07884f668a210f6ac8ecc922",
      "d0895ff59cd447d5af89140ea059ea44",
      "88bbe48d94e44bc38d030c18490729ca",
      "ef1e26edf7cc4e1580f00b39be51be2f",
      "f448426f50a14cdc9a60beaa3b2212e3",
      "c31987a2990d4c9b9c4cbbb91a26a847",
      "96313ad1d4ff4adfb4e74dc61682e78b",
      "f3eeeb09d29f4dfd9fa821c8a4c4a049",
      "d7c73d30f08846c9a93786b7330c2499",
      "f48e0f9715b7401e9b05534a98e53ffa",
      "b213563473db48c8920734cfae7f4588",
      "2f8deea4e4f949029afba51cf4bf1511",
      "9fd6c9be897c4808a7b8ec0ffd9f8da1",
      "4692c9ac2ddc41279ff2cf5d614c3614",
      "87c40cb2635042a2b826ab4d0bb1cc81",
      "b580feb5db104339b279b278aaa68fbd",
      "58e11af4a00547e18416a8de6c55701b",
      "9dcf8fbf8f6b45efa608db5f91f3901e",
      "75ad643aa8f14b5bb6020491ed47dffa",
      "58fe9ef4d9ca42e197d3dfc570309aed",
      "ff21f4012981484d9ce305b9c1988d39",
      "1ef1a0f9dc1d49c29730bf02df2919dc",
      "62b4e6dae90b4c798dccc106a80adeb6",
      "9c97831a3631435e9d41a91fdc976942",
      "50b2d2d84d2c4ad484178a7ca26e8c95",
      "f953a5bfb442465e81731694e97a1b16",
      "c93fdf68c0444a478ae9c67452f1eaed",
      "c6e66e1a07a445db9f0eb44ef2d7e6c2",
      "6637aec4e3224bc2a6f02fe5772a1623",
      "49695f63b6354d67921d8cdddd70bc29",
      "5ee1101609d84064a2a27c4dafde3180",
      "723f83a4caaa4fb5b816cd55d047c1ab",
      "cb41d5a335ea4dd396f396ee9009502a",
      "f8450205d06341a0b13694ab50abb54f",
      "84cd448235a642ffbc32eafe75841be7",
      "78fb51aa2ac64b55877a271242ace884",
      "e2bb0dc1baa542e69efacb17999ac1a6",
      "6febeecd4e934e059f9f4f61f731fa34",
      "052b24a156914cc2a6b33951d7682bdf",
      "c340bfd8225e4ee885ea817ea1faf148",
      "94da17df0b31410ab6b5dd1b6dceeb3b",
      "4f669dd689494e61bbc334ed15eacd89",
      "8dd7962794c24d119f568a53ad203ffd",
      "21019b50c0164f1c9bf1a71fc8f3df62",
      "bc8cd016222b4ee09b1f5ab7eaf388ca",
      "75be6fb919374016a51068793b97a954",
      "f0387ac006f0439f83058dba83b24062",
      "869f570d77c64a61bd26bc0c61402353",
      "ba48b788bd704caabbda37e2229e40d4",
      "36a75a805d1c4b1abce65b8766175905",
      "e19d92faa8f94c059c3a897e1e73a39e",
      "97ef635a0e504ac78821fb07f31232ac",
      "3f8c7c36d83f498b8fe09f4dea3c258e",
      "26d404a0f4fc44dda3defaf2fe8a6258",
      "3bb9d6263a3242b9af1661460033ff66",
      "7bae74c2a76642ee83e851051e412183",
      "1cdc663eba194f229d2f4d59cb166105",
      "0152519d4bfa40ffa71fcbf518da18a5",
      "f211ec7dddeb4f579e6c6ef0263f0855",
      "ed72981bdc1346a1afc6b4c4e3fbb706",
      "fd41e3b87dcb400589791f8d6b0a8ce6",
      "343bc2ac32be460ba1271a365f710d96",
      "9cbae58085344525a6b4645fe6c8d222",
      "ec5982f8fdba499cb7dca136a8d057a3",
      "ccfa795b80cf4e59853b5f612bd4f9bd",
      "47cf3fea4a3744a59194ec2f7c20d0fa",
      "f8e8331471084de488c9a7aeb9209a78",
      "d2eb8850b44e4cdda17605337a03f532",
      "7c8350ef0aa94057a946ca64f00d1413",
      "4ed201862f4048d8a78eb4b4eee084e8",
      "7a11c82cae8f4a55b0ab0264fb4b42e1",
      "0f2e2841b5a6445ebb9d1252382c7991",
      "a11461242aba45a1a1b9e6afacf10c77",
      "d35dd0db948c44e6907ef7915e29920b",
      "207e5102827f44eabccadf0aa0bc7e62",
      "49e5edbfb33549889a946c0299b74383",
      "dcea38c014b84ed7a68ca0ba29e72ba9",
      "c8a235018f56475187ffaa0a51abaf09",
      "bc62876df8394d6cb21f6052e682c87c",
      "8efbfbb4223043dc8874fdb6851752d9",
      "daaf424e13f34213a53e78606b72c9e7",
      "fc2cea4d32b94b1a8d135f4b10802687",
      "42cdb26da870435d89942ff0bbb43c61",
      "7b8385adc444478a887f4dd3fd34643c",
      "6408d7477eb64239b80155db0fa96df2",
      "5721a3ecc5a4405da4f1716e1ca23f69",
      "a6beb983e5434ee89066e138f2eda7da",
      "1d51deec8c6b4290afd930fdc3ab49f7",
      "12e9a0e2c0fa41e08490633ca9a6eef7",
      "436a9a6d5e3f4f5cb149f6cd81e7d8bb",
      "f8a311d8d35a4fc3bbc2b8fb585706cd",
      "7ca1c7fb218444499b23550d8515e3e2",
      "fda41f68442d4717825cab2ae4da1cce",
      "aa402ea37cb84bd2a1591572337c0eb7",
      "193ea82d62e74147a2a6ecd553d96c9c",
      "4197d6de22534151879d0157fd8127f1",
      "6e83819eb8c2460bbeef2c8310c7d893",
      "49eb7d85004e422cb3d0ee71ca08f7df",
      "873ca9b0ffbb4e9583a2a922f4453053",
      "8a081bbcda514b52840575101504dbe2",
      "cf0c2125e3864d83a6efdcc05f677613",
      "6e7c48c63e4b48da859e157c93f74eb5",
      "2d610508a367432eb6046a9f7ac536b1",
      "d4632f8a28fb4b9da58deafb75fba2dc",
      "b572286d3fec41cca096921b00ed7cb1",
      "cda690059c504eafbb8ee65b55ed89b2",
      "eb7e5c04d45a4793aafa79e9995d2d0d",
      "84d1a8ed7ee9497baf3be87ba8e5b708",
      "a6fb08fb624d4667a2898941144b953b",
      "cea04108a62449568157450b2428dd90",
      "b72df1e631a2492795693852fa98483d",
      "bd6dc487c30645b49be040c8970c52ab",
      "d4462013bb76432ab0743f3c7078f33a",
      "ca861546eecf4747a68a08087f1450b6",
      "13c0cf1b184d4269a1fa29b758857f68",
      "682cd5841f604e01b6ce9550ed821271",
      "d5734a830a3f430aa6d7aa4d8bda7c2e",
      "fd1dde6b844247b29d342c5b8b638038",
      "a8038bd572284d98a84f958e92335232",
      "dde5348faa494b7e99a46ee356f78a11",
      "8f8a331d90344dd68804dcdbb3a4eaec",
      "54fc3bc9ff9a4adaac12b0106b7539a4",
      "3d3d9f488fbb4ab08abb62f36f90dbab",
      "c1050e28685d44018b2a4a845178411d",
      "87474aeabec44cc6aee6eb156234dd73",
      "42bf19c160f74d1ab16e6ac948866c41",
      "64ffb05e5236403eaa340cd8eac65a19",
      "3f153f9dd46046cb9f397fb736f4b3bb",
      "46295781522f42f5842afd62bf1c341f",
      "67f34681a67344a9a8b3210b2634a9d0",
      "ba34f2a1d1174cec971a4467e9269f53",
      "e9e75837cf934d8c82592f135a09ed69",
      "8baf76852cbb4aa7b0d56f913335ab41",
      "1461dd0943f6418688ab09f995427d7e",
      "63b593f021cd4816b7d4a4ec088065bf",
      "29d94ce9b32e442389d8660edc421b0d",
      "7129ec305fb6466c942709f9f32cfc0f",
      "7afb0acbfe8848cd95513eb9e498c5c0",
      "7849764dbe6b4c13b9b645bf5a39fc8a",
      "cbd2a18921dc455482623500364cf009",
      "110321b4384c47af9a7a9dd41789849a",
      "678a82bc10bf44f8a988c560b9467422",
      "559d6fe3d98e40018bb090bd563eadb0",
      "b4e2260a0a2548ddb0179768828c43f3",
      "c498c0fe18094d778659125608c8a63e",
      "dc2783944e9742cbbd7682db506debc2",
      "c1f3deffcbc04a299b73a988f66a1b2a",
      "83b4f037130d4774ac119c366b821111",
      "9c7947f1fe554076b0b7a4d35324a7cb",
      "a1da784c3842443eaaf49986468d8919",
      "9743ff9af408467394675b377098442c",
      "a640bc1bc21c45b59934e95d82505c11",
      "82cd01905e3243f1b189a1faa9803456",
      "7374fc3fd71f42309a5d63367f338992",
      "099cb501e78749d6bf54ae8fc3d86070",
      "7c1c2aa35078478fa83dbf8ebbdec417",
      "7a277c522dd04481b15702dff1ca892e",
      "75d9162862dd43d68a547f904d9363ed",
      "27df38c3e616467d9f6b526cca5629a0",
      "d32054697dbf4d79b737154b7f8fe1c3",
      "79e43b45f8124300acba4f8cc09693c9",
      "f884d36407834721a740eab3baf03ab6",
      "4ab6ee1ebe344d5ba57ea1900475044f",
      "a51d99e7988a4e78b4e56e7536e298fc",
      "951b0f03fda048a2a5458e96710cf516",
      "92888a63bc574da589033bb9bbc12011",
      "8eea513c8d014b97a9ab9978191a9006",
      "8d3a1306d58a4e65a85a5790a48becac",
      "ae8f4fb036124f6797bfae3aceb9c1fd",
      "b9b08ce366b84fa681cc59c8196fd4f8",
      "baa1d9add471485094d0392af630d474",
      "658b180bfdd14cf89fb91eef8f988a50",
      "1059a5b59f35484db634a4d47873d6ad",
      "3c58186e60614354a8b85fc09de7899b",
      "ae079528923c4e9982808773c38f263e",
      "d7c0815056f8433cabbb44e7be9ac118",
      "1214caac4dc549288e77c83aa0008ced",
      "ec8e621d194642de8797a9be78168861",
      "87e2b0ac78e0400bb7de2364b9c6e68b",
      "59597a31cb424c8bb6db220789d797e3",
      "ba60c956bd7945b5865d89464f890ba7",
      "59282e1d0ef14f39ac700eb5bce99e4a",
      "8c4fa4cc479643edbe2406403c68b5c5",
      "4c09aac0c7ca47798fb48d2a6a66a16b",
      "e12bdb6d0c264591ab1781b25f28086f",
      "fc34f21301e54c5e9dd5b9d59d474bd4",
      "6e71e466b31e403689c14492b31d98ad",
      "f0b5209381f245f1888a3a9ade741f10",
      "4dfc932461614e37a18df8001824fb0a",
      "be0598cf02cc4301be4f1aadb7f4e128",
      "55e13e2a50cf4b568c14f15e3c89924b",
      "f075f3ea22a64142bd9025bdac7d6994",
      "242a4ee813434d5394965e1235c84bb2",
      "22f84d9c931b4b46907a8709ff73d124",
      "dda93721b7214a5081294352921a4626",
      "e797c8041c804f0184e934216b4b52c5",
      "c077e2fe9a114753b8d55e421c118184",
      "27dffd1d1c1b4a868d78fab48a65e683",
      "98e9040e41a44a238bae4a804724a9cb",
      "3b1c828259904617967a0abe9751c748",
      "5b23d75695df4a3fb81d5a74bf9ffc79",
      "1dcc254305fd4aacbeae06834ce2fd72",
      "fd616ec4db804450b21f593d11fe236c",
      "ab33e2c55c21400ab67cd25ff50628eb",
      "6b12a383f3c9422c834042cc49770ac9",
      "f75a9f00f66c4516825d352edc17100f",
      "addb32f6f8854287a8595a11b00f09f0",
      "adbe6905328b4b77a044626d8bcca448",
      "924f7a63a6da4fde80e741a44068878e",
      "c48f56ce7a2e4a7b9b98b20c18cc55b1",
      "255123bd88674aaf8745fa6862d899a1",
      "bb306e672a904f27b19b2f883d7ae3a9",
      "7086dd31dc12437aa9e81e24c7bc7e61",
      "26b32b6775984fb79ea446e7c339cd95",
      "3c6524ecc819410aa4a353c808889456",
      "47a7ff09eb39490eb8a013cb282a7c64",
      "e16b978db5164d558f2770fb78f4a964",
      "568375dc89454dde8a93b5522e038d67",
      "fce4d574e22149c58208e4fc4a3840bd",
      "9d35578790714a1d893fd81df020042e",
      "cc7584a286d24170a81c8b074bca3d51",
      "496e5b1c856a4daa9c1e0cf6e63f1e7b",
      "2b1fbfffd5714467961aa98e9211cd77",
      "e7dc640e483a41949c4e2fa36fc5d98a",
      "c784eb94ca88431b8e9f46f39ac9d6e3",
      "25cde78d04b54d93a639331be738254c",
      "c19e1fc06fd245608525fa8e1c278b37",
      "f9295182242445d3af18dffc5bcfd48c",
      "201c8c980f254c05ae74db19adf38a5d",
      "19536247f963446191cc42e034566013",
      "cef94d36b7e7409abf9f5f3030f7530b",
      "f6a272ec31d3417e883fc0eda5bbf3d2",
      "3a617282f27d489a8af4d9c41089d80d",
      "373e42e784934926aa4ad3433ebc2848",
      "92dfb87f6e9845e481fa142c928a1ea4",
      "ff490790ce0f49b48f9f24857409017e",
      "2b36920f65644a0a8f315a58f2b04700",
      "1403bde188c546be9608f4cdde4d4424",
      "7696305fc98547f7bad0d09915cb64c6",
      "d94a867acc744ae6a7b6c426f9482fbe",
      "66f28275430d4da39e515d18098f33e7",
      "1d8ca135cb394cf2a5b7dce10c7d60bd",
      "30e0c8b319b74f1ba1f995374858a519",
      "691390679a764c668ddf4aef663da529",
      "090cf2811d114dc48d7a386d441ac6c6",
      "31f0fd2808074b328fc7d3a4536458a1",
      "e09a9d743efc487b8d766bf2794fbce5",
      "02a31bae699546f7a165a64bbac4f335",
      "4943a300f0054aa3a92e8bf9abba522a",
      "e664ca8b1bf343119b489ccb10233db0",
      "1b9134409c454b7ab512cbcb49359e79",
      "109ccf8ed52747a1a83b3b4337713bfa",
      "8db0bc0238a34b5b96a0dbb42384b4d7",
      "ea4e759735fe44e6bbad96b86f96207b",
      "d3ecb57a06a640bc9a93c178bdde3d1c",
      "a910980ddaef420eb9d4180c0f04236d",
      "23bda361d4e8470588235a03c88b22b2"
     ]
    },
    "id": "_taxnHkTYgqi",
    "outputId": "948dfde3-15ca-4486-ac44-845354423903"
   },
   "outputs": [
    {
     "name": "stderr",
     "output_type": "stream",
     "text": [
      "/usr/local/lib/python3.12/dist-packages/huggingface_hub/utils/_auth.py:94: UserWarning: \n",
      "The secret `HF_TOKEN` does not exist in your Colab secrets.\n",
      "To authenticate with the Hugging Face Hub, create a token in your settings tab (https://huggingface.co/settings/tokens), set it as secret in your Google Colab and restart your session.\n",
      "You will be able to reuse this secret in all of your notebooks.\n",
      "Please note that authentication is recommended but still optional to access public models or datasets.\n",
      "  warnings.warn(\n"
     ]
    },
    {
     "data": {
      "application/vnd.jupyter.widget-view+json": {
       "model_id": "2fd0d8b8b76b49168bcbae369411e7fa",
       "version_major": 2,
       "version_minor": 0
      },
      "text/plain": [
       "README.md: 0.00B [00:00, ?B/s]"
      ]
     },
     "metadata": {},
     "output_type": "display_data"
    },
    {
     "data": {
      "application/vnd.jupyter.widget-view+json": {
       "model_id": "e8e57475767c44a791345795ea660a52",
       "version_major": 2,
       "version_minor": 0
      },
      "text/plain": [
       "Resolving data files:   0%|          | 0/30 [00:00<?, ?it/s]"
      ]
     },
     "metadata": {},
     "output_type": "display_data"
    },
    {
     "data": {
      "application/vnd.jupyter.widget-view+json": {
       "model_id": "e5ba495d2d424ad281390d710460e99d",
       "version_major": 2,
       "version_minor": 0
      },
      "text/plain": [
       "Downloading data:   0%|          | 0/30 [00:00<?, ?files/s]"
      ]
     },
     "metadata": {},
     "output_type": "display_data"
    },
    {
     "data": {
      "application/vnd.jupyter.widget-view+json": {
       "model_id": "72bd72c783154ac9875625f6b8b345fd",
       "version_major": 2,
       "version_minor": 0
      },
      "text/plain": [
       "fr-en/train-00000-of-00030.parquet:   0%|          | 0.00/252M [00:00<?, ?B/s]"
      ]
     },
     "metadata": {},
     "output_type": "display_data"
    },
    {
     "data": {
      "application/vnd.jupyter.widget-view+json": {
       "model_id": "c77719e1448c4c28ad50de4d7190555f",
       "version_major": 2,
       "version_minor": 0
      },
      "text/plain": [
       "fr-en/train-00001-of-00030.parquet:   0%|          | 0.00/241M [00:00<?, ?B/s]"
      ]
     },
     "metadata": {},
     "output_type": "display_data"
    },
    {
     "data": {
      "application/vnd.jupyter.widget-view+json": {
       "model_id": "4a6787af29e64b46937d5cd2ae473b18",
       "version_major": 2,
       "version_minor": 0
      },
      "text/plain": [
       "fr-en/train-00002-of-00030.parquet:   0%|          | 0.00/243M [00:00<?, ?B/s]"
      ]
     },
     "metadata": {},
     "output_type": "display_data"
    },
    {
     "data": {
      "application/vnd.jupyter.widget-view+json": {
       "model_id": "b5de9c0105074320990b66560b929c5b",
       "version_major": 2,
       "version_minor": 0
      },
      "text/plain": [
       "fr-en/train-00003-of-00030.parquet:   0%|          | 0.00/247M [00:00<?, ?B/s]"
      ]
     },
     "metadata": {},
     "output_type": "display_data"
    },
    {
     "data": {
      "application/vnd.jupyter.widget-view+json": {
       "model_id": "eba9b14c270b40d78b0b2665f5748a91",
       "version_major": 2,
       "version_minor": 0
      },
      "text/plain": [
       "fr-en/train-00004-of-00030.parquet:   0%|          | 0.00/242M [00:00<?, ?B/s]"
      ]
     },
     "metadata": {},
     "output_type": "display_data"
    },
    {
     "data": {
      "application/vnd.jupyter.widget-view+json": {
       "model_id": "192ffe194066478f9c8f2b7415895c18",
       "version_major": 2,
       "version_minor": 0
      },
      "text/plain": [
       "fr-en/train-00005-of-00030.parquet:   0%|          | 0.00/238M [00:00<?, ?B/s]"
      ]
     },
     "metadata": {},
     "output_type": "display_data"
    },
    {
     "data": {
      "application/vnd.jupyter.widget-view+json": {
       "model_id": "f311e1becc8c45ba9acf5d75c081da0f",
       "version_major": 2,
       "version_minor": 0
      },
      "text/plain": [
       "fr-en/train-00006-of-00030.parquet:   0%|          | 0.00/240M [00:00<?, ?B/s]"
      ]
     },
     "metadata": {},
     "output_type": "display_data"
    },
    {
     "data": {
      "application/vnd.jupyter.widget-view+json": {
       "model_id": "bab3107f427f463d9da2947e0a5891b4",
       "version_major": 2,
       "version_minor": 0
      },
      "text/plain": [
       "fr-en/train-00007-of-00030.parquet:   0%|          | 0.00/241M [00:00<?, ?B/s]"
      ]
     },
     "metadata": {},
     "output_type": "display_data"
    },
    {
     "data": {
      "application/vnd.jupyter.widget-view+json": {
       "model_id": "0788bf1980e2452dbc90cacfb18ef4b8",
       "version_major": 2,
       "version_minor": 0
      },
      "text/plain": [
       "fr-en/train-00008-of-00030.parquet:   0%|          | 0.00/242M [00:00<?, ?B/s]"
      ]
     },
     "metadata": {},
     "output_type": "display_data"
    },
    {
     "data": {
      "application/vnd.jupyter.widget-view+json": {
       "model_id": "6bfa4b87cb9f4703985f712ed7420f08",
       "version_major": 2,
       "version_minor": 0
      },
      "text/plain": [
       "fr-en/train-00009-of-00030.parquet:   0%|          | 0.00/239M [00:00<?, ?B/s]"
      ]
     },
     "metadata": {},
     "output_type": "display_data"
    },
    {
     "data": {
      "application/vnd.jupyter.widget-view+json": {
       "model_id": "175ef1c3708c4bd390b71638b72961d6",
       "version_major": 2,
       "version_minor": 0
      },
      "text/plain": [
       "fr-en/train-00010-of-00030.parquet:   0%|          | 0.00/239M [00:00<?, ?B/s]"
      ]
     },
     "metadata": {},
     "output_type": "display_data"
    },
    {
     "data": {
      "application/vnd.jupyter.widget-view+json": {
       "model_id": "f8da5834354c49ef865b15f425bd6ae4",
       "version_major": 2,
       "version_minor": 0
      },
      "text/plain": [
       "fr-en/train-00011-of-00030.parquet:   0%|          | 0.00/241M [00:00<?, ?B/s]"
      ]
     },
     "metadata": {},
     "output_type": "display_data"
    },
    {
     "data": {
      "application/vnd.jupyter.widget-view+json": {
       "model_id": "8f789b8d6d4f460f9c4f99f7020ffe6e",
       "version_major": 2,
       "version_minor": 0
      },
      "text/plain": [
       "fr-en/train-00012-of-00030.parquet:   0%|          | 0.00/241M [00:00<?, ?B/s]"
      ]
     },
     "metadata": {},
     "output_type": "display_data"
    },
    {
     "data": {
      "application/vnd.jupyter.widget-view+json": {
       "model_id": "825afce33ab047a8b40b67df4d43711f",
       "version_major": 2,
       "version_minor": 0
      },
      "text/plain": [
       "fr-en/train-00013-of-00030.parquet:   0%|          | 0.00/230M [00:00<?, ?B/s]"
      ]
     },
     "metadata": {},
     "output_type": "display_data"
    },
    {
     "data": {
      "application/vnd.jupyter.widget-view+json": {
       "model_id": "0062f689d4014d61bc2ffbf38057d058",
       "version_major": 2,
       "version_minor": 0
      },
      "text/plain": [
       "fr-en/train-00014-of-00030.parquet:   0%|          | 0.00/214M [00:00<?, ?B/s]"
      ]
     },
     "metadata": {},
     "output_type": "display_data"
    },
    {
     "data": {
      "application/vnd.jupyter.widget-view+json": {
       "model_id": "7abc6b08484d46c6ab80c5b4545a5179",
       "version_major": 2,
       "version_minor": 0
      },
      "text/plain": [
       "fr-en/train-00015-of-00030.parquet:   0%|          | 0.00/231M [00:00<?, ?B/s]"
      ]
     },
     "metadata": {},
     "output_type": "display_data"
    },
    {
     "data": {
      "application/vnd.jupyter.widget-view+json": {
       "model_id": "b0091cd2645347f6b417aa89bec2a34c",
       "version_major": 2,
       "version_minor": 0
      },
      "text/plain": [
       "fr-en/train-00016-of-00030.parquet:   0%|          | 0.00/227M [00:00<?, ?B/s]"
      ]
     },
     "metadata": {},
     "output_type": "display_data"
    },
    {
     "data": {
      "application/vnd.jupyter.widget-view+json": {
       "model_id": "b00d96b300ca4e17b7be31647e336c10",
       "version_major": 2,
       "version_minor": 0
      },
      "text/plain": [
       "fr-en/train-00017-of-00030.parquet:   0%|          | 0.00/226M [00:00<?, ?B/s]"
      ]
     },
     "metadata": {},
     "output_type": "display_data"
    },
    {
     "data": {
      "application/vnd.jupyter.widget-view+json": {
       "model_id": "f1e1a5be6b7c461d81f8994bab1244e5",
       "version_major": 2,
       "version_minor": 0
      },
      "text/plain": [
       "fr-en/train-00018-of-00030.parquet:   0%|          | 0.00/261M [00:00<?, ?B/s]"
      ]
     },
     "metadata": {},
     "output_type": "display_data"
    },
    {
     "data": {
      "application/vnd.jupyter.widget-view+json": {
       "model_id": "73e36868439a46a182f9b2d66a71d198",
       "version_major": 2,
       "version_minor": 0
      },
      "text/plain": [
       "fr-en/train-00019-of-00030.parquet:   0%|          | 0.00/259M [00:00<?, ?B/s]"
      ]
     },
     "metadata": {},
     "output_type": "display_data"
    },
    {
     "data": {
      "application/vnd.jupyter.widget-view+json": {
       "model_id": "f448426f50a14cdc9a60beaa3b2212e3",
       "version_major": 2,
       "version_minor": 0
      },
      "text/plain": [
       "fr-en/train-00020-of-00030.parquet:   0%|          | 0.00/261M [00:00<?, ?B/s]"
      ]
     },
     "metadata": {},
     "output_type": "display_data"
    },
    {
     "data": {
      "application/vnd.jupyter.widget-view+json": {
       "model_id": "b580feb5db104339b279b278aaa68fbd",
       "version_major": 2,
       "version_minor": 0
      },
      "text/plain": [
       "fr-en/train-00021-of-00030.parquet:   0%|          | 0.00/264M [00:00<?, ?B/s]"
      ]
     },
     "metadata": {},
     "output_type": "display_data"
    },
    {
     "data": {
      "application/vnd.jupyter.widget-view+json": {
       "model_id": "c93fdf68c0444a478ae9c67452f1eaed",
       "version_major": 2,
       "version_minor": 0
      },
      "text/plain": [
       "fr-en/train-00022-of-00030.parquet:   0%|          | 0.00/267M [00:00<?, ?B/s]"
      ]
     },
     "metadata": {},
     "output_type": "display_data"
    },
    {
     "data": {
      "application/vnd.jupyter.widget-view+json": {
       "model_id": "6febeecd4e934e059f9f4f61f731fa34",
       "version_major": 2,
       "version_minor": 0
      },
      "text/plain": [
       "fr-en/train-00023-of-00030.parquet:   0%|          | 0.00/270M [00:00<?, ?B/s]"
      ]
     },
     "metadata": {},
     "output_type": "display_data"
    },
    {
     "data": {
      "application/vnd.jupyter.widget-view+json": {
       "model_id": "ba48b788bd704caabbda37e2229e40d4",
       "version_major": 2,
       "version_minor": 0
      },
      "text/plain": [
       "fr-en/train-00024-of-00030.parquet:   0%|          | 0.00/274M [00:00<?, ?B/s]"
      ]
     },
     "metadata": {},
     "output_type": "display_data"
    },
    {
     "data": {
      "application/vnd.jupyter.widget-view+json": {
       "model_id": "ed72981bdc1346a1afc6b4c4e3fbb706",
       "version_major": 2,
       "version_minor": 0
      },
      "text/plain": [
       "fr-en/train-00025-of-00030.parquet:   0%|          | 0.00/278M [00:00<?, ?B/s]"
      ]
     },
     "metadata": {},
     "output_type": "display_data"
    },
    {
     "data": {
      "application/vnd.jupyter.widget-view+json": {
       "model_id": "7a11c82cae8f4a55b0ab0264fb4b42e1",
       "version_major": 2,
       "version_minor": 0
      },
      "text/plain": [
       "fr-en/train-00026-of-00030.parquet:   0%|          | 0.00/365M [00:00<?, ?B/s]"
      ]
     },
     "metadata": {},
     "output_type": "display_data"
    },
    {
     "data": {
      "application/vnd.jupyter.widget-view+json": {
       "model_id": "fc2cea4d32b94b1a8d135f4b10802687",
       "version_major": 2,
       "version_minor": 0
      },
      "text/plain": [
       "fr-en/train-00027-of-00030.parquet:   0%|          | 0.00/322M [00:00<?, ?B/s]"
      ]
     },
     "metadata": {},
     "output_type": "display_data"
    },
    {
     "data": {
      "application/vnd.jupyter.widget-view+json": {
       "model_id": "fda41f68442d4717825cab2ae4da1cce",
       "version_major": 2,
       "version_minor": 0
      },
      "text/plain": [
       "fr-en/train-00028-of-00030.parquet:   0%|          | 0.00/370M [00:00<?, ?B/s]"
      ]
     },
     "metadata": {},
     "output_type": "display_data"
    },
    {
     "data": {
      "application/vnd.jupyter.widget-view+json": {
       "model_id": "d4632f8a28fb4b9da58deafb75fba2dc",
       "version_major": 2,
       "version_minor": 0
      },
      "text/plain": [
       "fr-en/train-00029-of-00030.parquet:   0%|          | 0.00/311M [00:00<?, ?B/s]"
      ]
     },
     "metadata": {},
     "output_type": "display_data"
    },
    {
     "data": {
      "application/vnd.jupyter.widget-view+json": {
       "model_id": "13c0cf1b184d4269a1fa29b758857f68",
       "version_major": 2,
       "version_minor": 0
      },
      "text/plain": [
       "fr-en/validation-00000-of-00001.parquet:   0%|          | 0.00/475k [00:00<?, ?B/s]"
      ]
     },
     "metadata": {},
     "output_type": "display_data"
    },
    {
     "data": {
      "application/vnd.jupyter.widget-view+json": {
       "model_id": "42bf19c160f74d1ab16e6ac948866c41",
       "version_major": 2,
       "version_minor": 0
      },
      "text/plain": [
       "fr-en/test-00000-of-00001.parquet:   0%|          | 0.00/536k [00:00<?, ?B/s]"
      ]
     },
     "metadata": {},
     "output_type": "display_data"
    },
    {
     "data": {
      "application/vnd.jupyter.widget-view+json": {
       "model_id": "7129ec305fb6466c942709f9f32cfc0f",
       "version_major": 2,
       "version_minor": 0
      },
      "text/plain": [
       "Generating train split:   0%|          | 0/40836715 [00:00<?, ? examples/s]"
      ]
     },
     "metadata": {},
     "output_type": "display_data"
    },
    {
     "data": {
      "application/vnd.jupyter.widget-view+json": {
       "model_id": "83b4f037130d4774ac119c366b821111",
       "version_major": 2,
       "version_minor": 0
      },
      "text/plain": [
       "Generating validation split:   0%|          | 0/3000 [00:00<?, ? examples/s]"
      ]
     },
     "metadata": {},
     "output_type": "display_data"
    },
    {
     "data": {
      "application/vnd.jupyter.widget-view+json": {
       "model_id": "27df38c3e616467d9f6b526cca5629a0",
       "version_major": 2,
       "version_minor": 0
      },
      "text/plain": [
       "Generating test split:   0%|          | 0/3003 [00:00<?, ? examples/s]"
      ]
     },
     "metadata": {},
     "output_type": "display_data"
    },
    {
     "data": {
      "application/vnd.jupyter.widget-view+json": {
       "model_id": "b9b08ce366b84fa681cc59c8196fd4f8",
       "version_major": 2,
       "version_minor": 0
      },
      "text/plain": [
       "Loading dataset shards:   0%|          | 0/30 [00:00<?, ?it/s]"
      ]
     },
     "metadata": {},
     "output_type": "display_data"
    },
    {
     "data": {
      "application/vnd.jupyter.widget-view+json": {
       "model_id": "ba60c956bd7945b5865d89464f890ba7",
       "version_major": 2,
       "version_minor": 0
      },
      "text/plain": [
       "tokenizer_config.json:   0%|          | 0.00/42.0 [00:00<?, ?B/s]"
      ]
     },
     "metadata": {},
     "output_type": "display_data"
    },
    {
     "data": {
      "application/vnd.jupyter.widget-view+json": {
       "model_id": "f075f3ea22a64142bd9025bdac7d6994",
       "version_major": 2,
       "version_minor": 0
      },
      "text/plain": [
       "config.json: 0.00B [00:00, ?B/s]"
      ]
     },
     "metadata": {},
     "output_type": "display_data"
    },
    {
     "data": {
      "application/vnd.jupyter.widget-view+json": {
       "model_id": "fd616ec4db804450b21f593d11fe236c",
       "version_major": 2,
       "version_minor": 0
      },
      "text/plain": [
       "source.spm:   0%|          | 0.00/778k [00:00<?, ?B/s]"
      ]
     },
     "metadata": {},
     "output_type": "display_data"
    },
    {
     "data": {
      "application/vnd.jupyter.widget-view+json": {
       "model_id": "26b32b6775984fb79ea446e7c339cd95",
       "version_major": 2,
       "version_minor": 0
      },
      "text/plain": [
       "target.spm:   0%|          | 0.00/802k [00:00<?, ?B/s]"
      ]
     },
     "metadata": {},
     "output_type": "display_data"
    },
    {
     "data": {
      "application/vnd.jupyter.widget-view+json": {
       "model_id": "c784eb94ca88431b8e9f46f39ac9d6e3",
       "version_major": 2,
       "version_minor": 0
      },
      "text/plain": [
       "vocab.json: 0.00B [00:00, ?B/s]"
      ]
     },
     "metadata": {},
     "output_type": "display_data"
    },
    {
     "name": "stderr",
     "output_type": "stream",
     "text": [
      "/usr/local/lib/python3.12/dist-packages/transformers/models/marian/tokenization_marian.py:175: UserWarning: Recommended: pip install sacremoses.\n",
      "  warnings.warn(\"Recommended: pip install sacremoses.\")\n"
     ]
    },
    {
     "data": {
      "application/vnd.jupyter.widget-view+json": {
       "model_id": "ff490790ce0f49b48f9f24857409017e",
       "version_major": 2,
       "version_minor": 0
      },
      "text/plain": [
       "pytorch_model.bin:   0%|          | 0.00/301M [00:00<?, ?B/s]"
      ]
     },
     "metadata": {},
     "output_type": "display_data"
    },
    {
     "data": {
      "application/vnd.jupyter.widget-view+json": {
       "model_id": "e09a9d743efc487b8d766bf2794fbce5",
       "version_major": 2,
       "version_minor": 0
      },
      "text/plain": [
       "generation_config.json:   0%|          | 0.00/293 [00:00<?, ?B/s]"
      ]
     },
     "metadata": {},
     "output_type": "display_data"
    }
   ],
   "source": [
    "# 1. دیتاست (wmt14 → انگلیسی-فرانسوی)\n",
    "dataset = load_dataset(\"wmt14\", \"fr-en\")\n",
    "\n",
    "# 2. مدل و توکنایزر (مدل مخصوص en→fr)\n",
    "model_name = \"Helsinki-NLP/opus-mt-en-fr\"\n",
    "tokenizer = AutoTokenizer.from_pretrained(model_name)\n",
    "model = AutoModelForSeq2SeqLM.from_pretrained(model_name)"
   ]
  },
  {
   "cell_type": "code",
   "execution_count": 4,
   "metadata": {
    "colab": {
     "base_uri": "https://localhost:8080/"
    },
    "id": "QELnaKhzbaIe",
    "outputId": "8195d1f6-023f-4327-bb0a-dd573f546eff"
   },
   "outputs": [
    {
     "data": {
      "text/plain": [
       "Dataset({\n",
       "    features: ['translation'],\n",
       "    num_rows: 250\n",
       "})"
      ]
     },
     "execution_count": 4,
     "metadata": {},
     "output_type": "execute_result"
    }
   ],
   "source": [
    "train_dataset = dataset[\"train\"].select(range(1000))\n",
    "val_dataset = dataset['validation'].select(range(250))\n",
    "val_dataset"
   ]
  },
  {
   "cell_type": "code",
   "execution_count": 5,
   "metadata": {
    "id": "Dygdfu5KbTwC"
   },
   "outputs": [],
   "source": [
    "# 3. پیش‌پردازش داده‌ها\n",
    "max_input_length = 128\n",
    "max_target_length = 128\n",
    "\n",
    "def preprocess(examples):\n",
    "    inputs = [ex[\"en\"] for ex in examples[\"translation\"]]\n",
    "    targets = [ex[\"fr\"] for ex in examples[\"translation\"]]\n",
    "\n",
    "    model_inputs = tokenizer(inputs, max_length=max_input_length, truncation=True)\n",
    "    labels = tokenizer(targets, max_length=max_target_length, truncation=True)\n",
    "\n",
    "    model_inputs[\"labels\"] = labels[\"input_ids\"]\n",
    "    return model_inputs"
   ]
  },
  {
   "cell_type": "code",
   "execution_count": 6,
   "metadata": {
    "colab": {
     "base_uri": "https://localhost:8080/",
     "height": 81,
     "referenced_widgets": [
      "a489a1fb3a1048b3b7364c0daf182598",
      "8ec7e3c67ed04127848fe9c5587f8474",
      "06e9553cbe284466b09cb2d6d5f2608c",
      "38f07d351f494220a1c871f4caa079ac",
      "600debdd9aaf47adb6250e6c2f955b12",
      "8a050b88be5e4267825afc6fa35580cb",
      "b64323ea39cc4ed587b259a109e1deeb",
      "287858cdb1db430f89cbf9c2c928675e",
      "5399604f4d3f4d78aab2e1062cfcddaf",
      "e693b38a583f45c7b3331cd9d3b7c4a4",
      "50a3e561ac054f6199fa14fb508772e1",
      "07c7c67ff5954c49a8d2e4bd58053b5b",
      "69e68a593d0744279bc065a7a5043cd9",
      "cd998ad5084644d6bfcc090d9c7f708e",
      "a4c438ba7b5d4231b100fa0035d16edc",
      "9e51a4cb14754d9ab064e999befc6e20",
      "bcc7c74994ab492e8e11a2ab56946fa9",
      "23de74d12440437cbd0c027586a8fd0f",
      "39ad767b483b401ba4d3f97cc2e3ca32",
      "855ab3d485994b1ab50c0517274cac0e",
      "8faf63f4b3204ba1b8372b1272005c6f",
      "de6b6d0fa8e04b15b5317e787cbd270c"
     ]
    },
    "id": "4OybSh-NbYdj",
    "outputId": "8ac65061-bbbe-42e8-8e20-02e7f7f7d810"
   },
   "outputs": [
    {
     "data": {
      "application/vnd.jupyter.widget-view+json": {
       "model_id": "a489a1fb3a1048b3b7364c0daf182598",
       "version_major": 2,
       "version_minor": 0
      },
      "text/plain": [
       "Map:   0%|          | 0/1000 [00:00<?, ? examples/s]"
      ]
     },
     "metadata": {},
     "output_type": "display_data"
    },
    {
     "data": {
      "application/vnd.jupyter.widget-view+json": {
       "model_id": "07c7c67ff5954c49a8d2e4bd58053b5b",
       "version_major": 2,
       "version_minor": 0
      },
      "text/plain": [
       "Map:   0%|          | 0/250 [00:00<?, ? examples/s]"
      ]
     },
     "metadata": {},
     "output_type": "display_data"
    }
   ],
   "source": [
    "tokenized_train_dataset = train_dataset.map(\n",
    "    preprocess,\n",
    "    batched=True,\n",
    "    remove_columns=train_dataset.column_names\n",
    ")\n",
    "\n",
    "tokenized_val_dataset = val_dataset.map(\n",
    "    preprocess,\n",
    "    batched=True,\n",
    "    remove_columns=val_dataset.column_names\n",
    ")"
   ]
  },
  {
   "cell_type": "code",
   "execution_count": 7,
   "metadata": {
    "id": "6wOulQ90cbZY"
   },
   "outputs": [],
   "source": [
    "# 4. Data collator\n",
    "data_collator = DataCollatorForSeq2Seq(tokenizer, model=model)"
   ]
  },
  {
   "cell_type": "code",
   "execution_count": 8,
   "metadata": {
    "colab": {
     "base_uri": "https://localhost:8080/",
     "height": 49,
     "referenced_widgets": [
      "6ea394d3e76943438c9cc3c56aa49229",
      "bd7f085e8913497181af2f08af0ab154",
      "70e51b9a9e454deea5555004643a7df6",
      "3714f18c2e3d4176806928d5f8f60295",
      "1c1a713bedd34c25be716faf130407e4",
      "38c4646da7044a6581b11ca253f92654",
      "158dd29fa42346d5908f0cc2463d1dac",
      "1e136d6aa70a4f8d9e05616c7507c0c4",
      "e387068690924e078604be3e4b4bea91",
      "105d2177d58f4a52902559e31bb8a643",
      "049c71ef7b8b4ff7b15f68b336f73fce"
     ]
    },
    "id": "5X-CCd6Dccmn",
    "outputId": "906f89fe-aa12-4ef8-b301-590f06e10bf4"
   },
   "outputs": [
    {
     "data": {
      "application/vnd.jupyter.widget-view+json": {
       "model_id": "6ea394d3e76943438c9cc3c56aa49229",
       "version_major": 2,
       "version_minor": 0
      },
      "text/plain": [
       "Downloading builder script: 0.00B [00:00, ?B/s]"
      ]
     },
     "metadata": {},
     "output_type": "display_data"
    }
   ],
   "source": [
    "# 5. متریک BLEU\n",
    "bleu = evaluate.load(\"sacrebleu\")\n",
    "\n",
    "def compute_metrics(eval_pred):\n",
    "    preds, labels = eval_pred\n",
    "    decoded_preds = tokenizer.batch_decode(preds, skip_special_tokens=True)\n",
    "\n",
    "    labels = [[(l if l != -100 else tokenizer.pad_token_id) for l in label] for label in labels]\n",
    "    decoded_labels = tokenizer.batch_decode(labels, skip_special_tokens=True)\n",
    "\n",
    "    result = bleu.compute(predictions=decoded_preds, references=[[l] for l in decoded_labels])\n",
    "    return {\"bleu\": result[\"score\"]}"
   ]
  },
  {
   "cell_type": "code",
   "execution_count": 9,
   "metadata": {
    "id": "inotub-lc3D1"
   },
   "outputs": [],
   "source": [
    "# 6. تنظیمات آموزش\n",
    "training_args = Seq2SeqTrainingArguments(\n",
    "    output_dir=\"./translation-model\",\n",
    "    eval_strategy=\"epoch\",\n",
    "    learning_rate=5e-5,\n",
    "    per_device_train_batch_size=8,\n",
    "    per_device_eval_batch_size=8,\n",
    "    weight_decay=0.01,\n",
    "    save_total_limit=2,\n",
    "    num_train_epochs=1,\n",
    "    predict_with_generate=True,\n",
    "    fp16=True,\n",
    "    logging_dir=\"./logs\",\n",
    "    logging_steps=100,\n",
    "    report_to=\"none\"\n",
    ")"
   ]
  },
  {
   "cell_type": "code",
   "execution_count": 10,
   "metadata": {
    "colab": {
     "base_uri": "https://localhost:8080/"
    },
    "id": "Ng3HbSoAdDIW",
    "outputId": "25573dfd-9fd2-46a9-a72e-8f9dcee51902"
   },
   "outputs": [
    {
     "name": "stderr",
     "output_type": "stream",
     "text": [
      "/tmp/ipython-input-852756518.py:2: FutureWarning: `tokenizer` is deprecated and will be removed in version 5.0.0 for `Seq2SeqTrainer.__init__`. Use `processing_class` instead.\n",
      "  trainer = Seq2SeqTrainer(\n"
     ]
    }
   ],
   "source": [
    "# 7. Trainer\n",
    "trainer = Seq2SeqTrainer(\n",
    "    model=model,\n",
    "    args=training_args,\n",
    "    train_dataset=tokenized_train_dataset,  # نمونه کوچک برای تست\n",
    "    eval_dataset=tokenized_val_dataset,\n",
    "    tokenizer=tokenizer,\n",
    "    data_collator=data_collator,\n",
    "    compute_metrics=compute_metrics,\n",
    ")"
   ]
  },
  {
   "cell_type": "code",
   "execution_count": 11,
   "metadata": {
    "colab": {
     "base_uri": "https://localhost:8080/",
     "height": 196
    },
    "id": "086QTn1EdGHX",
    "outputId": "ff8aad12-ad48-4dc9-9bde-a8521153e1b4"
   },
   "outputs": [
    {
     "data": {
      "text/html": [
       "\n",
       "    <div>\n",
       "      \n",
       "      <progress value='125' max='125' style='width:300px; height:20px; vertical-align: middle;'></progress>\n",
       "      [125/125 01:00, Epoch 1/1]\n",
       "    </div>\n",
       "    <table border=\"1\" class=\"dataframe\">\n",
       "  <thead>\n",
       " <tr style=\"text-align: left;\">\n",
       "      <th>Epoch</th>\n",
       "      <th>Training Loss</th>\n",
       "      <th>Validation Loss</th>\n",
       "      <th>Bleu</th>\n",
       "    </tr>\n",
       "  </thead>\n",
       "  <tbody>\n",
       "    <tr>\n",
       "      <td>1</td>\n",
       "      <td>3.059700</td>\n",
       "      <td>2.525351</td>\n",
       "      <td>39.302685</td>\n",
       "    </tr>\n",
       "  </tbody>\n",
       "</table><p>"
      ],
      "text/plain": [
       "<IPython.core.display.HTML object>"
      ]
     },
     "metadata": {},
     "output_type": "display_data"
    },
    {
     "name": "stderr",
     "output_type": "stream",
     "text": [
      "/usr/local/lib/python3.12/dist-packages/transformers/modeling_utils.py:3922: UserWarning: Moving the following attributes in the config to the generation config: {'max_length': 512, 'num_beams': 4, 'bad_words_ids': [[59513]]}. You are seeing this warning because you've set generation parameters in the model config, as opposed to in the generation config.\n",
      "  warnings.warn(\n"
     ]
    },
    {
     "data": {
      "text/plain": [
       "TrainOutput(global_step=125, training_loss=2.951935211181641, metrics={'train_runtime': 61.9695, 'train_samples_per_second': 16.137, 'train_steps_per_second': 2.017, 'total_flos': 17716132970496.0, 'train_loss': 2.951935211181641, 'epoch': 1.0})"
      ]
     },
     "execution_count": 11,
     "metadata": {},
     "output_type": "execute_result"
    }
   ],
   "source": [
    "# 8. شروع آموزش\n",
    "trainer.train()"
   ]
  },
  {
   "cell_type": "code",
   "execution_count": 14,
   "metadata": {
    "colab": {
     "base_uri": "https://localhost:8080/"
    },
    "id": "4xKhq5Haf_OL",
    "outputId": "6e39b72c-3590-459f-8a27-079fefa2fa82"
   },
   "outputs": [
    {
     "name": "stdout",
     "output_type": "stream",
     "text": [
      "English: I love machine learning and natural language processing.\n",
      "French: J'adore l'apprentissage de la machine et le traitement du langage naturel.\n"
     ]
    }
   ],
   "source": [
    "# 9. تست روی یک جمله\n",
    "sentence = \"I love machine learning and natural language processing.\"\n",
    "inputs = tokenizer(sentence, return_tensors=\"pt\", truncation=True, max_length=128)\n",
    "\n",
    "# Move input tensors to the same device as the model\n",
    "device = model.device\n",
    "inputs = {k: v.to(device) for k, v in inputs.items()}\n",
    "\n",
    "translated_ids = model.generate(inputs[\"input_ids\"], max_length=128, num_beams=4)\n",
    "print(\"English:\", sentence)\n",
    "print(\"French:\", tokenizer.decode(translated_ids[0], skip_special_tokens=True))"
   ]
  }
 ],
 "metadata": {
  "cells": [],
  "kernelspec": {
   "display_name": "",
   "name": ""
  },
  "language_info": {
   "name": ""
  },
  "metadata": {
   "kernelspec": {
    "display_name": "Python 3",
    "language": "python",
    "name": "python3"
   },
   "language_info": {
    "name": "python",
    "version": "3.10.12"
   }
  },
  "nbformat": 4,
  "nbformat_minor": 5
 },
 "nbformat": 4,
 "nbformat_minor": 4
}
