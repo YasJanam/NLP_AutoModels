{
 "cells": [
  {
   "cell_type": "markdown",
   "metadata": {
    "id": "D8cmpbMt8yo7"
   },
   "source": [
    "## **Summarization**"
   ]
  },
  {
   "cell_type": "code",
   "execution_count": 1,
   "metadata": {
    "id": "QrE_90ED94_L"
   },
   "outputs": [],
   "source": [
    "!pip install evaluate rouge_score"
   ]
  },
  {
   "cell_type": "code",
   "execution_count": null,
   "metadata": {
    "id": "LRiz-Mv6IJTx"
   },
   "outputs": [],
   "source": [
    "from datasets import load_dataset\n",
    "from transformers import (\n",
    "    AutoTokenizer,\n",
    "    AutoModelForSeq2SeqLM,\n",
    "    DataCollatorForSeq2Seq,\n",
    "    Seq2SeqTrainer,\n",
    "    Seq2SeqTrainingArguments\n",
    ")\n",
    "import evaluate"
   ]
  },
  {
   "cell_type": "code",
   "execution_count": null,
   "metadata": {
    "colab": {
     "base_uri": "https://localhost:8080/",
     "height": 589,
     "referenced_widgets": [
      "eda9f1ed611c4e829dbec620363d83b2",
      "7a8653b03700460b944425b9dc5aff4d",
      "f7335616d59f475dab16823257676ecd",
      "64b437e75769471daf73f48df9f85c26",
      "81548afe0e3f4f6f8733e93df0b82a37",
      "f915610332094d638a3685eeb0ff94ef",
      "7675c724013744c5a5037a2b7f895b23",
      "3253e497efac47e6beaf346bf35577b5",
      "6f42f30c0e3c4374be58102e8ca0d879",
      "617ba05760514aa08db27b2109ac17a6",
      "642083e0971d43a0ad90b7ec238a2373",
      "06244020c3d74cb1ba3fc0adcb28b584",
      "26aa6ae71c3742b4af516d0a92de31ff",
      "cd398b46ae9d4d698b4f1e9181c25260",
      "f23aad4218ac4112b9e13a9234b27e50",
      "230633e0ca5248eb8efc8cc63f83a1d8",
      "19fcfa889cdd45c5b99962defe429232",
      "7cec88d0c23744a882439c4f58e56bef",
      "e90954e4c0d847e8b608236dedd5106e",
      "977b878d433a40208043a89053c3f4f0",
      "cd5f74f30ad94817949360e2b327e971",
      "644caa90b1f1466eaee3b6c00499f241",
      "c3f1795d294f4f9d8ee9b2f2ec1107b4",
      "aab9fadbd4f242a49b92953472e6c153",
      "8d0aded2d26a4197bbd8a9466968212d",
      "e9096e8a4276459aafe4d8809db4811b",
      "8965123231b74523bb7ad27e61feccaa",
      "acc5731858c94dd7b3bb07a6dfb1a996",
      "5413ff37c8e9424896b98a057240bfc6",
      "823e2535d4194142b828a266f1ade5f1",
      "27664e527f7b4b76816294a8265fba5e",
      "d95f3362cea54c5db2cdd9df0849aa9f",
      "539723d5653e49b48eb568c4bd4d649b",
      "cef46f8e04664e50b2982842f7a3d7ea",
      "5e46beb242834320b579e04019e3d468",
      "fadd73721f28465e823540f15a5bd8a6",
      "d8fb3153101e4a2a9eb25a8280b42f0b",
      "34facd965fe14f9b8e511a70ed5f859c",
      "b570323ed1b54a87b2369ebba0a25a04",
      "5d2a3119827f49adaf6bd253441b8082",
      "0e4e7677df5b45d68246dfa68a653f0d",
      "434d952b1d3243ebabfcc64d37d77182",
      "8289529c3ac34434a4d728e930838fbd",
      "493cecfb473e4ea19a8cc3d657ca9af8",
      "a1b0d75c2eca49389787b35ca96a38ac",
      "b3f7a8f3fd4746a596217978a8e40865",
      "d5eb58a089204b4689fca970ca1880b5",
      "cb4feb5991b94848b91cf766be460304",
      "d30fa816b7474df5a7e28896acf030ee",
      "f9c7f989a5464f2384c1b9052d0e6a0b",
      "2fefd13f369149e1b5d3697595011c1c",
      "3d0477bec74d4ee587abfc72c97988f2",
      "5e14e527b7844d1d810fb83af0d0d5f5",
      "e16783e26b7f4a49b49cb2daef8e19d1",
      "29024e84e8694ce4ba17286fcb0bc678",
      "8f1a0bd8dd2a4b36832845ff9744ddc1",
      "21c38c458ac24573a64306799888cc3b",
      "14e4e249e4cb4525879c0a6e734f5241",
      "e09d5b4aae964dd29bc84ce4d46c5ba6",
      "155f5585f00b4ab38708e8a2c07a6ef4",
      "79f0c3b9c4b74895a5be468122a199ce",
      "344c759e67764734b3baac57c5874158",
      "8b9a21ebdcbe41c7b7b886446e37ecda",
      "34f9089425e04c3da8871b34437f54a5",
      "e23740ecb0734c3690a3e247448f9366",
      "6ff73f9663d74d26a50a0d9e58a668fc",
      "7ffbf42f51e34bd4b5cee5d6c1fca431",
      "ad4304c40ae84e7eb933a9b6aa5931ee",
      "47a87e2b10314de78dded0fe4e310717",
      "41f74c42d810401db5c2fdc5a74d4172",
      "b1c428e9b4df4fefa3009bab1d94bc7b",
      "273a91dc237a4185bc4e66b3650504b9",
      "15a427c04bd34d77b0f1aa15f3e7f56f",
      "32c8a7c5995443f49b84914b9cdcc94f",
      "634832319fe048249efcaa26d43a1e42",
      "9808cc3d147e4a70a41a92445847339d",
      "53adbd0816554379890a5fac53da020a",
      "f7ce2e1706324703a08d2ae9274d4e38",
      "a75d83f100404390a5c75ec73f59d517",
      "86275bf5e8c34b5a992d690f9ffaa137",
      "2a8b545e2c7e42d2ae94cc61601f4da9",
      "679d5b87db6e4f51aacf62db0b33e0b0",
      "1c05f302d5624d8fbb9cd3ea764772bb",
      "5e945d88e0354d3eba9dd0fc0d948de4",
      "f17291f7c98a4e369a2dcc70f19bebe2",
      "74127d6c7a5e4a0a967aa8ad3b0810e1",
      "b6cfabc46a914795b0adf26390e683ad",
      "5db3b9c5832749eea546b682381c8b1d",
      "0b003c8fa8754635abed6dd4963efdf7",
      "11b1ac0b022c4e618837cdedab75ca9a",
      "82121d5b83f54239a53687e8a913f26f",
      "c22be4d515304cb2b3b1f406b2a39114",
      "72124670a9cc4844a58dd0215f88c738",
      "ce3528e0eba144b1830ca3642c79c0a0",
      "06be08f8cdf34befab154ce55c5ba449",
      "5d2ff04366e842fab15d972086db3945",
      "bd8be818b7754cbd9f475976ad3270b6",
      "08d66ceb833447b1adcfce12c37bc697",
      "4621694cd9ef40f6947c2c7a152775e6",
      "00f0685a7e994f2d8d21f47fba54c347",
      "aab8ce9d0126409fae5ee41e4b54fc32",
      "f1c880ba689d43f8a502be084380fe8c",
      "cdedaa8ea881483b9874848e6dfa7db7",
      "cec9c88c65da4e21b4113119f9712ed7",
      "255fd3be5fff4e0e99dcd1ac5abfe5e0",
      "c454f9cf45b540cfaf3c8039dbfd5939",
      "e8f5a4119cfa491fa41596b47af41c13",
      "b6f2a5e8235448728e8af2f093825efb",
      "d7ad8bfc3cbb4c8286c2588a13e7090d",
      "d97b96d452624edfb695095e06434942",
      "eff9c45571f04ce3839b154088885bf5",
      "4b5cc8e325b24219b0ecdf40e35e2fb7",
      "22eccaef68264eb5ad26d055c0aa05b6",
      "0fb72c8000394f15b0cb96ecfdf06f94",
      "2d0a9b60fcec4a31889bed433a603123",
      "678c902195a848dab92a49fdbf47d18f",
      "08a4113b386444f0bc2ddb7630204df6",
      "3a5b40079942477ab82c06dd9522388f",
      "026a7fc4c6544ed7a835d3643d985859",
      "3bae53eee1be40f69745ab6b95e1a8ee",
      "bf3d8b6725294406a4d14ea4fffb0546",
      "10077fe82d6a4a55add7f7fafbf7bb67",
      "d293697f5d2147bb8b996152125962be",
      "a560057bde6d4dd689aeaf74a703231f",
      "f6396a2646f94dc689f72fc43188b041",
      "ab5be3bc7f7c498db3ee1b892beef8fd",
      "cfb0a897b6ab44609b32b4ade9cf7c6f",
      "e9af875265c04a68b6e525fd0a2985f8",
      "ed3e75db6d5a4339bcf268eed72c4e53",
      "9b81ba59e7ea4a0f8fb2ade5a36e9c0e",
      "056f83c373a545a7b4a0684b3dfd81aa",
      "50f5b72090bb43048ba52d25612567a3",
      "d6a1ae081b974add991834344af92385",
      "b4ba6d3c1e074a50b60dbbb0b5cd125b",
      "d6425cbd3e0f4e6bb30df13ae459e224",
      "15b687f7d44442cb85163b624ecd5531",
      "f85d30c2dc174771b5061c48a4947fae",
      "4eb074fc40274ffbadd1eb7a0bced47b",
      "8b96cbd9288e4cad9a27de9d2094dfb8",
      "a7371eaae8ad431f9d5bdf4592d0837c",
      "6a8df88958d84c2aa39b2d4f7174375c",
      "3b6c611acb7b4dd38f684dc4f58422c9",
      "2df55de3972f432dbe9970c246454f92",
      "b4c7c247a76e4eba8efd14317c6218bf",
      "b922837f2dc44844b00438e95a35e9ee",
      "a453b41e743b468ea6df0bc8232a1a42",
      "7a613670e5794862b6052a2678d5f08c",
      "20a68bd0e408402294284a43f75212d3",
      "f8df00a2104948cca84363e620ebf9bd",
      "0c69dfb365da485a91afda682b7b6928",
      "8aad7531966142d8b5fd71cac1b20a4c",
      "1d7775ea06334c24ba6dc91887bab937",
      "e347b1b6e8214320ae102c6fd3f2a52b",
      "c028d86f7286492cb1cfab7cce814283"
     ]
    },
    "id": "F55HYfFK8wvr",
    "outputId": "7f9d345a-b1be-4a56-a3d0-dc7949a0f339"
   },
   "outputs": [
    {
     "name": "stderr",
     "output_type": "stream",
     "text": [
      "/usr/local/lib/python3.12/dist-packages/huggingface_hub/utils/_auth.py:94: UserWarning: \n",
      "The secret `HF_TOKEN` does not exist in your Colab secrets.\n",
      "To authenticate with the Hugging Face Hub, create a token in your settings tab (https://huggingface.co/settings/tokens), set it as secret in your Google Colab and restart your session.\n",
      "You will be able to reuse this secret in all of your notebooks.\n",
      "Please note that authentication is recommended but still optional to access public models or datasets.\n",
      "  warnings.warn(\n"
     ]
    },
    {
     "data": {
      "application/vnd.jupyter.widget-view+json": {
       "model_id": "eda9f1ed611c4e829dbec620363d83b2",
       "version_major": 2,
       "version_minor": 0
      },
      "text/plain": [
       "README.md: 0.00B [00:00, ?B/s]"
      ]
     },
     "metadata": {},
     "output_type": "display_data"
    },
    {
     "data": {
      "application/vnd.jupyter.widget-view+json": {
       "model_id": "06244020c3d74cb1ba3fc0adcb28b584",
       "version_major": 2,
       "version_minor": 0
      },
      "text/plain": [
       "train-00000-of-00003.parquet:   0%|          | 0.00/257M [00:00<?, ?B/s]"
      ]
     },
     "metadata": {},
     "output_type": "display_data"
    },
    {
     "data": {
      "application/vnd.jupyter.widget-view+json": {
       "model_id": "c3f1795d294f4f9d8ee9b2f2ec1107b4",
       "version_major": 2,
       "version_minor": 0
      },
      "text/plain": [
       "train-00001-of-00003.parquet:   0%|          | 0.00/257M [00:00<?, ?B/s]"
      ]
     },
     "metadata": {},
     "output_type": "display_data"
    },
    {
     "data": {
      "application/vnd.jupyter.widget-view+json": {
       "model_id": "cef46f8e04664e50b2982842f7a3d7ea",
       "version_major": 2,
       "version_minor": 0
      },
      "text/plain": [
       "train-00002-of-00003.parquet:   0%|          | 0.00/259M [00:00<?, ?B/s]"
      ]
     },
     "metadata": {},
     "output_type": "display_data"
    },
    {
     "data": {
      "application/vnd.jupyter.widget-view+json": {
       "model_id": "a1b0d75c2eca49389787b35ca96a38ac",
       "version_major": 2,
       "version_minor": 0
      },
      "text/plain": [
       "validation-00000-of-00001.parquet:   0%|          | 0.00/34.7M [00:00<?, ?B/s]"
      ]
     },
     "metadata": {},
     "output_type": "display_data"
    },
    {
     "data": {
      "application/vnd.jupyter.widget-view+json": {
       "model_id": "8f1a0bd8dd2a4b36832845ff9744ddc1",
       "version_major": 2,
       "version_minor": 0
      },
      "text/plain": [
       "test-00000-of-00001.parquet:   0%|          | 0.00/30.0M [00:00<?, ?B/s]"
      ]
     },
     "metadata": {},
     "output_type": "display_data"
    },
    {
     "data": {
      "application/vnd.jupyter.widget-view+json": {
       "model_id": "7ffbf42f51e34bd4b5cee5d6c1fca431",
       "version_major": 2,
       "version_minor": 0
      },
      "text/plain": [
       "Generating train split:   0%|          | 0/287113 [00:00<?, ? examples/s]"
      ]
     },
     "metadata": {},
     "output_type": "display_data"
    },
    {
     "data": {
      "application/vnd.jupyter.widget-view+json": {
       "model_id": "f7ce2e1706324703a08d2ae9274d4e38",
       "version_major": 2,
       "version_minor": 0
      },
      "text/plain": [
       "Generating validation split:   0%|          | 0/13368 [00:00<?, ? examples/s]"
      ]
     },
     "metadata": {},
     "output_type": "display_data"
    },
    {
     "data": {
      "application/vnd.jupyter.widget-view+json": {
       "model_id": "0b003c8fa8754635abed6dd4963efdf7",
       "version_major": 2,
       "version_minor": 0
      },
      "text/plain": [
       "Generating test split:   0%|          | 0/11490 [00:00<?, ? examples/s]"
      ]
     },
     "metadata": {},
     "output_type": "display_data"
    },
    {
     "data": {
      "application/vnd.jupyter.widget-view+json": {
       "model_id": "00f0685a7e994f2d8d21f47fba54c347",
       "version_major": 2,
       "version_minor": 0
      },
      "text/plain": [
       "config.json: 0.00B [00:00, ?B/s]"
      ]
     },
     "metadata": {},
     "output_type": "display_data"
    },
    {
     "data": {
      "application/vnd.jupyter.widget-view+json": {
       "model_id": "eff9c45571f04ce3839b154088885bf5",
       "version_major": 2,
       "version_minor": 0
      },
      "text/plain": [
       "vocab.json: 0.00B [00:00, ?B/s]"
      ]
     },
     "metadata": {},
     "output_type": "display_data"
    },
    {
     "data": {
      "application/vnd.jupyter.widget-view+json": {
       "model_id": "10077fe82d6a4a55add7f7fafbf7bb67",
       "version_major": 2,
       "version_minor": 0
      },
      "text/plain": [
       "merges.txt: 0.00B [00:00, ?B/s]"
      ]
     },
     "metadata": {},
     "output_type": "display_data"
    },
    {
     "data": {
      "application/vnd.jupyter.widget-view+json": {
       "model_id": "d6a1ae081b974add991834344af92385",
       "version_major": 2,
       "version_minor": 0
      },
      "text/plain": [
       "tokenizer.json: 0.00B [00:00, ?B/s]"
      ]
     },
     "metadata": {},
     "output_type": "display_data"
    },
    {
     "data": {
      "application/vnd.jupyter.widget-view+json": {
       "model_id": "b4c7c247a76e4eba8efd14317c6218bf",
       "version_major": 2,
       "version_minor": 0
      },
      "text/plain": [
       "model.safetensors:   0%|          | 0.00/1.63G [00:00<?, ?B/s]"
      ]
     },
     "metadata": {},
     "output_type": "display_data"
    }
   ],
   "source": [
    "# 1. دیتاست\n",
    "dataset = load_dataset(\"cnn_dailymail\", \"3.0.0\")\n",
    "\n",
    "# 2. مدل و توکنایزر\n",
    "model_name = \"facebook/bart-large-cnn\"\n",
    "tokenizer = AutoTokenizer.from_pretrained(model_name)\n",
    "model = AutoModelForSeq2SeqLM.from_pretrained(model_name)"
   ]
  },
  {
   "cell_type": "code",
   "execution_count": null,
   "metadata": {
    "id": "lRCkkibWeArk"
   },
   "outputs": [],
   "source": [
    "train_dataset = dataset['train'].select(range(1000))\n",
    "val_dataset = datset['validation'].select(range(250))\n",
    "test_dataset = dataset['test'].select(range(300))"
   ]
  },
  {
   "cell_type": "code",
   "execution_count": null,
   "metadata": {
    "id": "crOYAGcA-cJZ"
   },
   "outputs": [],
   "source": [
    "# 3. پیش‌پردازش داده‌ها\n",
    "max_input_length = 512\n",
    "max_target_length = 128"
   ]
  },
  {
   "cell_type": "code",
   "execution_count": null,
   "metadata": {
    "id": "w-gL9Ze_-hbP"
   },
   "outputs": [],
   "source": [
    "def preprocess(examples):\n",
    "    inputs = examples[\"article\"]\n",
    "    targets = examples[\"highlights\"]\n",
    "    model_inputs = tokenizer(inputs, max_length=max_input_length, truncation=True)\n",
    "\n",
    "    # tokenize summaries\n",
    "    labels = tokenizer(targets, max_length=max_target_length, truncation=True)\n",
    "    model_inputs[\"labels\"] = labels[\"input_ids\"]\n",
    "    return model_inputs"
   ]
  },
  {
   "cell_type": "code",
   "execution_count": null,
   "metadata": {
    "colab": {
     "base_uri": "https://localhost:8080/",
     "height": 81,
     "referenced_widgets": [
      "388b1e2a783d45e48381bf4d5a88c45a",
      "3d12bdcb96dd4dddb320e21f3a07b828",
      "e244322d54374524ab0959a7b2a0885f",
      "9f590d84fb5f4bed9c733481aef9b266",
      "ff093eecc3984744b10fd0c0fd6f82cb",
      "c3e4be60cf4047cc9bf669ef0efc0e0e",
      "4d0985dd353644babac2d6e098c48a24",
      "16e75f9d495e48f1a2ea7aa25f5d33f5",
      "03ed01c516294333ac322f50c1d8e908",
      "3d08092458764156904a7f3cb9ef24eb",
      "9f572d908bd74e8489ca431d0b8dc476",
      "6200b70c9b954343b2d0166934171d05",
      "1b66784b07454bbfa3f942eaba58c7c0",
      "ceb9c69509aa408fbf7d6cb4af604650",
      "06b6c7d9408449fa8f956bc2895e40af",
      "873b314488cc4a08865fcae06fe86a84",
      "1410ea8987084b7383e1bd618c6c6965",
      "73fc7380f7aa4be0849dd76d16abff47",
      "5a213394b54541e8ba0a3bcbcb4e6f58",
      "add9203b23394c9192815cbff889864f",
      "2bd7efa1dd754923b7458353316988c9",
      "3696eba2f2e44b34841a006900947737"
     ]
    },
    "id": "HvWGh-js-n4f",
    "outputId": "b10f477a-8f2a-4456-b0fb-e6f959571831"
   },
   "outputs": [
    {
     "data": {
      "application/vnd.jupyter.widget-view+json": {
       "model_id": "388b1e2a783d45e48381bf4d5a88c45a",
       "version_major": 2,
       "version_minor": 0
      },
      "text/plain": [
       "Map:   0%|          | 0/1000 [00:00<?, ? examples/s]"
      ]
     },
     "metadata": {},
     "output_type": "display_data"
    },
    {
     "data": {
      "application/vnd.jupyter.widget-view+json": {
       "model_id": "6200b70c9b954343b2d0166934171d05",
       "version_major": 2,
       "version_minor": 0
      },
      "text/plain": [
       "Map:   0%|          | 0/200 [00:00<?, ? examples/s]"
      ]
     },
     "metadata": {},
     "output_type": "display_data"
    }
   ],
   "source": [
    "tokenized_tarin_data = train_dataset.map(\n",
    "    preprocess,\n",
    "    batched=True,\n",
    "    remove_columns=[\"article\", \"highlights\", \"id\"]\n",
    ")\n",
    "\n",
    "tokenized_val_data = val_dataset.map(\n",
    "    preprocess,\n",
    "    batched=True,\n",
    "    remove_columns=[\"article\", \"highlights\", \"id\"]\n",
    ")"
   ]
  },
  {
   "cell_type": "code",
   "execution_count": null,
   "metadata": {
    "colab": {
     "base_uri": "https://localhost:8080/"
    },
    "id": "CEK2w1AJ_qBO",
    "outputId": "c24d2902-6951-467f-e2b9-9c625637ec30"
   },
   "outputs": [
    {
     "data": {
      "text/plain": [
       "Dataset({\n",
       "    features: ['input_ids', 'attention_mask', 'labels'],\n",
       "    num_rows: 1000\n",
       "})"
      ]
     },
     "execution_count": 8,
     "metadata": {},
     "output_type": "execute_result"
    }
   ],
   "source": [
    "tokenized_tarin_data"
   ]
  },
  {
   "cell_type": "code",
   "execution_count": null,
   "metadata": {
    "id": "ZAeN3QW2_ugu"
   },
   "outputs": [],
   "source": [
    "# 4. Data collator\n",
    "data_collator = DataCollatorForSeq2Seq(tokenizer, model=model)"
   ]
  },
  {
   "cell_type": "code",
   "execution_count": null,
   "metadata": {
    "id": "x6ZlHfSZBR1V"
   },
   "outputs": [],
   "source": [
    "# 5. متریک (ROUGE)\n",
    "rouge = evaluate.load(\"rouge\")\n",
    "\n",
    "def compute_metrics(eval_pred):\n",
    "    predictions, labels = eval_pred\n",
    "    decoded_preds = tokenizer.batch_decode(predictions, skip_special_tokens=True)\n",
    "\n",
    "    # replace -100 (padding token id) with pad_token_id\n",
    "    labels = [[(l if l != -100 else tokenizer.pad_token_id) for l in label] for label in labels]\n",
    "    decoded_labels = tokenizer.batch_decode(labels, skip_special_tokens=True)\n",
    "\n",
    "    result = rouge.compute(predictions=decoded_preds, references=decoded_labels)\n",
    "    return {k: round(v, 4) for k, v in result.items()}"
   ]
  },
  {
   "cell_type": "code",
   "execution_count": null,
   "metadata": {
    "id": "VsW_m3baBoNC"
   },
   "outputs": [],
   "source": [
    "# 6. تنظیمات آموزش\n",
    "training_args = Seq2SeqTrainingArguments(\n",
    "    output_dir=\"./summarization-model\",\n",
    "    eval_strategy=\"epoch\",\n",
    "    learning_rate=5e-5,\n",
    "    per_device_train_batch_size=2,\n",
    "    per_device_eval_batch_size=2,\n",
    "    weight_decay=0.01,\n",
    "    save_total_limit=2,\n",
    "    num_train_epochs=1,\n",
    "    predict_with_generate=True,   # 👈 مهم برای Seq2Seq\n",
    "    fp16=True,                    # در GPU سریع‌تر\n",
    "    logging_dir='./logs',\n",
    "    logging_steps=100,\n",
    "    report_to = \"tensorboard\"\n",
    ")"
   ]
  },
  {
   "cell_type": "code",
   "execution_count": null,
   "metadata": {
    "colab": {
     "base_uri": "https://localhost:8080/"
    },
    "id": "TQZgM2kxB1Zz",
    "outputId": "4f76efe7-4405-4fac-ea5b-472774189c5f"
   },
   "outputs": [
    {
     "name": "stderr",
     "output_type": "stream",
     "text": [
      "/tmp/ipython-input-1220629308.py:2: FutureWarning: `tokenizer` is deprecated and will be removed in version 5.0.0 for `Seq2SeqTrainer.__init__`. Use `processing_class` instead.\n",
      "  trainer = Seq2SeqTrainer(\n"
     ]
    }
   ],
   "source": [
    "# 7. Trainer\n",
    "trainer = Seq2SeqTrainer(\n",
    "    model=model,\n",
    "    args=training_args,\n",
    "    train_dataset=tokenized_tarin_data,\n",
    "    eval_dataset=tokenized_val_data,\n",
    "    tokenizer=tokenizer,\n",
    "    data_collator=data_collator,\n",
    "    compute_metrics=compute_metrics,\n",
    ")"
   ]
  },
  {
   "cell_type": "code",
   "execution_count": null,
   "metadata": {
    "colab": {
     "base_uri": "https://localhost:8080/",
     "height": 196
    },
    "id": "_zIrn1CDCE6r",
    "outputId": "43718484-66e8-4b2a-aef6-a194997fc614"
   },
   "outputs": [
    {
     "data": {
      "text/html": [
       "\n",
       "    <div>\n",
       "      \n",
       "      <progress value='500' max='500' style='width:300px; height:20px; vertical-align: middle;'></progress>\n",
       "      [500/500 07:10, Epoch 1/1]\n",
       "    </div>\n",
       "    <table border=\"1\" class=\"dataframe\">\n",
       "  <thead>\n",
       " <tr style=\"text-align: left;\">\n",
       "      <th>Epoch</th>\n",
       "      <th>Training Loss</th>\n",
       "      <th>Validation Loss</th>\n",
       "      <th>Rouge1</th>\n",
       "      <th>Rouge2</th>\n",
       "      <th>Rougel</th>\n",
       "      <th>Rougelsum</th>\n",
       "    </tr>\n",
       "  </thead>\n",
       "  <tbody>\n",
       "    <tr>\n",
       "      <td>1</td>\n",
       "      <td>1.482000</td>\n",
       "      <td>1.862360</td>\n",
       "      <td>0.335400</td>\n",
       "      <td>0.147800</td>\n",
       "      <td>0.242600</td>\n",
       "      <td>0.312200</td>\n",
       "    </tr>\n",
       "  </tbody>\n",
       "</table><p>"
      ],
      "text/plain": [
       "<IPython.core.display.HTML object>"
      ]
     },
     "metadata": {},
     "output_type": "display_data"
    },
    {
     "name": "stderr",
     "output_type": "stream",
     "text": [
      "/usr/local/lib/python3.12/dist-packages/transformers/modeling_utils.py:3922: UserWarning: Moving the following attributes in the config to the generation config: {'max_length': 142, 'min_length': 56, 'early_stopping': True, 'num_beams': 4, 'length_penalty': 2.0, 'no_repeat_ngram_size': 3, 'forced_bos_token_id': 0}. You are seeing this warning because you've set generation parameters in the model config, as opposed to in the generation config.\n",
      "  warnings.warn(\n"
     ]
    },
    {
     "data": {
      "text/plain": [
       "TrainOutput(global_step=500, training_loss=1.6106011047363282, metrics={'train_runtime': 431.4384, 'train_samples_per_second': 2.318, 'train_steps_per_second': 1.159, 'total_flos': 1068958206001152.0, 'train_loss': 1.6106011047363282, 'epoch': 1.0})"
      ]
     },
     "execution_count": 11,
     "metadata": {},
     "output_type": "execute_result"
    }
   ],
   "source": [
    "# 8. شروع آموزش\n",
    "trainer.train()"
   ]
  },
  {
   "cell_type": "markdown",
   "metadata": {
    "id": "Ul9eP4dX98fc"
   },
   "source": [
    "#### **Rouge**\n",
    "\n",
    " این معیار برای ارزیابی کیفیت خلاصه‌سازی استفاده میشه\n",
    "این معیار چند نسخه داره:\n",
    "\n",
    "ROUGE-1: (تک‌کلمه‌ای‌ها) ها n-gram مقایسه\n",
    "\n",
    "ROUGE-2: (دوکلمه‌ای)\n",
    " ها bigram مقایسه\n",
    "\n",
    "ROUGE-L: طولانی‌ترین زیر‌دنباله مشترک (LCS)\n",
    "\n",
    "__این معیار فقط شباهت سطحی یا واژه ای رو می‌سنجه، نه کیفیت معنایی__\n",
    "\n",
    "  مقادیر معمول برای معیارهای بالا در مقالات پژوهشی▶\n",
    "\n",
    "ROUGE-1 : بین 40 تا 45\n",
    "\n",
    "ROUGE-2 : بین 15 تا 22\n",
    "\n",
    "ROUGE-L : بین 35 تا 40\n",
    "\n",
    "__برای اینکه نتایج حاصل از فاین تیون بهتر شود داده آموزش و تعداد ایپاک آموزشی را بیشتر کنید__\n"
   ]
  },
  {
   "cell_type": "code",
   "execution_count": null,
   "metadata": {
    "collapsed": true,
    "id": "KywzyNOZCPsr",
    "jupyter": {
     "outputs_hidden": true
    }
   },
   "outputs": [],
   "source": [
    "# 9. تست روی یک نمونه\n",
    "sample = test_dataset[0][\"article\"]\n",
    "inputs = tokenizer(sample, return_tensors=\"pt\", truncation=True, max_length=512)\n",
    "summary_ids = model.generate(inputs[\"input_ids\"], max_length=128, num_beams=4)\n",
    "print(\"Predicted summary:\", tokenizer.decode(summary_ids[0], skip_special_tokens=True))"
   ]
  }
 ],
 "metadata": {
  "cells": [],
  "kernelspec": {
   "display_name": "",
   "name": ""
  },
  "language_info": {
   "name": ""
  },
  "metadata": {
   "kernelspec": {
    "display_name": "Python 3",
    "language": "python",
    "name": "python3"
   },
   "language_info": {
    "name": "python",
    "version": "3.10.12"
   }
  },
  "nbformat": 4,
  "nbformat_minor": 5
 },
 "nbformat": 4,
 "nbformat_minor": 4
}
