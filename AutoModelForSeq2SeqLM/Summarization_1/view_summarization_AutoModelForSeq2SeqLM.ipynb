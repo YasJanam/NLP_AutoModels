{
 "cells": [
  {
   "cell_type": "markdown",
   "metadata": {
    "id": "D8cmpbMt8yo7"
   },
   "source": [
    "## **Summarization**\n",
    "\n",
    "است AutoModelForSeq2SeqLM این کد یک نمونه ساده از بارگذاری مدل هاگینگ فیس با\n",
    "\n",
    "همچنین مدل با داده بسیار کمی فاین تیون شده است.میتوانید با هر دیتاستی و با هر اندازه دیتایی مدل را فاین تیون کنید .این کد فقط  مثال است"
   ]
  },
  {
   "cell_type": "code",
   "execution_count": 1,
   "metadata": {
    "id": "QrE_90ED94_L"
   },
   "outputs": [],
   "source": [
    "!pip install evaluate rouge_score"
   ]
  },
  {
   "cell_type": "code",
   "execution_count": 3,
   "metadata": {
    "id": "LRiz-Mv6IJTx"
   },
   "outputs": [],
   "source": [
    "from datasets import load_dataset\n",
    "from transformers import (\n",
    "    AutoTokenizer,\n",
    "    AutoModelForSeq2SeqLM,\n",
    "    DataCollatorForSeq2Seq,\n",
    "    Seq2SeqTrainer,\n",
    "    Seq2SeqTrainingArguments\n",
    ")\n",
    "import evaluate"
   ]
  },
  {
   "cell_type": "code",
   "execution_count": 4,
   "metadata": {
    "colab": {
     "base_uri": "https://localhost:8080/",
     "height": 621,
     "referenced_widgets": [
      "2db8e8639ff44574873a62550e54b759",
      "7058034fc101439d83fcaa58d1b8ea01",
      "d94bfa871e9540eaa177098b6a12550d",
      "f969de81327a4245a72c94d7f2e8a35c",
      "2b2ae8371ba5412faf3066413cf10b84",
      "b9922e98d53048cda5804d17421033fd",
      "242af70bade14f6c9cf6aa13d349c041",
      "88ebd4349ef24beba40f080f541251d6",
      "80c72a317ae14f96b7c524c728b66643",
      "02b80d9744d045e89ae59b9e6a4b520d",
      "b5301e10803042b8918fe6abb8867a1d",
      "91e91795cb2a45e7b7247fed9884b672",
      "345c0881c9e641a0994b4f17a3164076",
      "eba269b3bf7f43de80a1cd522005715a",
      "b37ffa0ac04949909f59d0728e339840",
      "d6a228295bc0449d97e0b83f91a049a2",
      "88741f79a61f4e478387ba04ff18ceb5",
      "0d32decb85dd43a7ad4863a0d82648d8",
      "46a7eeb7ea87431f9cb778d2d6d1359e",
      "390a0f7e686a454cab8977cb8d64f6b7",
      "d78da88053e14f008be34ff50b48697d",
      "c0f00b0c452e420087b0749ba341a881",
      "88c89076ada64b9a9e3d7f91ca30b824",
      "85549119478c40b4936e5e469daa9cb2",
      "c643c6437a1a44a89e3b591a59c289df",
      "21bf0e1df3bb47749e5aae9aec52fd79",
      "8693681a704241478bdfa943b1a28156",
      "0c26c1488e5e49c0805bee06fdc27500",
      "58c9ffab95d345908efa5283a26286d7",
      "b14fdd71ec6c4476ad7660ff5200a110",
      "4d8d2955cacd49aaaf6ece4f2203486c",
      "486bbd4ad7934cbbbacb510b5aa7f6f6",
      "71545eedfa2647359b43e9e9edeae5f4",
      "609c8e9566db4fdaa344f150d47f36b0",
      "13ae2c0df71d4468a7f46c605913d0ea",
      "952b41c5a6a34123bc626e0f2d1e966c",
      "dee18f6ccc394ebc81548f8c753d3ff0",
      "a8255e80dbcb4dcaaf0f11e0f8a8f6d8",
      "b9090f79068f468a9c8c9852c8289d3b",
      "8931d8c1d3a64856b109b0055d1b1e83",
      "31ba7a2e06644ecf80d94a74a4b3f5dc",
      "3ac020949d4b4267b2d08cd93dfc8d61",
      "dd579df1df2a4855812d1efe0328f9d8",
      "30c8cfe2cb1c429fa057b0c61fc7e7db",
      "89a682ff13ff4ef3899e39dc56eb8980",
      "20c89410c3534646b635a4fad01c525c",
      "3ab34fb42dae46bc8d70f4e4f2208dfd",
      "9bd63ef848294f51831fdd937b2a1f77",
      "27565622898e40698c71a441ed12fbf7",
      "ea8e2f91aec244e3b899d6d4b2e77cec",
      "e414b1fbe12c46d29c4a6f7afef0dda9",
      "cda1f8ab365c453a8ee4e36dfb68bcec",
      "95980cfd3300402892e325c06518dcdf",
      "98d23770cf7a46659fa1937260116e48",
      "264695ffbf474349aab3ab009143870a",
      "264f1829d1d447c68b02e211ecb5da0c",
      "c88b41c2d69b4b9fb9ee65015d6d1205",
      "a4cb508e699d490da4567ac9392906bd",
      "ac578b9729a24461b67bcd8b77323fcc",
      "96dec03dd4f44c1094f0f0ea1ff47090",
      "e355cce2e66740a9b8d65737cfb70898",
      "9165f611eec34812b26a7329751b3a46",
      "28b322f4d7cb4b799cdee4df1fd00972",
      "2151f4767154464fbdcf1555ed35712e",
      "f3ceb948fd434ff394aae6ff7f2f7f24",
      "681f43d36104438db3913f6080498a9f",
      "4b40060046ad47e0b83f7009b152810b",
      "ea30f26b7b894d4e9e4afe658ea02538",
      "8b627a8ebe654f93a58f850e70b114f7",
      "627dd4caf76640a2b06b6aedb2b678c7",
      "6ad896df2e1f448bbade52000f9be0e6",
      "471b151053f54bde978202faf2b8e493",
      "7c5d4fc113994926b3d3485f51f43ba8",
      "ff18f8df94c44493abecb7032f94d52c",
      "2627e2d51bf54eb385d521a4642ce835",
      "ca52f2ec08fb4efc95b32c2150d7ba2f",
      "b794cb5706824f58b73c740e99209ce6",
      "4f4853485e444620ab028757a57a3fdc",
      "c644d22c577d4e3c87a07ee3b6b1912f",
      "53252e00cae74e3faf7854d97713e851",
      "501dce214b5142b99cd803499c4a5577",
      "400297861c73478eba8fa374a8971c07",
      "53756da011504df6aebc8396a75968c6",
      "4ca0e3d1aff34c1898c080291940e001",
      "3a69b77e9b71421bace58b04a7b61330",
      "74f1ba850d1b4282ad197f5928c75837",
      "2dadaa5b246f4713bff0f892161f6820",
      "aa823bf71aa84f6c9a0d102561d0b5f9",
      "7a6187f13b6c4cf7b5a4d79e512c97cb",
      "4292ea8d18b74017b98b2b641ec41c5a",
      "7939d0e336d246deb4eb01c58cc649ea",
      "ff2bdd9b38ed438f8eea9753c25c01fd",
      "a8490605381f44129759d4da5336b683",
      "be884d6d8aca4b22a71d3a3a759664f9",
      "a671d9e3c67548ecab1442523006fccb",
      "b14db0f4245644939d37e6bc1e0b1a54",
      "3d528cc14c09425da9661c623396ee0f",
      "9ccee475136c45409a92468b2615eab9",
      "413074eba7f94d4485c6d67171120f2b",
      "1c0b71ef770d4efba1a738aeeb4d5995",
      "c1f41d96e08e43e18f3f09a9f35585fd",
      "6d8ffc10ecc54c6793effddf600062c6",
      "0f551d0598b342b4a1c710f6d0fee39d",
      "e946ff644a9f407f90eac654d0b2a212",
      "eb7d857082474abf9db4136cb560bf2c",
      "2e42fbb591084227a2dae9ef1476da6e",
      "c96da3108ddb4302ba1b32648d2a2e21",
      "da4ff932e72c4ea091a30a654a50c3f1",
      "ad6e1ec6de6a45ed8b64b0106c98a469",
      "72b9d8ee2460483c8a3379e8277be27a",
      "2d7db6550d4a4ee7b5c4697538d1a0b4",
      "97f268deda234512875a8d6561f2136b",
      "1603bccd5f3f4d3c885bb6fe99b3e253",
      "1c16557339594576ad3d6aa03223c8a6",
      "3848ad2104b34e19a707e171e05691e8",
      "77ea221db9a5473187e538787f8f201f",
      "6279d2acf1ba422daabb8bfd026a03b5",
      "71e2548d2ea54736bf0ce8a87b36a24f",
      "c12964821ce740bead7105431dba48f6",
      "b9545f851c7d49e6ab4b602aabd671e7",
      "fd7d184f69dc434ba3acc7fee5a3f51f",
      "7d24e6b8e43647eda9f0f0a1f41e3646",
      "1941aaffe419407bb3fc67b68c99c707",
      "440fabc313d04d7582de7ca22ca2b96f",
      "a89abc3ae3474761bbb7afcc65588a2f",
      "8a48ee004e07447084e78808e8fbc048",
      "abb236d0aa7b4d3795fa91b7a4d2d026",
      "bb6051a2324e4b299d49c9f0893790b6",
      "2eca357b3935425e9bfe13904bbc61de",
      "c047a675dd0345e5b6083af70938e4e3",
      "e87dd9c455214febb3a99eaf6f9daa13",
      "38be323383324672a8e04913344a53e4",
      "de6e93bbbf104ccfb7c764690f476ed8",
      "579a5c7d6bc94a44932f0835cc9b0b08",
      "af6cd83bf2a44b20836cca65203b9068",
      "34d21019a35343c4a908a640de654a81",
      "ec2ae7d732514499af8d498d1cce44b4",
      "49c425c2f68d47b2962ec8993647de69",
      "f23c359da08e4d188693b0d4271cfb46",
      "bfbc673933174f70a99ab5a2258d85bb",
      "72240656dc104970a2ff915ce0f98d18",
      "3e34765a19eb440399d7c381cad0ed56",
      "47cdc3312a284b13859ce74b1c843fd6",
      "037637804a5d462690cca5d1dbfd7e1e",
      "95a54ba566ba4231b3fd24191103713f",
      "5ab73be84b154076ad6ddf645abd85e5",
      "3e4aa2d65bfd4a1d9f747ef7a42ab4a6",
      "95ae38e1fd30453bb392528c6f4dd739",
      "13f843c8feab4194a16f462366adcd22",
      "1d27ed30beed4056acc5a68d3000521d",
      "2b6af9cf474c4e61ae15245c1b952e74",
      "b887d3be953e43758b1377b0ea411fed",
      "f4e2709e8ae64b3f9b44b5cad73fff49",
      "88bd350c1d3c48329147251f16b83db3",
      "b51b4b418fe14ddeb38cf7390e70b5c1",
      "06ab1d3711bc410d94e153186c4c2f0c",
      "91d690ae2d42457b8b71e48954c5a262",
      "d59e5dc71a9a42eab41c9aa92e9f3eca",
      "9e9d0552a909424786da852eec0cce06",
      "cb90929862c648799c4bff15996d9da9",
      "2ac2c770037444d9ad63c48388cb36b3",
      "3d66148b293c4432ad86233aaf05ec42",
      "f1197c9085424155a076b90712d81208",
      "2c5469c7479d45fca8e316156a47a43f",
      "9fb490dccfa14378b7aab4c158c48602"
     ]
    },
    "id": "F55HYfFK8wvr",
    "outputId": "60d7ea01-1e27-4807-dd4a-741abcf7acbb"
   },
   "outputs": [
    {
     "name": "stderr",
     "output_type": "stream",
     "text": [
      "/usr/local/lib/python3.12/dist-packages/huggingface_hub/utils/_auth.py:94: UserWarning: \n",
      "The secret `HF_TOKEN` does not exist in your Colab secrets.\n",
      "To authenticate with the Hugging Face Hub, create a token in your settings tab (https://huggingface.co/settings/tokens), set it as secret in your Google Colab and restart your session.\n",
      "You will be able to reuse this secret in all of your notebooks.\n",
      "Please note that authentication is recommended but still optional to access public models or datasets.\n",
      "  warnings.warn(\n"
     ]
    },
    {
     "data": {
      "application/vnd.jupyter.widget-view+json": {
       "model_id": "2db8e8639ff44574873a62550e54b759",
       "version_major": 2,
       "version_minor": 0
      },
      "text/plain": [
       "README.md: 0.00B [00:00, ?B/s]"
      ]
     },
     "metadata": {},
     "output_type": "display_data"
    },
    {
     "data": {
      "application/vnd.jupyter.widget-view+json": {
       "model_id": "91e91795cb2a45e7b7247fed9884b672",
       "version_major": 2,
       "version_minor": 0
      },
      "text/plain": [
       "train-00000-of-00003.parquet:   0%|          | 0.00/257M [00:00<?, ?B/s]"
      ]
     },
     "metadata": {},
     "output_type": "display_data"
    },
    {
     "data": {
      "application/vnd.jupyter.widget-view+json": {
       "model_id": "88c89076ada64b9a9e3d7f91ca30b824",
       "version_major": 2,
       "version_minor": 0
      },
      "text/plain": [
       "train-00001-of-00003.parquet:   0%|          | 0.00/257M [00:00<?, ?B/s]"
      ]
     },
     "metadata": {},
     "output_type": "display_data"
    },
    {
     "data": {
      "application/vnd.jupyter.widget-view+json": {
       "model_id": "609c8e9566db4fdaa344f150d47f36b0",
       "version_major": 2,
       "version_minor": 0
      },
      "text/plain": [
       "train-00002-of-00003.parquet:   0%|          | 0.00/259M [00:00<?, ?B/s]"
      ]
     },
     "metadata": {},
     "output_type": "display_data"
    },
    {
     "data": {
      "application/vnd.jupyter.widget-view+json": {
       "model_id": "89a682ff13ff4ef3899e39dc56eb8980",
       "version_major": 2,
       "version_minor": 0
      },
      "text/plain": [
       "validation-00000-of-00001.parquet:   0%|          | 0.00/34.7M [00:00<?, ?B/s]"
      ]
     },
     "metadata": {},
     "output_type": "display_data"
    },
    {
     "data": {
      "application/vnd.jupyter.widget-view+json": {
       "model_id": "264f1829d1d447c68b02e211ecb5da0c",
       "version_major": 2,
       "version_minor": 0
      },
      "text/plain": [
       "test-00000-of-00001.parquet:   0%|          | 0.00/30.0M [00:00<?, ?B/s]"
      ]
     },
     "metadata": {},
     "output_type": "display_data"
    },
    {
     "data": {
      "application/vnd.jupyter.widget-view+json": {
       "model_id": "4b40060046ad47e0b83f7009b152810b",
       "version_major": 2,
       "version_minor": 0
      },
      "text/plain": [
       "Generating train split:   0%|          | 0/287113 [00:00<?, ? examples/s]"
      ]
     },
     "metadata": {},
     "output_type": "display_data"
    },
    {
     "data": {
      "application/vnd.jupyter.widget-view+json": {
       "model_id": "4f4853485e444620ab028757a57a3fdc",
       "version_major": 2,
       "version_minor": 0
      },
      "text/plain": [
       "Generating validation split:   0%|          | 0/13368 [00:00<?, ? examples/s]"
      ]
     },
     "metadata": {},
     "output_type": "display_data"
    },
    {
     "data": {
      "application/vnd.jupyter.widget-view+json": {
       "model_id": "7a6187f13b6c4cf7b5a4d79e512c97cb",
       "version_major": 2,
       "version_minor": 0
      },
      "text/plain": [
       "Generating test split:   0%|          | 0/11490 [00:00<?, ? examples/s]"
      ]
     },
     "metadata": {},
     "output_type": "display_data"
    },
    {
     "data": {
      "application/vnd.jupyter.widget-view+json": {
       "model_id": "1c0b71ef770d4efba1a738aeeb4d5995",
       "version_major": 2,
       "version_minor": 0
      },
      "text/plain": [
       "config.json: 0.00B [00:00, ?B/s]"
      ]
     },
     "metadata": {},
     "output_type": "display_data"
    },
    {
     "data": {
      "application/vnd.jupyter.widget-view+json": {
       "model_id": "2d7db6550d4a4ee7b5c4697538d1a0b4",
       "version_major": 2,
       "version_minor": 0
      },
      "text/plain": [
       "vocab.json: 0.00B [00:00, ?B/s]"
      ]
     },
     "metadata": {},
     "output_type": "display_data"
    },
    {
     "data": {
      "application/vnd.jupyter.widget-view+json": {
       "model_id": "7d24e6b8e43647eda9f0f0a1f41e3646",
       "version_major": 2,
       "version_minor": 0
      },
      "text/plain": [
       "merges.txt: 0.00B [00:00, ?B/s]"
      ]
     },
     "metadata": {},
     "output_type": "display_data"
    },
    {
     "data": {
      "application/vnd.jupyter.widget-view+json": {
       "model_id": "de6e93bbbf104ccfb7c764690f476ed8",
       "version_major": 2,
       "version_minor": 0
      },
      "text/plain": [
       "tokenizer.json: 0.00B [00:00, ?B/s]"
      ]
     },
     "metadata": {},
     "output_type": "display_data"
    },
    {
     "data": {
      "application/vnd.jupyter.widget-view+json": {
       "model_id": "037637804a5d462690cca5d1dbfd7e1e",
       "version_major": 2,
       "version_minor": 0
      },
      "text/plain": [
       "model.safetensors:   0%|          | 0.00/1.63G [00:00<?, ?B/s]"
      ]
     },
     "metadata": {},
     "output_type": "display_data"
    },
    {
     "data": {
      "application/vnd.jupyter.widget-view+json": {
       "model_id": "b51b4b418fe14ddeb38cf7390e70b5c1",
       "version_major": 2,
       "version_minor": 0
      },
      "text/plain": [
       "generation_config.json:   0%|          | 0.00/363 [00:00<?, ?B/s]"
      ]
     },
     "metadata": {},
     "output_type": "display_data"
    }
   ],
   "source": [
    "# 1. دیتاست\n",
    "train_dataset = load_dataset(\"cnn_dailymail\", \"3.0.0\", split=\"train[:1000]\")\n",
    "val_dataset = load_dataset(\"cnn_dailymail\", \"3.0.0\", split=\"validation[:200]\")\n",
    "test_dataset = load_dataset(\"cnn_dailymail\", \"3.0.0\", split=\"test[:500]\")\n",
    "\n",
    "# 2. مدل و توکنایزر\n",
    "model_name = \"facebook/bart-large-cnn\"\n",
    "tokenizer = AutoTokenizer.from_pretrained(model_name)\n",
    "model = AutoModelForSeq2SeqLM.from_pretrained(model_name)"
   ]
  },
  {
   "cell_type": "code",
   "execution_count": 5,
   "metadata": {
    "id": "crOYAGcA-cJZ"
   },
   "outputs": [],
   "source": [
    "# 3. پیش‌پردازش داده‌ها\n",
    "max_input_length = 512\n",
    "max_target_length = 128"
   ]
  },
  {
   "cell_type": "code",
   "execution_count": 6,
   "metadata": {
    "id": "w-gL9Ze_-hbP"
   },
   "outputs": [],
   "source": [
    "def preprocess(examples):\n",
    "    inputs = examples[\"article\"]\n",
    "    targets = examples[\"highlights\"]\n",
    "    model_inputs = tokenizer(inputs, max_length=max_input_length, truncation=True)\n",
    "\n",
    "    # tokenize summaries\n",
    "    labels = tokenizer(targets, max_length=max_target_length, truncation=True)\n",
    "    model_inputs[\"labels\"] = labels[\"input_ids\"]\n",
    "    return model_inputs"
   ]
  },
  {
   "cell_type": "code",
   "execution_count": 7,
   "metadata": {
    "colab": {
     "base_uri": "https://localhost:8080/",
     "height": 81,
     "referenced_widgets": [
      "388b1e2a783d45e48381bf4d5a88c45a",
      "3d12bdcb96dd4dddb320e21f3a07b828",
      "e244322d54374524ab0959a7b2a0885f",
      "9f590d84fb5f4bed9c733481aef9b266",
      "ff093eecc3984744b10fd0c0fd6f82cb",
      "c3e4be60cf4047cc9bf669ef0efc0e0e",
      "4d0985dd353644babac2d6e098c48a24",
      "16e75f9d495e48f1a2ea7aa25f5d33f5",
      "03ed01c516294333ac322f50c1d8e908",
      "3d08092458764156904a7f3cb9ef24eb",
      "9f572d908bd74e8489ca431d0b8dc476",
      "6200b70c9b954343b2d0166934171d05",
      "1b66784b07454bbfa3f942eaba58c7c0",
      "ceb9c69509aa408fbf7d6cb4af604650",
      "06b6c7d9408449fa8f956bc2895e40af",
      "873b314488cc4a08865fcae06fe86a84",
      "1410ea8987084b7383e1bd618c6c6965",
      "73fc7380f7aa4be0849dd76d16abff47",
      "5a213394b54541e8ba0a3bcbcb4e6f58",
      "add9203b23394c9192815cbff889864f",
      "2bd7efa1dd754923b7458353316988c9",
      "3696eba2f2e44b34841a006900947737"
     ]
    },
    "id": "HvWGh-js-n4f",
    "outputId": "b10f477a-8f2a-4456-b0fb-e6f959571831"
   },
   "outputs": [
    {
     "data": {
      "application/vnd.jupyter.widget-view+json": {
       "model_id": "388b1e2a783d45e48381bf4d5a88c45a",
       "version_major": 2,
       "version_minor": 0
      },
      "text/plain": [
       "Map:   0%|          | 0/1000 [00:00<?, ? examples/s]"
      ]
     },
     "metadata": {},
     "output_type": "display_data"
    },
    {
     "data": {
      "application/vnd.jupyter.widget-view+json": {
       "model_id": "6200b70c9b954343b2d0166934171d05",
       "version_major": 2,
       "version_minor": 0
      },
      "text/plain": [
       "Map:   0%|          | 0/200 [00:00<?, ? examples/s]"
      ]
     },
     "metadata": {},
     "output_type": "display_data"
    }
   ],
   "source": [
    "tokenized_tarin_data = train_dataset.map(\n",
    "    preprocess,\n",
    "    batched=True,\n",
    "    remove_columns=[\"article\", \"highlights\", \"id\"]\n",
    ")\n",
    "\n",
    "tokenized_val_data = val_dataset.map(\n",
    "    preprocess,\n",
    "    batched=True,\n",
    "    remove_columns=[\"article\", \"highlights\", \"id\"]\n",
    ")"
   ]
  },
  {
   "cell_type": "code",
   "execution_count": 8,
   "metadata": {
    "colab": {
     "base_uri": "https://localhost:8080/"
    },
    "id": "CEK2w1AJ_qBO",
    "outputId": "c24d2902-6951-467f-e2b9-9c625637ec30"
   },
   "outputs": [
    {
     "data": {
      "text/plain": [
       "Dataset({\n",
       "    features: ['input_ids', 'attention_mask', 'labels'],\n",
       "    num_rows: 1000\n",
       "})"
      ]
     },
     "execution_count": 8,
     "metadata": {},
     "output_type": "execute_result"
    }
   ],
   "source": [
    "tokenized_tarin_data"
   ]
  },
  {
   "cell_type": "code",
   "execution_count": 7,
   "metadata": {
    "id": "ZAeN3QW2_ugu"
   },
   "outputs": [],
   "source": [
    "# 4. Data collator\n",
    "data_collator = DataCollatorForSeq2Seq(tokenizer, model=model)"
   ]
  },
  {
   "cell_type": "code",
   "execution_count": 8,
   "metadata": {
    "id": "x6ZlHfSZBR1V"
   },
   "outputs": [],
   "source": [
    "# 5. متریک (ROUGE)\n",
    "rouge = evaluate.load(\"rouge\")\n",
    "\n",
    "def compute_metrics(eval_pred):\n",
    "    predictions, labels = eval_pred\n",
    "    decoded_preds = tokenizer.batch_decode(predictions, skip_special_tokens=True)\n",
    "\n",
    "    # replace -100 (padding token id) with pad_token_id\n",
    "    labels = [[(l if l != -100 else tokenizer.pad_token_id) for l in label] for label in labels]\n",
    "    decoded_labels = tokenizer.batch_decode(labels, skip_special_tokens=True)\n",
    "\n",
    "    result = rouge.compute(predictions=decoded_preds, references=decoded_labels)\n",
    "    return {k: round(v, 4) for k, v in result.items()}"
   ]
  },
  {
   "cell_type": "code",
   "execution_count": 9,
   "metadata": {
    "id": "VsW_m3baBoNC"
   },
   "outputs": [],
   "source": [
    "# 6. تنظیمات آموزش\n",
    "training_args = Seq2SeqTrainingArguments(\n",
    "    output_dir=\"./summarization-model\",\n",
    "    eval_strategy=\"epoch\",\n",
    "    learning_rate=5e-5,\n",
    "    per_device_train_batch_size=2,\n",
    "    per_device_eval_batch_size=2,\n",
    "    weight_decay=0.01,\n",
    "    save_total_limit=2,\n",
    "    num_train_epochs=1,\n",
    "    predict_with_generate=True,   # 👈 مهم برای Seq2Seq\n",
    "    fp16=True,                    # در GPU سریع‌تر\n",
    "    logging_dir='./logs',\n",
    "    logging_steps=100,\n",
    "    report_to = \"tensorboard\"\n",
    ")"
   ]
  },
  {
   "cell_type": "code",
   "execution_count": 10,
   "metadata": {
    "colab": {
     "base_uri": "https://localhost:8080/"
    },
    "id": "TQZgM2kxB1Zz",
    "outputId": "4f76efe7-4405-4fac-ea5b-472774189c5f"
   },
   "outputs": [
    {
     "name": "stderr",
     "output_type": "stream",
     "text": [
      "/tmp/ipython-input-1220629308.py:2: FutureWarning: `tokenizer` is deprecated and will be removed in version 5.0.0 for `Seq2SeqTrainer.__init__`. Use `processing_class` instead.\n",
      "  trainer = Seq2SeqTrainer(\n"
     ]
    }
   ],
   "source": [
    "# 7. Trainer\n",
    "trainer = Seq2SeqTrainer(\n",
    "    model=model,\n",
    "    args=training_args,\n",
    "    train_dataset=tokenized_tarin_data,\n",
    "    eval_dataset=tokenized_val_data,\n",
    "    tokenizer=tokenizer,\n",
    "    data_collator=data_collator,\n",
    "    compute_metrics=compute_metrics,\n",
    ")"
   ]
  },
  {
   "cell_type": "code",
   "execution_count": 11,
   "metadata": {
    "colab": {
     "base_uri": "https://localhost:8080/",
     "height": 196
    },
    "id": "_zIrn1CDCE6r",
    "outputId": "43718484-66e8-4b2a-aef6-a194997fc614"
   },
   "outputs": [
    {
     "data": {
      "text/html": [
       "\n",
       "    <div>\n",
       "      \n",
       "      <progress value='500' max='500' style='width:300px; height:20px; vertical-align: middle;'></progress>\n",
       "      [500/500 07:10, Epoch 1/1]\n",
       "    </div>\n",
       "    <table border=\"1\" class=\"dataframe\">\n",
       "  <thead>\n",
       " <tr style=\"text-align: left;\">\n",
       "      <th>Epoch</th>\n",
       "      <th>Training Loss</th>\n",
       "      <th>Validation Loss</th>\n",
       "      <th>Rouge1</th>\n",
       "      <th>Rouge2</th>\n",
       "      <th>Rougel</th>\n",
       "      <th>Rougelsum</th>\n",
       "    </tr>\n",
       "  </thead>\n",
       "  <tbody>\n",
       "    <tr>\n",
       "      <td>1</td>\n",
       "      <td>1.482000</td>\n",
       "      <td>1.862360</td>\n",
       "      <td>0.335400</td>\n",
       "      <td>0.147800</td>\n",
       "      <td>0.242600</td>\n",
       "      <td>0.312200</td>\n",
       "    </tr>\n",
       "  </tbody>\n",
       "</table><p>"
      ],
      "text/plain": [
       "<IPython.core.display.HTML object>"
      ]
     },
     "metadata": {},
     "output_type": "display_data"
    },
    {
     "name": "stderr",
     "output_type": "stream",
     "text": [
      "/usr/local/lib/python3.12/dist-packages/transformers/modeling_utils.py:3922: UserWarning: Moving the following attributes in the config to the generation config: {'max_length': 142, 'min_length': 56, 'early_stopping': True, 'num_beams': 4, 'length_penalty': 2.0, 'no_repeat_ngram_size': 3, 'forced_bos_token_id': 0}. You are seeing this warning because you've set generation parameters in the model config, as opposed to in the generation config.\n",
      "  warnings.warn(\n"
     ]
    },
    {
     "data": {
      "text/plain": [
       "TrainOutput(global_step=500, training_loss=1.6106011047363282, metrics={'train_runtime': 431.4384, 'train_samples_per_second': 2.318, 'train_steps_per_second': 1.159, 'total_flos': 1068958206001152.0, 'train_loss': 1.6106011047363282, 'epoch': 1.0})"
      ]
     },
     "execution_count": 11,
     "metadata": {},
     "output_type": "execute_result"
    }
   ],
   "source": [
    "# 8. شروع آموزش\n",
    "trainer.train()"
   ]
  },
  {
   "cell_type": "markdown",
   "metadata": {
    "id": "Ul9eP4dX98fc"
   },
   "source": [
    "#### **Rouge**\n",
    "\n",
    " این معیار برای ارزیابی کیفیت خلاصه‌سازی استفاده میشه\n",
    "این معیار چند نسخه داره:\n",
    "\n",
    "ROUGE-1: (تک‌کلمه‌ای‌ها) ها n-gram مقایسه\n",
    "\n",
    "ROUGE-2: (دوکلمه‌ای)\n",
    " ها bigram مقایسه\n",
    "\n",
    "ROUGE-L: طولانی‌ترین زیر‌دنباله مشترک (LCS)\n",
    "\n",
    "__این معیار فقط شباهت سطحی یا واژه ای رو می‌سنجه، نه کیفیت معنایی__\n",
    "\n",
    "  مقادیر معمول برای معیارهای بالا در مقالات پژوهشی▶\n",
    "\n",
    "ROUGE-1 : بین 40 تا 45\n",
    "\n",
    "ROUGE-2 : بین 15 تا 22\n",
    "\n",
    "ROUGE-L : بین 35 تا 40\n",
    "\n",
    "__برای اینکه نتایج حاصل از فاین تیون بهتر شود داده آموزش و تعداد ایپاک آموزشی را بیشتر کنید__\n"
   ]
  },
  {
   "cell_type": "code",
   "execution_count": null,
   "metadata": {
    "collapsed": true,
    "id": "KywzyNOZCPsr",
    "jupyter": {
     "outputs_hidden": true
    }
   },
   "outputs": [],
   "source": [
    "# 9. تست روی یک نمونه\n",
    "sample = test_dataset[0][\"article\"]\n",
    "inputs = tokenizer(sample, return_tensors=\"pt\", truncation=True, max_length=512)\n",
    "summary_ids = model.generate(inputs[\"input_ids\"], max_length=128, num_beams=4)\n",
    "print(\"Predicted summary:\", tokenizer.decode(summary_ids[0], skip_special_tokens=True))"
   ]
  }
 ],
 "metadata": {
  "cells": [],
  "kernelspec": {
   "display_name": "",
   "name": ""
  },
  "language_info": {
   "name": ""
  },
  "metadata": {
   "kernelspec": {
    "display_name": "Python 3",
    "language": "python",
    "name": "python3"
   },
   "language_info": {
    "name": "python",
    "version": "3.10.12"
   }
  },
  "nbformat": 4,
  "nbformat_minor": 5
 },
 "nbformat": 4,
 "nbformat_minor": 4
}
