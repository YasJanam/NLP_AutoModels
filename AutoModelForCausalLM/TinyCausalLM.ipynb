{
  "nbformat": 4,
  "nbformat_minor": 0,
  "metadata": {
    "colab": {
      "provenance": []
    },
    "kernelspec": {
      "name": "python3",
      "display_name": "Python 3"
    },
    "language_info": {
      "name": "python"
    }
  },
  "cells": [
    {
      "cell_type": "code",
      "execution_count": 1,
      "metadata": {
        "id": "I4xbT_sYvrMB"
      },
      "outputs": [],
      "source": [
        "import torch\n",
        "import torch.nn as nn\n",
        "import torch.nn.functional as F"
      ]
    },
    {
      "cell_type": "code",
      "source": [
        "class TinyCausalLM(nn.Module):\n",
        "  def __init__(self, vocab_size, d_model, n_heads, n_layers):\n",
        "    super().__init__()\n",
        "    self.embedding = nn.Embedding(vocab_size, d_model)\n",
        "    self.pos_embedding = nn.Embedding(512, d_model)\n",
        "    decoder_layer = nn.TransformerDecoderLayer(d_model, n_heads)\n",
        "    self.decoder = nn.TransformerDecoder(decoder_layer, n_layers)\n",
        "    # خروجی نهایی : برداری به اندازه تعداد واژگان\n",
        "    # همون لایه خطی که خروجی را به شکل یک توزیع احتمال روی واژگان میده :\n",
        "    self.fc_out = nn.Linear(d_model, vocab_size)\n",
        "\n",
        "  def forward(self, x):\n",
        "    seq_len, batch_size = x.shape\n",
        "    positions = torch.arange(0, seq_len, device=x.device).unsqueeze(1)\n",
        "    x = self.embedding(x) + self.pos_embedding(positions)\n",
        "\n",
        "    # causal mask\n",
        "    mask = torch.triu(torch.ones(seq_len, seq_len), diagonal=1).bool().to(x.device)\n",
        "\n",
        "    x = self.decoder(x, x, tgt_mask=mask)\n",
        "    return self.fc_out(x)"
      ],
      "metadata": {
        "id": "F_A9lUjLB2hJ"
      },
      "execution_count": 3,
      "outputs": []
    },
    {
      "cell_type": "code",
      "source": [
        "vocab_size = 100\n",
        "model = TinyCausalLM(vocab_size, d_model=64, n_heads=4, n_layers=2)"
      ],
      "metadata": {
        "id": "GUPuuut8EwTr"
      },
      "execution_count": 5,
      "outputs": []
    },
    {
      "cell_type": "code",
      "source": [
        "print(model)"
      ],
      "metadata": {
        "colab": {
          "base_uri": "https://localhost:8080/"
        },
        "id": "5Xpa87sLFPlQ",
        "outputId": "9d1a8451-0f84-4447-858e-59a1a8b849a8"
      },
      "execution_count": 9,
      "outputs": [
        {
          "output_type": "stream",
          "name": "stdout",
          "text": [
            "TinyCausalLM(\n",
            "  (embedding): Embedding(100, 64)\n",
            "  (pos_embedding): Embedding(512, 64)\n",
            "  (decoder): TransformerDecoder(\n",
            "    (layers): ModuleList(\n",
            "      (0-1): 2 x TransformerDecoderLayer(\n",
            "        (self_attn): MultiheadAttention(\n",
            "          (out_proj): NonDynamicallyQuantizableLinear(in_features=64, out_features=64, bias=True)\n",
            "        )\n",
            "        (multihead_attn): MultiheadAttention(\n",
            "          (out_proj): NonDynamicallyQuantizableLinear(in_features=64, out_features=64, bias=True)\n",
            "        )\n",
            "        (linear1): Linear(in_features=64, out_features=2048, bias=True)\n",
            "        (dropout): Dropout(p=0.1, inplace=False)\n",
            "        (linear2): Linear(in_features=2048, out_features=64, bias=True)\n",
            "        (norm1): LayerNorm((64,), eps=1e-05, elementwise_affine=True)\n",
            "        (norm2): LayerNorm((64,), eps=1e-05, elementwise_affine=True)\n",
            "        (norm3): LayerNorm((64,), eps=1e-05, elementwise_affine=True)\n",
            "        (dropout1): Dropout(p=0.1, inplace=False)\n",
            "        (dropout2): Dropout(p=0.1, inplace=False)\n",
            "        (dropout3): Dropout(p=0.1, inplace=False)\n",
            "      )\n",
            "    )\n",
            "  )\n",
            "  (fc_out): Linear(in_features=64, out_features=100, bias=True)\n",
            ")\n"
          ]
        }
      ]
    }
  ]
}